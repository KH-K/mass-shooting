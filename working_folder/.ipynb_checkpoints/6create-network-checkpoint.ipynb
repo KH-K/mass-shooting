{
 "cells": [
  {
   "cell_type": "markdown",
   "metadata": {
    "colab_type": "text",
    "id": "iFfJIeKDNMpM"
   },
   "source": [
    "---\n",
    "\n",
    "# Create network\n",
    "\n",
    "In this notebook, I tried to create a network from the merged dataset (retrieved from GunViolenceArchive and MotherJones) \n",
    "\n",
    "---\n"
   ]
  },
  {
   "cell_type": "code",
   "execution_count": 17,
   "metadata": {
    "colab": {},
    "colab_type": "code",
    "id": "VhqdyH2vNQUx"
   },
   "outputs": [],
   "source": [
    "import numpy as np\n",
    "import pandas as pd\n",
    "import networkx as nx\n",
    "import seaborn as sns\n",
    "import matplotlib.pyplot as plt"
   ]
  },
  {
   "cell_type": "code",
   "execution_count": 23,
   "metadata": {
    "colab": {
     "base_uri": "https://localhost:8080/",
     "height": 530
    },
    "colab_type": "code",
    "executionInfo": {
     "elapsed": 366,
     "status": "ok",
     "timestamp": 1583981465944,
     "user": {
      "displayName": "Keonho Kim",
      "photoUrl": "",
      "userId": "05398618637237030774"
     },
     "user_tz": 240
    },
    "id": "yLHtUSPDNRlK",
    "outputId": "b2f125f1-e504-48d4-e855-3a16e7c48858"
   },
   "outputs": [
    {
     "data": {
      "text/html": [
       "<div>\n",
       "<style scoped>\n",
       "    .dataframe tbody tr th:only-of-type {\n",
       "        vertical-align: middle;\n",
       "    }\n",
       "\n",
       "    .dataframe tbody tr th {\n",
       "        vertical-align: top;\n",
       "    }\n",
       "\n",
       "    .dataframe thead th {\n",
       "        text-align: right;\n",
       "    }\n",
       "</style>\n",
       "<table border=\"1\" class=\"dataframe\">\n",
       "  <thead>\n",
       "    <tr style=\"text-align: right;\">\n",
       "      <th></th>\n",
       "      <th>ind</th>\n",
       "      <th>ind_t</th>\n",
       "      <th>date</th>\n",
       "      <th>adr</th>\n",
       "      <th>p</th>\n",
       "      <th>n_killed</th>\n",
       "      <th>n_injured</th>\n",
       "      <th>state</th>\n",
       "      <th>LON</th>\n",
       "      <th>LAT</th>\n",
       "      <th>...</th>\n",
       "      <th>mental_health_details</th>\n",
       "      <th>weapons_obtained_legally</th>\n",
       "      <th>where_obtained</th>\n",
       "      <th>weapon_type</th>\n",
       "      <th>weapon_details</th>\n",
       "      <th>race</th>\n",
       "      <th>gender</th>\n",
       "      <th>mental_health_sources</th>\n",
       "      <th>sources_additional_age</th>\n",
       "      <th>type</th>\n",
       "    </tr>\n",
       "  </thead>\n",
       "  <tbody>\n",
       "    <tr>\n",
       "      <th>0</th>\n",
       "      <td>0</td>\n",
       "      <td>0</td>\n",
       "      <td>2014-01-01</td>\n",
       "      <td>Rockingham Street and Berkley Avenue Extended ...</td>\n",
       "      <td>2.855649</td>\n",
       "      <td>2</td>\n",
       "      <td>2</td>\n",
       "      <td>Virginia</td>\n",
       "      <td>-76.278935</td>\n",
       "      <td>36.830789</td>\n",
       "      <td>...</td>\n",
       "      <td>NaN</td>\n",
       "      <td>NaN</td>\n",
       "      <td>NaN</td>\n",
       "      <td>NaN</td>\n",
       "      <td>NaN</td>\n",
       "      <td>NaN</td>\n",
       "      <td>NaN</td>\n",
       "      <td>NaN</td>\n",
       "      <td>NaN</td>\n",
       "      <td>NaN</td>\n",
       "    </tr>\n",
       "    <tr>\n",
       "      <th>1</th>\n",
       "      <td>1</td>\n",
       "      <td>1</td>\n",
       "      <td>2014-01-03</td>\n",
       "      <td>Farmers Boulevard and 133rd Avenue Queens New ...</td>\n",
       "      <td>2.390389</td>\n",
       "      <td>1</td>\n",
       "      <td>3</td>\n",
       "      <td>New York</td>\n",
       "      <td>-73.762898</td>\n",
       "      <td>40.677500</td>\n",
       "      <td>...</td>\n",
       "      <td>NaN</td>\n",
       "      <td>NaN</td>\n",
       "      <td>NaN</td>\n",
       "      <td>NaN</td>\n",
       "      <td>NaN</td>\n",
       "      <td>NaN</td>\n",
       "      <td>NaN</td>\n",
       "      <td>NaN</td>\n",
       "      <td>NaN</td>\n",
       "      <td>NaN</td>\n",
       "    </tr>\n",
       "    <tr>\n",
       "      <th>2</th>\n",
       "      <td>2</td>\n",
       "      <td>2</td>\n",
       "      <td>2014-01-05</td>\n",
       "      <td>829 Parade St Erie Pennsylvania</td>\n",
       "      <td>2.390389</td>\n",
       "      <td>1</td>\n",
       "      <td>3</td>\n",
       "      <td>Pennsylvania</td>\n",
       "      <td>-80.074524</td>\n",
       "      <td>42.130038</td>\n",
       "      <td>...</td>\n",
       "      <td>NaN</td>\n",
       "      <td>NaN</td>\n",
       "      <td>NaN</td>\n",
       "      <td>NaN</td>\n",
       "      <td>NaN</td>\n",
       "      <td>NaN</td>\n",
       "      <td>NaN</td>\n",
       "      <td>NaN</td>\n",
       "      <td>NaN</td>\n",
       "      <td>NaN</td>\n",
       "    </tr>\n",
       "    <tr>\n",
       "      <th>3</th>\n",
       "      <td>3</td>\n",
       "      <td>3</td>\n",
       "      <td>2014-01-11</td>\n",
       "      <td>3430 W. Capitol Street Jackson Mississippi</td>\n",
       "      <td>1.515717</td>\n",
       "      <td>0</td>\n",
       "      <td>4</td>\n",
       "      <td>Mississippi</td>\n",
       "      <td>-90.228321</td>\n",
       "      <td>32.323689</td>\n",
       "      <td>...</td>\n",
       "      <td>NaN</td>\n",
       "      <td>NaN</td>\n",
       "      <td>NaN</td>\n",
       "      <td>NaN</td>\n",
       "      <td>NaN</td>\n",
       "      <td>NaN</td>\n",
       "      <td>NaN</td>\n",
       "      <td>NaN</td>\n",
       "      <td>NaN</td>\n",
       "      <td>NaN</td>\n",
       "    </tr>\n",
       "    <tr>\n",
       "      <th>4</th>\n",
       "      <td>4</td>\n",
       "      <td>4</td>\n",
       "      <td>2014-01-12</td>\n",
       "      <td>University Drive Huntsville Alabama</td>\n",
       "      <td>1.620657</td>\n",
       "      <td>0</td>\n",
       "      <td>5</td>\n",
       "      <td>Alabama</td>\n",
       "      <td>-86.650390</td>\n",
       "      <td>34.736562</td>\n",
       "      <td>...</td>\n",
       "      <td>NaN</td>\n",
       "      <td>NaN</td>\n",
       "      <td>NaN</td>\n",
       "      <td>NaN</td>\n",
       "      <td>NaN</td>\n",
       "      <td>NaN</td>\n",
       "      <td>NaN</td>\n",
       "      <td>NaN</td>\n",
       "      <td>NaN</td>\n",
       "      <td>NaN</td>\n",
       "    </tr>\n",
       "  </tbody>\n",
       "</table>\n",
       "<p>5 rows × 24 columns</p>\n",
       "</div>"
      ],
      "text/plain": [
       "   ind  ind_t        date                                                adr  \\\n",
       "0    0      0  2014-01-01  Rockingham Street and Berkley Avenue Extended ...   \n",
       "1    1      1  2014-01-03  Farmers Boulevard and 133rd Avenue Queens New ...   \n",
       "2    2      2  2014-01-05                    829 Parade St Erie Pennsylvania   \n",
       "3    3      3  2014-01-11         3430 W. Capitol Street Jackson Mississippi   \n",
       "4    4      4  2014-01-12                University Drive Huntsville Alabama   \n",
       "\n",
       "          p  n_killed  n_injured         state        LON        LAT  ...  \\\n",
       "0  2.855649         2          2      Virginia -76.278935  36.830789  ...   \n",
       "1  2.390389         1          3      New York -73.762898  40.677500  ...   \n",
       "2  2.390389         1          3  Pennsylvania -80.074524  42.130038  ...   \n",
       "3  1.515717         0          4   Mississippi -90.228321  32.323689  ...   \n",
       "4  1.620657         0          5       Alabama -86.650390  34.736562  ...   \n",
       "\n",
       "  mental_health_details weapons_obtained_legally where_obtained weapon_type  \\\n",
       "0                   NaN                      NaN            NaN         NaN   \n",
       "1                   NaN                      NaN            NaN         NaN   \n",
       "2                   NaN                      NaN            NaN         NaN   \n",
       "3                   NaN                      NaN            NaN         NaN   \n",
       "4                   NaN                      NaN            NaN         NaN   \n",
       "\n",
       "  weapon_details race gender mental_health_sources sources_additional_age type  \n",
       "0            NaN  NaN    NaN                   NaN                    NaN  NaN  \n",
       "1            NaN  NaN    NaN                   NaN                    NaN  NaN  \n",
       "2            NaN  NaN    NaN                   NaN                    NaN  NaN  \n",
       "3            NaN  NaN    NaN                   NaN                    NaN  NaN  \n",
       "4            NaN  NaN    NaN                   NaN                    NaN  NaN  \n",
       "\n",
       "[5 rows x 24 columns]"
      ]
     },
     "execution_count": 23,
     "metadata": {},
     "output_type": "execute_result"
    }
   ],
   "source": [
    "# import dataset\n",
    "df = pd.read_csv(\"6before-network.csv\", index_col=0)\n",
    "df.head()"
   ]
  },
  {
   "cell_type": "code",
   "execution_count": 24,
   "metadata": {
    "colab": {
     "base_uri": "https://localhost:8080/",
     "height": 431
    },
    "colab_type": "code",
    "executionInfo": {
     "elapsed": 337,
     "status": "ok",
     "timestamp": 1583981800520,
     "user": {
      "displayName": "Keonho Kim",
      "photoUrl": "",
      "userId": "05398618637237030774"
     },
     "user_tz": 240
    },
    "id": "AAh3oCXMpyvE",
    "outputId": "3d852c40-5134-4e3e-a7f6-1f5a13ced222"
   },
   "outputs": [
    {
     "name": "stdout",
     "output_type": "stream",
     "text": [
      "mean of p:  2.279606831928736 median of p:  2.3903891703159093\n"
     ]
    }
   ],
   "source": [
    "print(\"mean of p: \", df['p'].mean(), \"median of p: \", df['p'].median())"
   ]
  },
  {
   "cell_type": "code",
   "execution_count": 25,
   "metadata": {
    "colab": {
     "base_uri": "https://localhost:8080/",
     "height": 55
    },
    "colab_type": "code",
    "executionInfo": {
     "elapsed": 385,
     "status": "ok",
     "timestamp": 1583974061675,
     "user": {
      "displayName": "Keonho Kim",
      "photoUrl": "",
      "userId": "05398618637237030774"
     },
     "user_tz": 240
    },
    "id": "w4MZP1H7Ngxy",
    "outputId": "9b5c6b98-f57e-43a1-983f-01c07fed1036"
   },
   "outputs": [
    {
     "data": {
      "text/plain": [
       "Index(['ind', 'ind_t', 'date', 'adr', 'p', 'n_killed', 'n_injured', 'state',\n",
       "       'LON', 'LAT', 'case', 'summary', 'age_of_shooter',\n",
       "       'prior_signs_mental_health_issues', 'mental_health_details',\n",
       "       'weapons_obtained_legally', 'where_obtained', 'weapon_type',\n",
       "       'weapon_details', 'race', 'gender', 'mental_health_sources',\n",
       "       'sources_additional_age', 'type'],\n",
       "      dtype='object')"
      ]
     },
     "execution_count": 25,
     "metadata": {},
     "output_type": "execute_result"
    }
   ],
   "source": [
    "df.columns"
   ]
  },
  {
   "cell_type": "code",
   "execution_count": 26,
   "metadata": {},
   "outputs": [],
   "source": [
    "df['date'] = pd.to_datetime(df['date'])"
   ]
  },
  {
   "cell_type": "code",
   "execution_count": 27,
   "metadata": {
    "colab": {},
    "colab_type": "code",
    "id": "oNF2svYaNh82"
   },
   "outputs": [],
   "source": [
    "G = nx.DiGraph()"
   ]
  },
  {
   "cell_type": "code",
   "execution_count": 28,
   "metadata": {
    "colab": {},
    "colab_type": "code",
    "id": "k3j9R8PqNjMM"
   },
   "outputs": [],
   "source": [
    "for n in range(0, len(df), 1):\n",
    "  G.add_node(n,\n",
    "             ind = df['ind'][n],\n",
    "             ind_t = df['ind_t'][n], \n",
    "             date = df['date'][n],\n",
    "             p = df['p'][n],\n",
    "             n_killed = df['n_killed'][n],\n",
    "             n_injured = df['n_injured'][n],\n",
    "             LON = df['LON'][n],\n",
    "             LAT = df['LAT'][n])"
   ]
  },
  {
   "cell_type": "code",
   "execution_count": 29,
   "metadata": {
    "colab": {},
    "colab_type": "code",
    "id": "LnY6rmArNlpl"
   },
   "outputs": [],
   "source": [
    "# if all past events affect the future events\n",
    "for i in G.nodes():\n",
    "  for j in G.nodes():\n",
    "    if G.nodes[i]['ind_t'] < G.nodes[j]['ind_t']:\n",
    "      G.add_edge(i, j)\n",
    "    else: \n",
    "      pass"
   ]
  },
  {
   "cell_type": "code",
   "execution_count": 30,
   "metadata": {
    "colab": {
     "base_uri": "https://localhost:8080/",
     "height": 35
    },
    "colab_type": "code",
    "executionInfo": {
     "elapsed": 357,
     "status": "ok",
     "timestamp": 1583977921087,
     "user": {
      "displayName": "Keonho Kim",
      "photoUrl": "",
      "userId": "05398618637237030774"
     },
     "user_tz": 240
    },
    "id": "8byfp5dRcMXq",
    "outputId": "999a1173-52ed-4c9a-ab5f-18d6bc6e2822"
   },
   "outputs": [
    {
     "data": {
      "text/plain": [
       "'Name: \\nType: DiGraph\\nNumber of nodes: 2087\\nNumber of edges: 2175300\\nAverage in degree: 1042.3095\\nAverage out degree: 1042.3095'"
      ]
     },
     "execution_count": 30,
     "metadata": {},
     "output_type": "execute_result"
    }
   ],
   "source": [
    "nx.info(G)"
   ]
  },
  {
   "cell_type": "code",
   "execution_count": 37,
   "metadata": {
    "colab": {},
    "colab_type": "code",
    "id": "eQdx_r8Ia82K"
   },
   "outputs": [],
   "source": [
    "# if only relatively powerful events affect all future events\n",
    "for i in G.nodes():\n",
    "  for j in G.nodes():\n",
    "    if G.nodes[i]['ind_t'] < G.nodes[j]['ind_t'] and G.nodes[i]['p'] > G.nodes[j]['p']:\n",
    "      G.add_edge(i,j)\n",
    "    else:\n",
    "      pass"
   ]
  },
  {
   "cell_type": "code",
   "execution_count": null,
   "metadata": {},
   "outputs": [],
   "source": [
    "nx.info(G)"
   ]
  },
  {
   "cell_type": "code",
   "execution_count": null,
   "metadata": {
    "colab": {
     "base_uri": "https://localhost:8080/",
     "height": 319
    },
    "colab_type": "code",
    "executionInfo": {
     "elapsed": 2588110,
     "status": "ok",
     "timestamp": 1583980771771,
     "user": {
      "displayName": "Keonho Kim",
      "photoUrl": "",
      "userId": "05398618637237030774"
     },
     "user_tz": 240
    },
    "id": "BfyfxWTpdNyt",
    "outputId": "8cba2a24-a4e4-4d54-b379-9e1446837d43"
   },
   "outputs": [
    {
     "data": {
      "image/png": "[encoded data removed]",
      "text/plain": [
       "<Figure size 432x288 with 1 Axes>"
      ]
     },
     "metadata": {
      "tags": []
     },
     "output_type": "display_data"
    }
   ],
   "source": [
    "nx.draw(G)"
   ]
  },
  {
   "cell_type": "markdown",
   "metadata": {
    "colab_type": "text",
    "id": "qgNEHbm9wGFu"
   },
   "source": [
    "---\n",
    "Until here, the network has too many edges and  a past event affect future events too far away.\n",
    "\n",
    "There are three ideas to refine the network.\n",
    "\n",
    "1. Set window: Confine the lifespan of event, probably 1-2 months. This is the easiest way. Plus, it is crucial for time-series analysis.  \n",
    "One thing that should be considered is, there are two types of events: powerful or negligible.\n",
    "\n",
    "2. it looks like power-law function. $f= p^{-t}$ is basic form of it, we (may) need to modify this. \n",
    "\n",
    "3. Using collective attention: how long a event-related hashtag survive. but it is hard to find event-specific hashtag, and also most of events are not mentioned in Twitter.\n",
    "\n",
    "1 and 2 seems to be plausible (and probably work at the same time), but 3 seem like unfeasible.\n",
    "\n",
    "---"
   ]
  },
  {
   "cell_type": "code",
   "execution_count": 22,
   "metadata": {
    "colab": {
     "base_uri": "https://localhost:8080/",
     "height": 197
    },
    "colab_type": "code",
    "executionInfo": {
     "elapsed": 352,
     "status": "ok",
     "timestamp": 1583984760396,
     "user": {
      "displayName": "Keonho Kim",
      "photoUrl": "",
      "userId": "05398618637237030774"
     },
     "user_tz": 240
    },
    "id": "SGjxciug1vh2",
    "outputId": "aebcb3c4-373b-4c13-e16c-3b2023c52fcb"
   },
   "outputs": [
    {
     "name": "stdout",
     "output_type": "stream",
     "text": [
      "count    2087.000000\n",
      "mean        2.279607\n",
      "std         1.052959\n",
      "min         1.515717\n",
      "25%         1.515717\n",
      "50%         2.390389\n",
      "75%         2.711770\n",
      "max        23.575299\n",
      "Name: p, dtype: float64 \n",
      " meidan:  2.3903891703159093\n"
     ]
    }
   ],
   "source": [
    "# descriptive: p\n",
    "\n",
    "print(df['p'].describe(),\"\\n\",\n",
    "      \"meidan: \", df['p'].median())\n"
   ]
  }
 ],
 "metadata": {
  "colab": {
   "authorship_tag": "ABX9TyMusoilq/4FWjxQDO6T3gTb",
   "collapsed_sections": [],
   "mount_file_id": "19KM7k0p3RIDndwegyrwoo_RwMYdbsqoZ",
   "name": "6.create_network(network).ipynb",
   "provenance": []
  },
  "kernelspec": {
   "display_name": "Python 3",
   "language": "python",
   "name": "python3"
  },
  "language_info": {
   "codemirror_mode": {
    "name": "ipython",
    "version": 3
   },
   "file_extension": ".py",
   "mimetype": "text/x-python",
   "name": "python",
   "nbconvert_exporter": "python",
   "pygments_lexer": "ipython3",
   "version": "3.7.7"
  }
 },
 "nbformat": 4,
 "nbformat_minor": 4
}
