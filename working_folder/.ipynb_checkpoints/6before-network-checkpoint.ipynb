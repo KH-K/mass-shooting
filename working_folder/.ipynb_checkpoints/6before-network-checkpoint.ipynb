{
 "cells": [
  {
   "cell_type": "markdown",
   "metadata": {
    "colab_type": "text",
    "id": "DukFiCE50Kaj"
   },
   "source": [
    "---\n",
    "\n",
    "# Create network\n",
    "\n",
    "In this notebook, I tried to create a network from the merged dataset (retrieved from GunViolenceArchive and MotherJones) \n",
    "\n",
    "\n",
    "Reference: [Catching that flight: Visualizing social network with Networkx and Basemap](https://towardsdatascience.com/catching-that-flight-visualizing-social-network-with-networkx-and-basemap-ce4a0d2eaea6)\n",
    "\n",
    "---\n",
    "\n"
   ]
  },
  {
   "cell_type": "code",
   "execution_count": 1,
   "metadata": {},
   "outputs": [],
   "source": [
    "import pandas as pd\n",
    "import networkx as nx\n",
    "import seaborn as sns\n",
    "import matplotlib.pyplot as plt"
   ]
  },
  {
   "cell_type": "markdown",
   "metadata": {
    "colab_type": "text",
    "id": "YYD3uNeL7boY"
   },
   "source": [
    "#### install basemap\n",
    "\n",
    "#### you should install these packages when running this notebook in Google Colab\n",
    "\n",
    "!apt-get install libgeos-3.7.1\n",
    "\n",
    "!apt-get install libgeos-dev\n",
    "\n",
    "!pip install https://github.com/matplotlib/basemap/archive/master.zip\n",
    "\n",
    "!pip install pyproj==1.9.6"
   ]
  },
  {
   "cell_type": "markdown",
   "metadata": {
    "colab_type": "text",
    "id": "FPO-Ldza7l5E"
   },
   "source": [
    "### Before import basemap library, you should restart runtime"
   ]
  },
  {
   "cell_type": "code",
   "execution_count": 2,
   "metadata": {
    "colab": {},
    "colab_type": "code",
    "id": "UfETiid17tZm"
   },
   "outputs": [],
   "source": [
    "from mpl_toolkits.basemap import Basemap\n",
    "%matplotlib inline"
   ]
  },
  {
   "cell_type": "code",
   "execution_count": 3,
   "metadata": {
    "colab": {
     "base_uri": "https://localhost:8080/",
     "height": 530
    },
    "colab_type": "code",
    "executionInfo": {
     "elapsed": 353,
     "status": "ok",
     "timestamp": 1583972279390,
     "user": {
      "displayName": "Keonho Kim",
      "photoUrl": "",
      "userId": "05398618637237030774"
     },
     "user_tz": 240
    },
    "id": "5F5HOHTE0VYL",
    "outputId": "4eca0e8f-f54c-41aa-8ec6-45851dafd847"
   },
   "outputs": [
    {
     "data": {
      "text/html": [
       "<div>\n",
       "<style scoped>\n",
       "    .dataframe tbody tr th:only-of-type {\n",
       "        vertical-align: middle;\n",
       "    }\n",
       "\n",
       "    .dataframe tbody tr th {\n",
       "        vertical-align: top;\n",
       "    }\n",
       "\n",
       "    .dataframe thead th {\n",
       "        text-align: right;\n",
       "    }\n",
       "</style>\n",
       "<table border=\"1\" class=\"dataframe\">\n",
       "  <thead>\n",
       "    <tr style=\"text-align: right;\">\n",
       "      <th></th>\n",
       "      <th>date</th>\n",
       "      <th>adr</th>\n",
       "      <th>p</th>\n",
       "      <th>n_killed</th>\n",
       "      <th>n_injured</th>\n",
       "      <th>city</th>\n",
       "      <th>state</th>\n",
       "      <th>LON</th>\n",
       "      <th>LAT</th>\n",
       "      <th>case</th>\n",
       "      <th>...</th>\n",
       "      <th>mental_health_details</th>\n",
       "      <th>weapons_obtained_legally</th>\n",
       "      <th>where_obtained</th>\n",
       "      <th>weapon_type</th>\n",
       "      <th>weapon_details</th>\n",
       "      <th>race</th>\n",
       "      <th>gender</th>\n",
       "      <th>mental_health_sources</th>\n",
       "      <th>sources_additional_age</th>\n",
       "      <th>type</th>\n",
       "    </tr>\n",
       "  </thead>\n",
       "  <tbody>\n",
       "    <tr>\n",
       "      <th>0</th>\n",
       "      <td>2014-01-01</td>\n",
       "      <td>Rockingham Street and Berkley Avenue Extended ...</td>\n",
       "      <td>2.855649</td>\n",
       "      <td>2</td>\n",
       "      <td>2</td>\n",
       "      <td>Norfolk</td>\n",
       "      <td>Virginia</td>\n",
       "      <td>-76.278935</td>\n",
       "      <td>36.830788</td>\n",
       "      <td>NaN</td>\n",
       "      <td>...</td>\n",
       "      <td>NaN</td>\n",
       "      <td>NaN</td>\n",
       "      <td>NaN</td>\n",
       "      <td>NaN</td>\n",
       "      <td>NaN</td>\n",
       "      <td>NaN</td>\n",
       "      <td>NaN</td>\n",
       "      <td>NaN</td>\n",
       "      <td>NaN</td>\n",
       "      <td>NaN</td>\n",
       "    </tr>\n",
       "    <tr>\n",
       "      <th>1</th>\n",
       "      <td>2014-01-03</td>\n",
       "      <td>Farmers Boulevard and 133rd Avenue Queens New ...</td>\n",
       "      <td>2.390389</td>\n",
       "      <td>1</td>\n",
       "      <td>3</td>\n",
       "      <td>Queens</td>\n",
       "      <td>New York</td>\n",
       "      <td>-73.762898</td>\n",
       "      <td>40.677500</td>\n",
       "      <td>NaN</td>\n",
       "      <td>...</td>\n",
       "      <td>NaN</td>\n",
       "      <td>NaN</td>\n",
       "      <td>NaN</td>\n",
       "      <td>NaN</td>\n",
       "      <td>NaN</td>\n",
       "      <td>NaN</td>\n",
       "      <td>NaN</td>\n",
       "      <td>NaN</td>\n",
       "      <td>NaN</td>\n",
       "      <td>NaN</td>\n",
       "    </tr>\n",
       "    <tr>\n",
       "      <th>2</th>\n",
       "      <td>2014-01-05</td>\n",
       "      <td>829 Parade St Erie Pennsylvania</td>\n",
       "      <td>2.390389</td>\n",
       "      <td>1</td>\n",
       "      <td>3</td>\n",
       "      <td>Erie</td>\n",
       "      <td>Pennsylvania</td>\n",
       "      <td>-80.074524</td>\n",
       "      <td>42.130038</td>\n",
       "      <td>NaN</td>\n",
       "      <td>...</td>\n",
       "      <td>NaN</td>\n",
       "      <td>NaN</td>\n",
       "      <td>NaN</td>\n",
       "      <td>NaN</td>\n",
       "      <td>NaN</td>\n",
       "      <td>NaN</td>\n",
       "      <td>NaN</td>\n",
       "      <td>NaN</td>\n",
       "      <td>NaN</td>\n",
       "      <td>NaN</td>\n",
       "    </tr>\n",
       "    <tr>\n",
       "      <th>3</th>\n",
       "      <td>2014-01-11</td>\n",
       "      <td>3430 W. Capitol Street Jackson Mississippi</td>\n",
       "      <td>1.515717</td>\n",
       "      <td>0</td>\n",
       "      <td>4</td>\n",
       "      <td>Jackson</td>\n",
       "      <td>Mississippi</td>\n",
       "      <td>-90.228321</td>\n",
       "      <td>32.323689</td>\n",
       "      <td>NaN</td>\n",
       "      <td>...</td>\n",
       "      <td>NaN</td>\n",
       "      <td>NaN</td>\n",
       "      <td>NaN</td>\n",
       "      <td>NaN</td>\n",
       "      <td>NaN</td>\n",
       "      <td>NaN</td>\n",
       "      <td>NaN</td>\n",
       "      <td>NaN</td>\n",
       "      <td>NaN</td>\n",
       "      <td>NaN</td>\n",
       "    </tr>\n",
       "    <tr>\n",
       "      <th>4</th>\n",
       "      <td>2014-01-12</td>\n",
       "      <td>University Drive Huntsville Alabama</td>\n",
       "      <td>1.620657</td>\n",
       "      <td>0</td>\n",
       "      <td>5</td>\n",
       "      <td>Huntsville</td>\n",
       "      <td>Alabama</td>\n",
       "      <td>-86.650390</td>\n",
       "      <td>34.736562</td>\n",
       "      <td>NaN</td>\n",
       "      <td>...</td>\n",
       "      <td>NaN</td>\n",
       "      <td>NaN</td>\n",
       "      <td>NaN</td>\n",
       "      <td>NaN</td>\n",
       "      <td>NaN</td>\n",
       "      <td>NaN</td>\n",
       "      <td>NaN</td>\n",
       "      <td>NaN</td>\n",
       "      <td>NaN</td>\n",
       "      <td>NaN</td>\n",
       "    </tr>\n",
       "  </tbody>\n",
       "</table>\n",
       "<p>5 rows × 23 columns</p>\n",
       "</div>"
      ],
      "text/plain": [
       "         date                                                adr         p  \\\n",
       "0  2014-01-01  Rockingham Street and Berkley Avenue Extended ...  2.855649   \n",
       "1  2014-01-03  Farmers Boulevard and 133rd Avenue Queens New ...  2.390389   \n",
       "2  2014-01-05                    829 Parade St Erie Pennsylvania  2.390389   \n",
       "3  2014-01-11         3430 W. Capitol Street Jackson Mississippi  1.515717   \n",
       "4  2014-01-12                University Drive Huntsville Alabama  1.620657   \n",
       "\n",
       "   n_killed  n_injured        city         state        LON        LAT case  \\\n",
       "0         2          2     Norfolk      Virginia -76.278935  36.830788  NaN   \n",
       "1         1          3      Queens      New York -73.762898  40.677500  NaN   \n",
       "2         1          3        Erie  Pennsylvania -80.074524  42.130038  NaN   \n",
       "3         0          4     Jackson   Mississippi -90.228321  32.323689  NaN   \n",
       "4         0          5  Huntsville       Alabama -86.650390  34.736562  NaN   \n",
       "\n",
       "   ... mental_health_details weapons_obtained_legally where_obtained  \\\n",
       "0  ...                   NaN                      NaN            NaN   \n",
       "1  ...                   NaN                      NaN            NaN   \n",
       "2  ...                   NaN                      NaN            NaN   \n",
       "3  ...                   NaN                      NaN            NaN   \n",
       "4  ...                   NaN                      NaN            NaN   \n",
       "\n",
       "  weapon_type weapon_details race gender mental_health_sources  \\\n",
       "0         NaN            NaN  NaN    NaN                   NaN   \n",
       "1         NaN            NaN  NaN    NaN                   NaN   \n",
       "2         NaN            NaN  NaN    NaN                   NaN   \n",
       "3         NaN            NaN  NaN    NaN                   NaN   \n",
       "4         NaN            NaN  NaN    NaN                   NaN   \n",
       "\n",
       "  sources_additional_age type  \n",
       "0                    NaN  NaN  \n",
       "1                    NaN  NaN  \n",
       "2                    NaN  NaN  \n",
       "3                    NaN  NaN  \n",
       "4                    NaN  NaN  \n",
       "\n",
       "[5 rows x 23 columns]"
      ]
     },
     "execution_count": 3,
     "metadata": {},
     "output_type": "execute_result"
    }
   ],
   "source": [
    "# import dataset\n",
    "df = pd.read_csv(\"5merge.csv\", index_col = False)\n",
    "df.head()"
   ]
  },
  {
   "cell_type": "code",
   "execution_count": 4,
   "metadata": {
    "colab": {},
    "colab_type": "code",
    "id": "5C22VZDiS_rA"
   },
   "outputs": [],
   "source": [
    "#### I need to add index column to create network.\n",
    "#### add index column (ind)\n",
    "ind = []\n",
    "for i in range(0, len(df), 1):\n",
    "  num = i\n",
    "  ind.append(num)\n",
    "\n",
    "df['ind'] = ind\n",
    "\n",
    "cols = list(df.columns.values)\n",
    "cols.pop(cols.index('ind'))\n",
    "df = df[['ind']+cols]\n",
    "\n",
    "df.head()\n",
    "\n",
    "df.to_csv(\"5merge.csv\")"
   ]
  },
  {
   "cell_type": "code",
   "execution_count": 5,
   "metadata": {
    "colab": {
     "base_uri": "https://localhost:8080/",
     "height": 530
    },
    "colab_type": "code",
    "executionInfo": {
     "elapsed": 359,
     "status": "ok",
     "timestamp": 1583972305372,
     "user": {
      "displayName": "Keonho Kim",
      "photoUrl": "",
      "userId": "05398618637237030774"
     },
     "user_tz": 240
    },
    "id": "nbaIvH_kSHwF",
    "outputId": "fad2adc8-16df-42d6-e72a-7e6ca925b6e5"
   },
   "outputs": [
    {
     "data": {
      "text/html": [
       "<div>\n",
       "<style scoped>\n",
       "    .dataframe tbody tr th:only-of-type {\n",
       "        vertical-align: middle;\n",
       "    }\n",
       "\n",
       "    .dataframe tbody tr th {\n",
       "        vertical-align: top;\n",
       "    }\n",
       "\n",
       "    .dataframe thead th {\n",
       "        text-align: right;\n",
       "    }\n",
       "</style>\n",
       "<table border=\"1\" class=\"dataframe\">\n",
       "  <thead>\n",
       "    <tr style=\"text-align: right;\">\n",
       "      <th></th>\n",
       "      <th>ind</th>\n",
       "      <th>date</th>\n",
       "      <th>adr</th>\n",
       "      <th>p</th>\n",
       "      <th>n_killed</th>\n",
       "      <th>n_injured</th>\n",
       "      <th>city</th>\n",
       "      <th>state</th>\n",
       "      <th>LON</th>\n",
       "      <th>LAT</th>\n",
       "      <th>...</th>\n",
       "      <th>mental_health_details</th>\n",
       "      <th>weapons_obtained_legally</th>\n",
       "      <th>where_obtained</th>\n",
       "      <th>weapon_type</th>\n",
       "      <th>weapon_details</th>\n",
       "      <th>race</th>\n",
       "      <th>gender</th>\n",
       "      <th>mental_health_sources</th>\n",
       "      <th>sources_additional_age</th>\n",
       "      <th>type</th>\n",
       "    </tr>\n",
       "  </thead>\n",
       "  <tbody>\n",
       "    <tr>\n",
       "      <th>0</th>\n",
       "      <td>0</td>\n",
       "      <td>2014-01-01</td>\n",
       "      <td>Rockingham Street and Berkley Avenue Extended ...</td>\n",
       "      <td>2.855649</td>\n",
       "      <td>2</td>\n",
       "      <td>2</td>\n",
       "      <td>Norfolk</td>\n",
       "      <td>Virginia</td>\n",
       "      <td>-76.278935</td>\n",
       "      <td>36.830789</td>\n",
       "      <td>...</td>\n",
       "      <td>NaN</td>\n",
       "      <td>NaN</td>\n",
       "      <td>NaN</td>\n",
       "      <td>NaN</td>\n",
       "      <td>NaN</td>\n",
       "      <td>NaN</td>\n",
       "      <td>NaN</td>\n",
       "      <td>NaN</td>\n",
       "      <td>NaN</td>\n",
       "      <td>NaN</td>\n",
       "    </tr>\n",
       "    <tr>\n",
       "      <th>1</th>\n",
       "      <td>1</td>\n",
       "      <td>2014-01-03</td>\n",
       "      <td>Farmers Boulevard and 133rd Avenue Queens New ...</td>\n",
       "      <td>2.390389</td>\n",
       "      <td>1</td>\n",
       "      <td>3</td>\n",
       "      <td>Queens</td>\n",
       "      <td>New York</td>\n",
       "      <td>-73.762898</td>\n",
       "      <td>40.677500</td>\n",
       "      <td>...</td>\n",
       "      <td>NaN</td>\n",
       "      <td>NaN</td>\n",
       "      <td>NaN</td>\n",
       "      <td>NaN</td>\n",
       "      <td>NaN</td>\n",
       "      <td>NaN</td>\n",
       "      <td>NaN</td>\n",
       "      <td>NaN</td>\n",
       "      <td>NaN</td>\n",
       "      <td>NaN</td>\n",
       "    </tr>\n",
       "    <tr>\n",
       "      <th>2</th>\n",
       "      <td>2</td>\n",
       "      <td>2014-01-05</td>\n",
       "      <td>829 Parade St Erie Pennsylvania</td>\n",
       "      <td>2.390389</td>\n",
       "      <td>1</td>\n",
       "      <td>3</td>\n",
       "      <td>Erie</td>\n",
       "      <td>Pennsylvania</td>\n",
       "      <td>-80.074524</td>\n",
       "      <td>42.130038</td>\n",
       "      <td>...</td>\n",
       "      <td>NaN</td>\n",
       "      <td>NaN</td>\n",
       "      <td>NaN</td>\n",
       "      <td>NaN</td>\n",
       "      <td>NaN</td>\n",
       "      <td>NaN</td>\n",
       "      <td>NaN</td>\n",
       "      <td>NaN</td>\n",
       "      <td>NaN</td>\n",
       "      <td>NaN</td>\n",
       "    </tr>\n",
       "    <tr>\n",
       "      <th>3</th>\n",
       "      <td>3</td>\n",
       "      <td>2014-01-11</td>\n",
       "      <td>3430 W. Capitol Street Jackson Mississippi</td>\n",
       "      <td>1.515717</td>\n",
       "      <td>0</td>\n",
       "      <td>4</td>\n",
       "      <td>Jackson</td>\n",
       "      <td>Mississippi</td>\n",
       "      <td>-90.228321</td>\n",
       "      <td>32.323689</td>\n",
       "      <td>...</td>\n",
       "      <td>NaN</td>\n",
       "      <td>NaN</td>\n",
       "      <td>NaN</td>\n",
       "      <td>NaN</td>\n",
       "      <td>NaN</td>\n",
       "      <td>NaN</td>\n",
       "      <td>NaN</td>\n",
       "      <td>NaN</td>\n",
       "      <td>NaN</td>\n",
       "      <td>NaN</td>\n",
       "    </tr>\n",
       "    <tr>\n",
       "      <th>4</th>\n",
       "      <td>4</td>\n",
       "      <td>2014-01-12</td>\n",
       "      <td>University Drive Huntsville Alabama</td>\n",
       "      <td>1.620657</td>\n",
       "      <td>0</td>\n",
       "      <td>5</td>\n",
       "      <td>Huntsville</td>\n",
       "      <td>Alabama</td>\n",
       "      <td>-86.650390</td>\n",
       "      <td>34.736562</td>\n",
       "      <td>...</td>\n",
       "      <td>NaN</td>\n",
       "      <td>NaN</td>\n",
       "      <td>NaN</td>\n",
       "      <td>NaN</td>\n",
       "      <td>NaN</td>\n",
       "      <td>NaN</td>\n",
       "      <td>NaN</td>\n",
       "      <td>NaN</td>\n",
       "      <td>NaN</td>\n",
       "      <td>NaN</td>\n",
       "    </tr>\n",
       "  </tbody>\n",
       "</table>\n",
       "<p>5 rows × 24 columns</p>\n",
       "</div>"
      ],
      "text/plain": [
       "   ind        date                                                adr  \\\n",
       "0    0  2014-01-01  Rockingham Street and Berkley Avenue Extended ...   \n",
       "1    1  2014-01-03  Farmers Boulevard and 133rd Avenue Queens New ...   \n",
       "2    2  2014-01-05                    829 Parade St Erie Pennsylvania   \n",
       "3    3  2014-01-11         3430 W. Capitol Street Jackson Mississippi   \n",
       "4    4  2014-01-12                University Drive Huntsville Alabama   \n",
       "\n",
       "          p  n_killed  n_injured        city         state        LON  \\\n",
       "0  2.855649         2          2     Norfolk      Virginia -76.278935   \n",
       "1  2.390389         1          3      Queens      New York -73.762898   \n",
       "2  2.390389         1          3        Erie  Pennsylvania -80.074524   \n",
       "3  1.515717         0          4     Jackson   Mississippi -90.228321   \n",
       "4  1.620657         0          5  Huntsville       Alabama -86.650390   \n",
       "\n",
       "         LAT  ... mental_health_details weapons_obtained_legally  \\\n",
       "0  36.830789  ...                   NaN                      NaN   \n",
       "1  40.677500  ...                   NaN                      NaN   \n",
       "2  42.130038  ...                   NaN                      NaN   \n",
       "3  32.323689  ...                   NaN                      NaN   \n",
       "4  34.736562  ...                   NaN                      NaN   \n",
       "\n",
       "  where_obtained weapon_type weapon_details race gender mental_health_sources  \\\n",
       "0            NaN         NaN            NaN  NaN    NaN                   NaN   \n",
       "1            NaN         NaN            NaN  NaN    NaN                   NaN   \n",
       "2            NaN         NaN            NaN  NaN    NaN                   NaN   \n",
       "3            NaN         NaN            NaN  NaN    NaN                   NaN   \n",
       "4            NaN         NaN            NaN  NaN    NaN                   NaN   \n",
       "\n",
       "  sources_additional_age type  \n",
       "0                    NaN  NaN  \n",
       "1                    NaN  NaN  \n",
       "2                    NaN  NaN  \n",
       "3                    NaN  NaN  \n",
       "4                    NaN  NaN  \n",
       "\n",
       "[5 rows x 24 columns]"
      ]
     },
     "execution_count": 5,
     "metadata": {},
     "output_type": "execute_result"
    }
   ],
   "source": [
    "df = pd.read_csv(\"5merge.csv\", index_col = 0, parse_dates = True)\n",
    "df.set_index('ind')\n",
    "df.head()"
   ]
  },
  {
   "cell_type": "markdown",
   "metadata": {
    "colab_type": "text",
    "id": "yH15GYYXOI7J"
   },
   "source": [
    "## Why I created time-series graph?\n",
    "\n",
    "This is solely because we need to indentify extraordinary event in the data.  \n",
    "Also, by using time-series analysis, it allows us to test a contagion model. \n"
   ]
  },
  {
   "cell_type": "code",
   "execution_count": 6,
   "metadata": {
    "colab": {
     "base_uri": "https://localhost:8080/",
     "height": 525
    },
    "colab_type": "code",
    "executionInfo": {
     "elapsed": 590,
     "status": "ok",
     "timestamp": 1583705945732,
     "user": {
      "displayName": "Keonho Kim",
      "photoUrl": "",
      "userId": "05398618637237030774"
     },
     "user_tz": 240
    },
    "id": "3ZyoseJE5S-C",
    "outputId": "b973bad0-4754-4023-c780-7299c8264f4f"
   },
   "outputs": [
    {
     "data": {
      "image/png": "[encoded data removed]",
      "text/plain": [
       "<Figure size 1296x576 with 1 Axes>"
      ]
     },
     "metadata": {
      "needs_background": "light"
     },
     "output_type": "display_data"
    }
   ],
   "source": [
    "# plotting Parameter \"P\"\n",
    "plt.rcParams[\"figure.figsize\"] = (18,8)\n",
    "plt.rcParams['lines.color'] = 'r'\n",
    "plt.rcParams['axes.grid'] = True\n",
    "plt.rcParams['lines.linewidth'] = 2\n",
    "\n",
    "\n",
    "plt.plot(df[\"p\"], label = \"P\")\n",
    "\n",
    "plt.xlabel(\"Date\", fontsize = \"xx-large\")\n",
    "plt.ylabel(\"P index\", fontsize = \"xx-large\")\n",
    "plt.title(\"Change in \\\"P\\\" (2014-2019)\", fontsize = \"xx-large\")\n",
    "plt.legend(fontsize = \"xx-large\", loc = \"best\")\n",
    "plt.show()"
   ]
  },
  {
   "cell_type": "markdown",
   "metadata": {
    "colab_type": "text",
    "id": "In77ezPzIKu-"
   },
   "source": [
    "---\n",
    "\n",
    "One problem we face is there are events on a same day.  \n",
    "Here are a list of the possible ideas to dealing with the problem.  \n",
    "\n",
    "* (1) Summing up \"p\" on a daily basis.  \n",
    "> * Problem: We will lose event-specific data.  \n",
    "> * Gain: at least we can use time-series analysis techniques.\n",
    "* (2) Create Network based on time stamps (as a node attribute).\n",
    "> * Problem 1: we should find a different way to classify outstanding event.\n",
    "> * Problem 2: we should find another method to model contagion or earthquake in a network we create.\n",
    "\n",
    "---\n",
    "\n",
    "Put specific problems aside, Let's start from constructing a network.  \n",
    "To make a network, we need another index for each nodes, \n",
    "the size of node is the parameter \"P\" and the weight for each edges is also \"P\".  \n",
    "The graph shuold be directed one on the US map. \n",
    "\n",
    "Here are two basic attributes required to construct a network from data:\n",
    "  * Source: where a node start from\n",
    "  * Target: where a node reach to \n",
    "\n",
    "source is all events, but how we define target?  \n",
    "\n",
    "Basically we have time stamps, we can use this for target.\n",
    "So, target is events after source event happened.\n",
    "\n",
    "Here, we should consider that how a network looks like. What if we only construct a network only based on time-stamp, the network seems like a line except for some cases that events occured on a same day.\n",
    "\n",
    "This is not a thing we want. We want to answer the question: how long an extraordinary event produce subsequent events.\n",
    "\n",
    "In this manner, it is required to classify each event whether it is 'extraordinary'. A standard to discern extraordinary events from the others is based on 'P'. \n",
    "\n",
    "\n"
   ]
  },
  {
   "cell_type": "markdown",
   "metadata": {
    "colab_type": "text",
    "id": "gQ_ZPyzRVF6o"
   },
   "source": [
    "---\n",
    "\n",
    "### Creating network\n",
    "\n",
    "---\n"
   ]
  },
  {
   "cell_type": "code",
   "execution_count": 9,
   "metadata": {
    "colab": {
     "base_uri": "https://localhost:8080/",
     "height": 54
    },
    "colab_type": "code",
    "executionInfo": {
     "elapsed": 335,
     "status": "ok",
     "timestamp": 1583960310880,
     "user": {
      "displayName": "Keonho Kim",
      "photoUrl": "",
      "userId": "05398618637237030774"
     },
     "user_tz": 240
    },
    "id": "DLZ0itvqY7Rv",
    "outputId": "814b74f1-38c2-48cd-d1d8-d619b754fbbd"
   },
   "outputs": [
    {
     "data": {
      "text/plain": [
       "Index(['ind', 'adr', 'p', 'n_killed', 'n_injured', 'state', 'LON', 'LAT',\n",
       "       'case', 'summary', 'age_of_shooter', 'prior_signs_mental_health_issues',\n",
       "       'mental_health_details', 'weapons_obtained_legally', 'where_obtained',\n",
       "       'weapon_type', 'weapon_details', 'race', 'gender',\n",
       "       'mental_health_sources', 'sources_additional_age', 'type'],\n",
       "      dtype='object')"
      ]
     },
     "execution_count": 9,
     "metadata": {},
     "output_type": "execute_result"
    }
   ],
   "source": [
    "df.columns"
   ]
  },
  {
   "cell_type": "code",
   "execution_count": 15,
   "metadata": {
    "colab": {},
    "colab_type": "code",
    "id": "PMiQQgzHcOlk"
   },
   "outputs": [],
   "source": [
    "df['date'] = pd.to_datetime(df['date'])"
   ]
  },
  {
   "cell_type": "code",
   "execution_count": 16,
   "metadata": {
    "colab": {},
    "colab_type": "code",
    "id": "jrhWqAgTUtPT"
   },
   "outputs": [],
   "source": [
    "G = nx.DiGraph()"
   ]
  },
  {
   "cell_type": "code",
   "execution_count": null,
   "metadata": {
    "colab": {},
    "colab_type": "code",
    "id": "IafiCwtrVjZf"
   },
   "outputs": [],
   "source": [
    "for i in range(0, len(df), 1):\n",
    "  G.add_node(i, \n",
    "             date = df['date'][i],\n",
    "             p = df['p'][i],\n",
    "             n_killed = df['n_killed'][i],\n",
    "             n_injured = df['n_injured'][i],\n",
    "             LON = df['LON'][i],\n",
    "             LAT = df['LAT'][i],)"
   ]
  },
  {
   "cell_type": "code",
   "execution_count": null,
   "metadata": {
    "colab": {},
    "colab_type": "code",
    "id": "J3-v98ZCfLl_"
   },
   "outputs": [],
   "source": [
    "for i in G.nodes():\n",
    "  for j in G.nodes():\n",
    "    if G.nodes[i]['date'] < G.nodes[j]['date']:\n",
    "      G.add_edge(i, j)\n",
    "    else: \n",
    "      pass"
   ]
  },
  {
   "cell_type": "code",
   "execution_count": null,
   "metadata": {
    "colab": {
     "base_uri": "https://localhost:8080/",
     "height": 340
    },
    "colab_type": "code",
    "executionInfo": {
     "elapsed": 449,
     "status": "error",
     "timestamp": 1583963026382,
     "user": {
      "displayName": "Keonho Kim",
      "photoUrl": "",
      "userId": "05398618637237030774"
     },
     "user_tz": 240
    },
    "id": "i2NF0GT-gyL0",
    "outputId": "8daf0c9c-94cc-47a6-b499-16e65bda2084"
   },
   "outputs": [
    {
     "ename": "NetworkXError",
     "evalue": "ignored",
     "output_type": "error",
     "traceback": [
      "\u001b[0;31m---------------------------------------------------------------------------\u001b[0m",
      "\u001b[0;31mNetworkXError\u001b[0m                             Traceback (most recent call last)",
      "\u001b[0;32m<ipython-input-128-620a3fc0a3d5>\u001b[0m in \u001b[0;36m<module>\u001b[0;34m()\u001b[0m\n\u001b[0;32m----> 1\u001b[0;31m \u001b[0mnx\u001b[0m\u001b[0;34m.\u001b[0m\u001b[0mwrite_gml\u001b[0m\u001b[0;34m(\u001b[0m\u001b[0mG\u001b[0m\u001b[0;34m,\u001b[0m \u001b[0;34m\"graph.gml\"\u001b[0m\u001b[0;34m)\u001b[0m\u001b[0;34m\u001b[0m\u001b[0;34m\u001b[0m\u001b[0m\n\u001b[0m",
      "\u001b[0;32m</usr/local/lib/python3.6/dist-packages/decorator.py:decorator-gen-776>\u001b[0m in \u001b[0;36mwrite_gml\u001b[0;34m(G, path, stringizer)\u001b[0m\n",
      "\u001b[0;32m/usr/local/lib/python3.6/dist-packages/networkx/utils/decorators.py\u001b[0m in \u001b[0;36m_open_file\u001b[0;34m(func_to_be_decorated, *args, **kwargs)\u001b[0m\n\u001b[1;32m    238\u001b[0m         \u001b[0;31m# Finally, we call the original function, making sure to close the fobj\u001b[0m\u001b[0;34m\u001b[0m\u001b[0;34m\u001b[0m\u001b[0;34m\u001b[0m\u001b[0m\n\u001b[1;32m    239\u001b[0m         \u001b[0;32mtry\u001b[0m\u001b[0;34m:\u001b[0m\u001b[0;34m\u001b[0m\u001b[0;34m\u001b[0m\u001b[0m\n\u001b[0;32m--> 240\u001b[0;31m             \u001b[0mresult\u001b[0m \u001b[0;34m=\u001b[0m \u001b[0mfunc_to_be_decorated\u001b[0m\u001b[0;34m(\u001b[0m\u001b[0;34m*\u001b[0m\u001b[0mnew_args\u001b[0m\u001b[0;34m,\u001b[0m \u001b[0;34m**\u001b[0m\u001b[0mkwargs\u001b[0m\u001b[0;34m)\u001b[0m\u001b[0;34m\u001b[0m\u001b[0;34m\u001b[0m\u001b[0m\n\u001b[0m\u001b[1;32m    241\u001b[0m         \u001b[0;32mfinally\u001b[0m\u001b[0;34m:\u001b[0m\u001b[0;34m\u001b[0m\u001b[0;34m\u001b[0m\u001b[0m\n\u001b[1;32m    242\u001b[0m             \u001b[0;32mif\u001b[0m \u001b[0mclose_fobj\u001b[0m\u001b[0;34m:\u001b[0m\u001b[0;34m\u001b[0m\u001b[0;34m\u001b[0m\u001b[0m\n",
      "\u001b[0;32m/usr/local/lib/python3.6/dist-packages/networkx/readwrite/gml.py\u001b[0m in \u001b[0;36mwrite_gml\u001b[0;34m(G, path, stringizer)\u001b[0m\n\u001b[1;32m    831\u001b[0m     \u001b[0;34m>>\u001b[0m\u001b[0;34m>\u001b[0m \u001b[0mnx\u001b[0m\u001b[0;34m.\u001b[0m\u001b[0mwrite_gml\u001b[0m\u001b[0;34m(\u001b[0m\u001b[0mG\u001b[0m\u001b[0;34m,\u001b[0m \u001b[0;34m\"test.gml.gz\"\u001b[0m\u001b[0;34m)\u001b[0m\u001b[0;34m\u001b[0m\u001b[0;34m\u001b[0m\u001b[0m\n\u001b[1;32m    832\u001b[0m     \"\"\"\n\u001b[0;32m--> 833\u001b[0;31m     \u001b[0;32mfor\u001b[0m \u001b[0mline\u001b[0m \u001b[0;32min\u001b[0m \u001b[0mgenerate_gml\u001b[0m\u001b[0;34m(\u001b[0m\u001b[0mG\u001b[0m\u001b[0;34m,\u001b[0m \u001b[0mstringizer\u001b[0m\u001b[0;34m)\u001b[0m\u001b[0;34m:\u001b[0m\u001b[0;34m\u001b[0m\u001b[0;34m\u001b[0m\u001b[0m\n\u001b[0m\u001b[1;32m    834\u001b[0m         \u001b[0mpath\u001b[0m\u001b[0;34m.\u001b[0m\u001b[0mwrite\u001b[0m\u001b[0;34m(\u001b[0m\u001b[0;34m(\u001b[0m\u001b[0mline\u001b[0m \u001b[0;34m+\u001b[0m \u001b[0;34m'\\n'\u001b[0m\u001b[0;34m)\u001b[0m\u001b[0;34m.\u001b[0m\u001b[0mencode\u001b[0m\u001b[0;34m(\u001b[0m\u001b[0;34m'ascii'\u001b[0m\u001b[0;34m)\u001b[0m\u001b[0;34m)\u001b[0m\u001b[0;34m\u001b[0m\u001b[0;34m\u001b[0m\u001b[0m\n\u001b[1;32m    835\u001b[0m \u001b[0;34m\u001b[0m\u001b[0m\n",
      "\u001b[0;32m/usr/local/lib/python3.6/dist-packages/networkx/readwrite/gml.py\u001b[0m in \u001b[0;36mgenerate_gml\u001b[0;34m(G, stringizer)\u001b[0m\n\u001b[1;32m    747\u001b[0m             \u001b[0;32myield\u001b[0m \u001b[0mline\u001b[0m\u001b[0;34m\u001b[0m\u001b[0;34m\u001b[0m\u001b[0m\n\u001b[1;32m    748\u001b[0m         \u001b[0;32mfor\u001b[0m \u001b[0mattr\u001b[0m\u001b[0;34m,\u001b[0m \u001b[0mvalue\u001b[0m \u001b[0;32min\u001b[0m \u001b[0mattrs\u001b[0m\u001b[0;34m.\u001b[0m\u001b[0mitems\u001b[0m\u001b[0;34m(\u001b[0m\u001b[0;34m)\u001b[0m\u001b[0;34m:\u001b[0m\u001b[0;34m\u001b[0m\u001b[0;34m\u001b[0m\u001b[0m\n\u001b[0;32m--> 749\u001b[0;31m             \u001b[0;32mfor\u001b[0m \u001b[0mline\u001b[0m \u001b[0;32min\u001b[0m \u001b[0mstringize\u001b[0m\u001b[0;34m(\u001b[0m\u001b[0mattr\u001b[0m\u001b[0;34m,\u001b[0m \u001b[0mvalue\u001b[0m\u001b[0;34m,\u001b[0m \u001b[0mignored_keys\u001b[0m\u001b[0;34m,\u001b[0m \u001b[0;34m'    '\u001b[0m\u001b[0;34m)\u001b[0m\u001b[0;34m:\u001b[0m\u001b[0;34m\u001b[0m\u001b[0;34m\u001b[0m\u001b[0m\n\u001b[0m\u001b[1;32m    750\u001b[0m                 \u001b[0;32myield\u001b[0m \u001b[0mline\u001b[0m\u001b[0;34m\u001b[0m\u001b[0;34m\u001b[0m\u001b[0m\n\u001b[1;32m    751\u001b[0m         \u001b[0;32myield\u001b[0m \u001b[0;34m'  ]'\u001b[0m\u001b[0;34m\u001b[0m\u001b[0;34m\u001b[0m\u001b[0m\n",
      "\u001b[0;32m/usr/local/lib/python3.6/dist-packages/networkx/readwrite/gml.py\u001b[0m in \u001b[0;36mstringize\u001b[0;34m(key, value, ignored_keys, indent, in_list)\u001b[0m\n\u001b[1;32m    722\u001b[0m                             '%r cannot be converted into a string' % (value,))\n\u001b[1;32m    723\u001b[0m                 \u001b[0;32mif\u001b[0m \u001b[0;32mnot\u001b[0m \u001b[0misinstance\u001b[0m\u001b[0;34m(\u001b[0m\u001b[0mvalue\u001b[0m\u001b[0;34m,\u001b[0m \u001b[0;34m(\u001b[0m\u001b[0mstr\u001b[0m\u001b[0;34m,\u001b[0m \u001b[0municode\u001b[0m\u001b[0;34m)\u001b[0m\u001b[0;34m)\u001b[0m\u001b[0;34m:\u001b[0m\u001b[0;34m\u001b[0m\u001b[0;34m\u001b[0m\u001b[0m\n\u001b[0;32m--> 724\u001b[0;31m                     \u001b[0;32mraise\u001b[0m \u001b[0mNetworkXError\u001b[0m\u001b[0;34m(\u001b[0m\u001b[0;34m'%r is not a string'\u001b[0m \u001b[0;34m%\u001b[0m \u001b[0;34m(\u001b[0m\u001b[0mvalue\u001b[0m\u001b[0;34m,\u001b[0m\u001b[0;34m)\u001b[0m\u001b[0;34m)\u001b[0m\u001b[0;34m\u001b[0m\u001b[0;34m\u001b[0m\u001b[0m\n\u001b[0m\u001b[1;32m    725\u001b[0m                 \u001b[0;32myield\u001b[0m \u001b[0mindent\u001b[0m \u001b[0;34m+\u001b[0m \u001b[0mkey\u001b[0m \u001b[0;34m+\u001b[0m \u001b[0;34m' \"'\u001b[0m \u001b[0;34m+\u001b[0m \u001b[0mescape\u001b[0m\u001b[0;34m(\u001b[0m\u001b[0mvalue\u001b[0m\u001b[0;34m)\u001b[0m \u001b[0;34m+\u001b[0m \u001b[0;34m'\"'\u001b[0m\u001b[0;34m\u001b[0m\u001b[0;34m\u001b[0m\u001b[0m\n\u001b[1;32m    726\u001b[0m \u001b[0;34m\u001b[0m\u001b[0m\n",
      "\u001b[0;31mNetworkXError\u001b[0m: Timestamp('2014-01-01 00:00:00') is not a string"
     ]
    }
   ],
   "source": [
    "nx.write_gml(G, \"graph.gml\")"
   ]
  },
  {
   "cell_type": "markdown",
   "metadata": {
    "colab_type": "text",
    "id": "I91eucVajin3"
   },
   "source": [
    "---\n",
    "\n",
    "To resolve the problem, I try to change the timestamps into new index.\n",
    "\n",
    "if the result from comparing two element has same date, it assigns a same index value, and if not, they index number is increase (+1)\n",
    "\n",
    "---"
   ]
  },
  {
   "cell_type": "code",
   "execution_count": 7,
   "metadata": {
    "colab": {},
    "colab_type": "code",
    "id": "pUowTMvpDaYH"
   },
   "outputs": [],
   "source": [
    "#### I need to add index column to create network.\n",
    "#### add time index (ind_t)\n",
    "\n",
    "df['ind_t'] = \"\""
   ]
  },
  {
   "cell_type": "code",
   "execution_count": 8,
   "metadata": {
    "colab": {
     "base_uri": "https://localhost:8080/",
     "height": 119
    },
    "colab_type": "code",
    "executionInfo": {
     "elapsed": 326,
     "status": "ok",
     "timestamp": 1583972576546,
     "user": {
      "displayName": "Keonho Kim",
      "photoUrl": "",
      "userId": "05398618637237030774"
     },
     "user_tz": 240
    },
    "id": "E-A51KrCHT0l",
    "outputId": "16b9e12c-7493-4afe-8b53-b61a49aa2dd1"
   },
   "outputs": [
    {
     "name": "stdout",
     "output_type": "stream",
     "text": [
      "0\n"
     ]
    },
    {
     "name": "stderr",
     "output_type": "stream",
     "text": [
      "/home/kh/anaconda3/lib/python3.7/site-packages/ipykernel_launcher.py:1: SettingWithCopyWarning: \n",
      "A value is trying to be set on a copy of a slice from a DataFrame\n",
      "\n",
      "See the caveats in the documentation: https://pandas.pydata.org/pandas-docs/stable/user_guide/indexing.html#returning-a-view-versus-a-copy\n",
      "  \"\"\"Entry point for launching an IPython kernel.\n"
     ]
    }
   ],
   "source": [
    "df['ind_t'][0] = 0 \n",
    "print(df['ind_t'][0])"
   ]
  },
  {
   "cell_type": "code",
   "execution_count": 9,
   "metadata": {
    "colab": {
     "base_uri": "https://localhost:8080/",
     "height": 187
    },
    "colab_type": "code",
    "executionInfo": {
     "elapsed": 455,
     "status": "ok",
     "timestamp": 1583972652006,
     "user": {
      "displayName": "Keonho Kim",
      "photoUrl": "",
      "userId": "05398618637237030774"
     },
     "user_tz": 240
    },
    "id": "vAlr4WtIkatx",
    "outputId": "f239952f-d797-4e53-a176-1c2ed89acdab"
   },
   "outputs": [
    {
     "name": "stderr",
     "output_type": "stream",
     "text": [
      "/home/kh/anaconda3/lib/python3.7/site-packages/ipykernel_launcher.py:6: SettingWithCopyWarning: \n",
      "A value is trying to be set on a copy of a slice from a DataFrame\n",
      "\n",
      "See the caveats in the documentation: https://pandas.pydata.org/pandas-docs/stable/user_guide/indexing.html#returning-a-view-versus-a-copy\n",
      "  \n",
      "/home/kh/anaconda3/lib/python3.7/site-packages/ipykernel_launcher.py:9: SettingWithCopyWarning: \n",
      "A value is trying to be set on a copy of a slice from a DataFrame\n",
      "\n",
      "See the caveats in the documentation: https://pandas.pydata.org/pandas-docs/stable/user_guide/indexing.html#returning-a-view-versus-a-copy\n",
      "  if __name__ == '__main__':\n"
     ]
    }
   ],
   "source": [
    "i = 0\n",
    "\n",
    "for j in range(1, len(df), 1):\n",
    "  if df['date'][j-1] < df['date'][j]:\n",
    "    i += 1\n",
    "    df['ind_t'][j] = i\n",
    "    \n",
    "  else:\n",
    "    df['ind_t'][j] = i"
   ]
  },
  {
   "cell_type": "code",
   "execution_count": 10,
   "metadata": {
    "colab": {
     "base_uri": "https://localhost:8080/",
     "height": 530
    },
    "colab_type": "code",
    "executionInfo": {
     "elapsed": 355,
     "status": "ok",
     "timestamp": 1583972701161,
     "user": {
      "displayName": "Keonho Kim",
      "photoUrl": "",
      "userId": "05398618637237030774"
     },
     "user_tz": 240
    },
    "id": "AfubQO0uDvp_",
    "outputId": "f371df84-49ff-455e-a542-5114ce7933c8"
   },
   "outputs": [
    {
     "data": {
      "text/html": [
       "<div>\n",
       "<style scoped>\n",
       "    .dataframe tbody tr th:only-of-type {\n",
       "        vertical-align: middle;\n",
       "    }\n",
       "\n",
       "    .dataframe tbody tr th {\n",
       "        vertical-align: top;\n",
       "    }\n",
       "\n",
       "    .dataframe thead th {\n",
       "        text-align: right;\n",
       "    }\n",
       "</style>\n",
       "<table border=\"1\" class=\"dataframe\">\n",
       "  <thead>\n",
       "    <tr style=\"text-align: right;\">\n",
       "      <th></th>\n",
       "      <th>ind</th>\n",
       "      <th>ind_t</th>\n",
       "      <th>date</th>\n",
       "      <th>adr</th>\n",
       "      <th>p</th>\n",
       "      <th>n_killed</th>\n",
       "      <th>n_injured</th>\n",
       "      <th>city</th>\n",
       "      <th>state</th>\n",
       "      <th>LON</th>\n",
       "      <th>...</th>\n",
       "      <th>mental_health_details</th>\n",
       "      <th>weapons_obtained_legally</th>\n",
       "      <th>where_obtained</th>\n",
       "      <th>weapon_type</th>\n",
       "      <th>weapon_details</th>\n",
       "      <th>race</th>\n",
       "      <th>gender</th>\n",
       "      <th>mental_health_sources</th>\n",
       "      <th>sources_additional_age</th>\n",
       "      <th>type</th>\n",
       "    </tr>\n",
       "  </thead>\n",
       "  <tbody>\n",
       "    <tr>\n",
       "      <th>0</th>\n",
       "      <td>0</td>\n",
       "      <td>0</td>\n",
       "      <td>2014-01-01</td>\n",
       "      <td>Rockingham Street and Berkley Avenue Extended ...</td>\n",
       "      <td>2.855649</td>\n",
       "      <td>2</td>\n",
       "      <td>2</td>\n",
       "      <td>Norfolk</td>\n",
       "      <td>Virginia</td>\n",
       "      <td>-76.278935</td>\n",
       "      <td>...</td>\n",
       "      <td>NaN</td>\n",
       "      <td>NaN</td>\n",
       "      <td>NaN</td>\n",
       "      <td>NaN</td>\n",
       "      <td>NaN</td>\n",
       "      <td>NaN</td>\n",
       "      <td>NaN</td>\n",
       "      <td>NaN</td>\n",
       "      <td>NaN</td>\n",
       "      <td>NaN</td>\n",
       "    </tr>\n",
       "    <tr>\n",
       "      <th>1</th>\n",
       "      <td>1</td>\n",
       "      <td>1</td>\n",
       "      <td>2014-01-03</td>\n",
       "      <td>Farmers Boulevard and 133rd Avenue Queens New ...</td>\n",
       "      <td>2.390389</td>\n",
       "      <td>1</td>\n",
       "      <td>3</td>\n",
       "      <td>Queens</td>\n",
       "      <td>New York</td>\n",
       "      <td>-73.762898</td>\n",
       "      <td>...</td>\n",
       "      <td>NaN</td>\n",
       "      <td>NaN</td>\n",
       "      <td>NaN</td>\n",
       "      <td>NaN</td>\n",
       "      <td>NaN</td>\n",
       "      <td>NaN</td>\n",
       "      <td>NaN</td>\n",
       "      <td>NaN</td>\n",
       "      <td>NaN</td>\n",
       "      <td>NaN</td>\n",
       "    </tr>\n",
       "    <tr>\n",
       "      <th>2</th>\n",
       "      <td>2</td>\n",
       "      <td>2</td>\n",
       "      <td>2014-01-05</td>\n",
       "      <td>829 Parade St Erie Pennsylvania</td>\n",
       "      <td>2.390389</td>\n",
       "      <td>1</td>\n",
       "      <td>3</td>\n",
       "      <td>Erie</td>\n",
       "      <td>Pennsylvania</td>\n",
       "      <td>-80.074524</td>\n",
       "      <td>...</td>\n",
       "      <td>NaN</td>\n",
       "      <td>NaN</td>\n",
       "      <td>NaN</td>\n",
       "      <td>NaN</td>\n",
       "      <td>NaN</td>\n",
       "      <td>NaN</td>\n",
       "      <td>NaN</td>\n",
       "      <td>NaN</td>\n",
       "      <td>NaN</td>\n",
       "      <td>NaN</td>\n",
       "    </tr>\n",
       "    <tr>\n",
       "      <th>3</th>\n",
       "      <td>3</td>\n",
       "      <td>3</td>\n",
       "      <td>2014-01-11</td>\n",
       "      <td>3430 W. Capitol Street Jackson Mississippi</td>\n",
       "      <td>1.515717</td>\n",
       "      <td>0</td>\n",
       "      <td>4</td>\n",
       "      <td>Jackson</td>\n",
       "      <td>Mississippi</td>\n",
       "      <td>-90.228321</td>\n",
       "      <td>...</td>\n",
       "      <td>NaN</td>\n",
       "      <td>NaN</td>\n",
       "      <td>NaN</td>\n",
       "      <td>NaN</td>\n",
       "      <td>NaN</td>\n",
       "      <td>NaN</td>\n",
       "      <td>NaN</td>\n",
       "      <td>NaN</td>\n",
       "      <td>NaN</td>\n",
       "      <td>NaN</td>\n",
       "    </tr>\n",
       "    <tr>\n",
       "      <th>4</th>\n",
       "      <td>4</td>\n",
       "      <td>4</td>\n",
       "      <td>2014-01-12</td>\n",
       "      <td>University Drive Huntsville Alabama</td>\n",
       "      <td>1.620657</td>\n",
       "      <td>0</td>\n",
       "      <td>5</td>\n",
       "      <td>Huntsville</td>\n",
       "      <td>Alabama</td>\n",
       "      <td>-86.650390</td>\n",
       "      <td>...</td>\n",
       "      <td>NaN</td>\n",
       "      <td>NaN</td>\n",
       "      <td>NaN</td>\n",
       "      <td>NaN</td>\n",
       "      <td>NaN</td>\n",
       "      <td>NaN</td>\n",
       "      <td>NaN</td>\n",
       "      <td>NaN</td>\n",
       "      <td>NaN</td>\n",
       "      <td>NaN</td>\n",
       "    </tr>\n",
       "  </tbody>\n",
       "</table>\n",
       "<p>5 rows × 25 columns</p>\n",
       "</div>"
      ],
      "text/plain": [
       "   ind ind_t        date                                                adr  \\\n",
       "0    0     0  2014-01-01  Rockingham Street and Berkley Avenue Extended ...   \n",
       "1    1     1  2014-01-03  Farmers Boulevard and 133rd Avenue Queens New ...   \n",
       "2    2     2  2014-01-05                    829 Parade St Erie Pennsylvania   \n",
       "3    3     3  2014-01-11         3430 W. Capitol Street Jackson Mississippi   \n",
       "4    4     4  2014-01-12                University Drive Huntsville Alabama   \n",
       "\n",
       "          p  n_killed  n_injured        city         state        LON  ...  \\\n",
       "0  2.855649         2          2     Norfolk      Virginia -76.278935  ...   \n",
       "1  2.390389         1          3      Queens      New York -73.762898  ...   \n",
       "2  2.390389         1          3        Erie  Pennsylvania -80.074524  ...   \n",
       "3  1.515717         0          4     Jackson   Mississippi -90.228321  ...   \n",
       "4  1.620657         0          5  Huntsville       Alabama -86.650390  ...   \n",
       "\n",
       "   mental_health_details weapons_obtained_legally where_obtained weapon_type  \\\n",
       "0                    NaN                      NaN            NaN         NaN   \n",
       "1                    NaN                      NaN            NaN         NaN   \n",
       "2                    NaN                      NaN            NaN         NaN   \n",
       "3                    NaN                      NaN            NaN         NaN   \n",
       "4                    NaN                      NaN            NaN         NaN   \n",
       "\n",
       "  weapon_details race gender mental_health_sources sources_additional_age type  \n",
       "0            NaN  NaN    NaN                   NaN                    NaN  NaN  \n",
       "1            NaN  NaN    NaN                   NaN                    NaN  NaN  \n",
       "2            NaN  NaN    NaN                   NaN                    NaN  NaN  \n",
       "3            NaN  NaN    NaN                   NaN                    NaN  NaN  \n",
       "4            NaN  NaN    NaN                   NaN                    NaN  NaN  \n",
       "\n",
       "[5 rows x 25 columns]"
      ]
     },
     "execution_count": 10,
     "metadata": {},
     "output_type": "execute_result"
    }
   ],
   "source": [
    "cols = list(df.columns.values)\n",
    "cols.pop(cols.index('ind'))\n",
    "cols.pop(cols.index('ind_t'))\n",
    "\n",
    "df = df[['ind']+['ind_t']+cols]\n",
    "df.head()"
   ]
  },
  {
   "cell_type": "code",
   "execution_count": 11,
   "metadata": {
    "colab": {},
    "colab_type": "code",
    "id": "DbpK5Q7bInPZ"
   },
   "outputs": [],
   "source": [
    "df.to_csv(\"6before-network.csv\")"
   ]
  },
  {
   "cell_type": "markdown",
   "metadata": {
    "colab_type": "text",
    "id": "IO4FnHwMI4cy"
   },
   "source": [
    "---\n",
    "\n",
    "### Create a network again\n",
    "\n",
    "---"
   ]
  },
  {
   "cell_type": "code",
   "execution_count": null,
   "metadata": {
    "colab": {
     "base_uri": "https://localhost:8080/",
     "height": 54
    },
    "colab_type": "code",
    "executionInfo": {
     "elapsed": 360,
     "status": "ok",
     "timestamp": 1583973355274,
     "user": {
      "displayName": "Keonho Kim",
      "photoUrl": "",
      "userId": "05398618637237030774"
     },
     "user_tz": 240
    },
    "id": "nFhmqXwpJEFE",
    "outputId": "a4abadf5-87dd-47ea-ff2c-198c1befc2de"
   },
   "outputs": [
    {
     "name": "stdout",
     "output_type": "stream",
     "text": [
      "['ind', 'ind_t', 'date', 'adr', 'p', 'n_killed', 'n_injured', 'state', 'LON', 'LAT', 'case', 'summary', 'age_of_shooter', 'prior_signs_mental_health_issues', 'mental_health_details', 'weapons_obtained_legally', 'where_obtained', 'weapon_type', 'weapon_details', 'race', 'gender', 'mental_health_sources', 'sources_additional_age', 'type']\n"
     ]
    }
   ],
   "source": [
    "cols = list(df.columns.values)\n",
    "print(cols)"
   ]
  },
  {
   "cell_type": "code",
   "execution_count": null,
   "metadata": {
    "colab": {},
    "colab_type": "code",
    "id": "K4gPuh--JLAQ"
   },
   "outputs": [],
   "source": [
    "for n in range(0, len(df), 1):\n",
    "  G.add_node(n,\n",
    "             ind = df['ind'][n],\n",
    "             ind_t = df['ind_t'][n], \n",
    "             date = df['date'][n],\n",
    "             p = df['p'][n],\n",
    "             n_killed = df['n_killed'][n],\n",
    "             n_injured = df['n_injured'][n],\n",
    "             LON = df['LON'][n],\n",
    "             LAT = df['LAT'][n],)"
   ]
  },
  {
   "cell_type": "code",
   "execution_count": null,
   "metadata": {
    "colab": {},
    "colab_type": "code",
    "id": "M1Iq6Gg9JOzQ"
   },
   "outputs": [],
   "source": [
    "for i in G.nodes():\n",
    "  for j in G.nodes():\n",
    "    if G.nodes[i]['ind_t'] < G.nodes[j]['ind_t']:\n",
    "      G.add_edge(i, j)\n",
    "    else: \n",
    "      pass"
   ]
  }
 ],
 "metadata": {
  "colab": {
   "authorship_tag": "ABX9TyP6wvLmT7mOARMBxNYxLc+Y",
   "collapsed_sections": [],
   "mount_file_id": "1mKjbTyx3_fVM1P8vqqHfhbO0etxtV9Zr",
   "name": "6create_network.ipynb",
   "provenance": []
  },
  "kernelspec": {
   "display_name": "Python 3",
   "language": "python",
   "name": "python3"
  },
  "language_info": {
   "codemirror_mode": {
    "name": "ipython",
    "version": 3
   },
   "file_extension": ".py",
   "mimetype": "text/x-python",
   "name": "python",
   "nbconvert_exporter": "python",
   "pygments_lexer": "ipython3",
   "version": "3.7.7"
  }
 },
 "nbformat": 4,
 "nbformat_minor": 4
}
