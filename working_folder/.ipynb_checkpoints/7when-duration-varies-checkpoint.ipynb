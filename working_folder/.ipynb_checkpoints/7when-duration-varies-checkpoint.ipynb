{
 "cells": [
  {
   "cell_type": "markdown",
   "metadata": {
    "colab_type": "text",
    "id": "iFfJIeKDNMpM"
   },
   "source": [
    "---\n",
    "### Reducing the number of edges: find a rational rule\n",
    "\n",
    "1. Set window: Confine the lifespan of event, probably 1-2 months. This is the easiest way. Plus, it is crucial for time-series analysis.  \n",
    "One thing that should be considered is, there are two types of events: powerful or negligible.\n",
    "\n",
    "2. it looks like power-law function. $f= p^{-t}$ is basic form of it, we (may) need to modify this. \n",
    "\n",
    "3. Using collective attention: how long a event-related hashtag survive. but it is hard to find event-specific hashtag, and also most of events are not mentioned in Twitter.\n",
    "\n",
    "1 and 2 seems to be plausible (and probably work at the same time), but 3 seem like unfeasible.\n",
    "\n",
    "---"
   ]
  },
  {
   "cell_type": "code",
   "execution_count": 3,
   "metadata": {
    "colab": {},
    "colab_type": "code",
    "id": "VhqdyH2vNQUx"
   },
   "outputs": [],
   "source": [
    "import numpy as np\n",
    "import pandas as pd\n",
    "import networkx as nx\n",
    "import seaborn as sns\n",
    "import matplotlib.pyplot as plt"
   ]
  },
  {
   "cell_type": "code",
   "execution_count": 5,
   "metadata": {
    "colab": {
     "base_uri": "https://localhost:8080/",
     "height": 530
    },
    "colab_type": "code",
    "executionInfo": {
     "elapsed": 366,
     "status": "ok",
     "timestamp": 1583981465944,
     "user": {
      "displayName": "Keonho Kim",
      "photoUrl": "",
      "userId": "05398618637237030774"
     },
     "user_tz": 240
    },
    "id": "yLHtUSPDNRlK",
    "outputId": "b2f125f1-e504-48d4-e855-3a16e7c48858"
   },
   "outputs": [
    {
     "data": {
      "text/html": [
       "<div>\n",
       "<style scoped>\n",
       "    .dataframe tbody tr th:only-of-type {\n",
       "        vertical-align: middle;\n",
       "    }\n",
       "\n",
       "    .dataframe tbody tr th {\n",
       "        vertical-align: top;\n",
       "    }\n",
       "\n",
       "    .dataframe thead th {\n",
       "        text-align: right;\n",
       "    }\n",
       "</style>\n",
       "<table border=\"1\" class=\"dataframe\">\n",
       "  <thead>\n",
       "    <tr style=\"text-align: right;\">\n",
       "      <th></th>\n",
       "      <th>ind</th>\n",
       "      <th>ind_t</th>\n",
       "      <th>date</th>\n",
       "      <th>adr</th>\n",
       "      <th>p</th>\n",
       "      <th>n_killed</th>\n",
       "      <th>n_injured</th>\n",
       "      <th>state</th>\n",
       "      <th>LON</th>\n",
       "      <th>LAT</th>\n",
       "      <th>...</th>\n",
       "      <th>mental_health_details</th>\n",
       "      <th>weapons_obtained_legally</th>\n",
       "      <th>where_obtained</th>\n",
       "      <th>weapon_type</th>\n",
       "      <th>weapon_details</th>\n",
       "      <th>race</th>\n",
       "      <th>gender</th>\n",
       "      <th>mental_health_sources</th>\n",
       "      <th>sources_additional_age</th>\n",
       "      <th>type</th>\n",
       "    </tr>\n",
       "  </thead>\n",
       "  <tbody>\n",
       "    <tr>\n",
       "      <th>0</th>\n",
       "      <td>0</td>\n",
       "      <td>0</td>\n",
       "      <td>2014-01-01</td>\n",
       "      <td>Rockingham Street and Berkley Avenue Extended ...</td>\n",
       "      <td>2.855649</td>\n",
       "      <td>2</td>\n",
       "      <td>2</td>\n",
       "      <td>Virginia</td>\n",
       "      <td>-76.278935</td>\n",
       "      <td>36.830789</td>\n",
       "      <td>...</td>\n",
       "      <td>NaN</td>\n",
       "      <td>NaN</td>\n",
       "      <td>NaN</td>\n",
       "      <td>NaN</td>\n",
       "      <td>NaN</td>\n",
       "      <td>NaN</td>\n",
       "      <td>NaN</td>\n",
       "      <td>NaN</td>\n",
       "      <td>NaN</td>\n",
       "      <td>NaN</td>\n",
       "    </tr>\n",
       "    <tr>\n",
       "      <th>1</th>\n",
       "      <td>1</td>\n",
       "      <td>1</td>\n",
       "      <td>2014-01-03</td>\n",
       "      <td>Farmers Boulevard and 133rd Avenue Queens New ...</td>\n",
       "      <td>2.390389</td>\n",
       "      <td>1</td>\n",
       "      <td>3</td>\n",
       "      <td>New York</td>\n",
       "      <td>-73.762898</td>\n",
       "      <td>40.677500</td>\n",
       "      <td>...</td>\n",
       "      <td>NaN</td>\n",
       "      <td>NaN</td>\n",
       "      <td>NaN</td>\n",
       "      <td>NaN</td>\n",
       "      <td>NaN</td>\n",
       "      <td>NaN</td>\n",
       "      <td>NaN</td>\n",
       "      <td>NaN</td>\n",
       "      <td>NaN</td>\n",
       "      <td>NaN</td>\n",
       "    </tr>\n",
       "    <tr>\n",
       "      <th>2</th>\n",
       "      <td>2</td>\n",
       "      <td>2</td>\n",
       "      <td>2014-01-05</td>\n",
       "      <td>829 Parade St Erie Pennsylvania</td>\n",
       "      <td>2.390389</td>\n",
       "      <td>1</td>\n",
       "      <td>3</td>\n",
       "      <td>Pennsylvania</td>\n",
       "      <td>-80.074524</td>\n",
       "      <td>42.130038</td>\n",
       "      <td>...</td>\n",
       "      <td>NaN</td>\n",
       "      <td>NaN</td>\n",
       "      <td>NaN</td>\n",
       "      <td>NaN</td>\n",
       "      <td>NaN</td>\n",
       "      <td>NaN</td>\n",
       "      <td>NaN</td>\n",
       "      <td>NaN</td>\n",
       "      <td>NaN</td>\n",
       "      <td>NaN</td>\n",
       "    </tr>\n",
       "    <tr>\n",
       "      <th>3</th>\n",
       "      <td>3</td>\n",
       "      <td>3</td>\n",
       "      <td>2014-01-11</td>\n",
       "      <td>3430 W. Capitol Street Jackson Mississippi</td>\n",
       "      <td>1.515717</td>\n",
       "      <td>0</td>\n",
       "      <td>4</td>\n",
       "      <td>Mississippi</td>\n",
       "      <td>-90.228321</td>\n",
       "      <td>32.323689</td>\n",
       "      <td>...</td>\n",
       "      <td>NaN</td>\n",
       "      <td>NaN</td>\n",
       "      <td>NaN</td>\n",
       "      <td>NaN</td>\n",
       "      <td>NaN</td>\n",
       "      <td>NaN</td>\n",
       "      <td>NaN</td>\n",
       "      <td>NaN</td>\n",
       "      <td>NaN</td>\n",
       "      <td>NaN</td>\n",
       "    </tr>\n",
       "    <tr>\n",
       "      <th>4</th>\n",
       "      <td>4</td>\n",
       "      <td>4</td>\n",
       "      <td>2014-01-12</td>\n",
       "      <td>University Drive Huntsville Alabama</td>\n",
       "      <td>1.620657</td>\n",
       "      <td>0</td>\n",
       "      <td>5</td>\n",
       "      <td>Alabama</td>\n",
       "      <td>-86.650390</td>\n",
       "      <td>34.736562</td>\n",
       "      <td>...</td>\n",
       "      <td>NaN</td>\n",
       "      <td>NaN</td>\n",
       "      <td>NaN</td>\n",
       "      <td>NaN</td>\n",
       "      <td>NaN</td>\n",
       "      <td>NaN</td>\n",
       "      <td>NaN</td>\n",
       "      <td>NaN</td>\n",
       "      <td>NaN</td>\n",
       "      <td>NaN</td>\n",
       "    </tr>\n",
       "  </tbody>\n",
       "</table>\n",
       "<p>5 rows × 24 columns</p>\n",
       "</div>"
      ],
      "text/plain": [
       "   ind  ind_t        date                                                adr  \\\n",
       "0    0      0  2014-01-01  Rockingham Street and Berkley Avenue Extended ...   \n",
       "1    1      1  2014-01-03  Farmers Boulevard and 133rd Avenue Queens New ...   \n",
       "2    2      2  2014-01-05                    829 Parade St Erie Pennsylvania   \n",
       "3    3      3  2014-01-11         3430 W. Capitol Street Jackson Mississippi   \n",
       "4    4      4  2014-01-12                University Drive Huntsville Alabama   \n",
       "\n",
       "          p  n_killed  n_injured         state        LON        LAT  ...  \\\n",
       "0  2.855649         2          2      Virginia -76.278935  36.830789  ...   \n",
       "1  2.390389         1          3      New York -73.762898  40.677500  ...   \n",
       "2  2.390389         1          3  Pennsylvania -80.074524  42.130038  ...   \n",
       "3  1.515717         0          4   Mississippi -90.228321  32.323689  ...   \n",
       "4  1.620657         0          5       Alabama -86.650390  34.736562  ...   \n",
       "\n",
       "  mental_health_details weapons_obtained_legally where_obtained weapon_type  \\\n",
       "0                   NaN                      NaN            NaN         NaN   \n",
       "1                   NaN                      NaN            NaN         NaN   \n",
       "2                   NaN                      NaN            NaN         NaN   \n",
       "3                   NaN                      NaN            NaN         NaN   \n",
       "4                   NaN                      NaN            NaN         NaN   \n",
       "\n",
       "  weapon_details race gender mental_health_sources sources_additional_age type  \n",
       "0            NaN  NaN    NaN                   NaN                    NaN  NaN  \n",
       "1            NaN  NaN    NaN                   NaN                    NaN  NaN  \n",
       "2            NaN  NaN    NaN                   NaN                    NaN  NaN  \n",
       "3            NaN  NaN    NaN                   NaN                    NaN  NaN  \n",
       "4            NaN  NaN    NaN                   NaN                    NaN  NaN  \n",
       "\n",
       "[5 rows x 24 columns]"
      ]
     },
     "execution_count": 5,
     "metadata": {},
     "output_type": "execute_result"
    }
   ],
   "source": [
    "# import dataset\n",
    "df = pd.read_csv(\"6before-network.csv\", index_col=0)\n",
    "df.head()"
   ]
  },
  {
   "cell_type": "code",
   "execution_count": 3,
   "metadata": {
    "colab": {
     "base_uri": "https://localhost:8080/",
     "height": 55
    },
    "colab_type": "code",
    "executionInfo": {
     "elapsed": 385,
     "status": "ok",
     "timestamp": 1583974061675,
     "user": {
      "displayName": "Keonho Kim",
      "photoUrl": "",
      "userId": "05398618637237030774"
     },
     "user_tz": 240
    },
    "id": "w4MZP1H7Ngxy",
    "outputId": "9b5c6b98-f57e-43a1-983f-01c07fed1036"
   },
   "outputs": [
    {
     "data": {
      "text/plain": [
       "Index(['ind', 'ind_t', 'date', 'adr', 'p', 'n_killed', 'n_injured', 'state',\n",
       "       'LON', 'LAT', 'case', 'summary', 'age_of_shooter',\n",
       "       'prior_signs_mental_health_issues', 'mental_health_details',\n",
       "       'weapons_obtained_legally', 'where_obtained', 'weapon_type',\n",
       "       'weapon_details', 'race', 'gender', 'mental_health_sources',\n",
       "       'sources_additional_age', 'type'],\n",
       "      dtype='object')"
      ]
     },
     "execution_count": 3,
     "metadata": {},
     "output_type": "execute_result"
    }
   ],
   "source": [
    "df.columns"
   ]
  },
  {
   "cell_type": "code",
   "execution_count": 4,
   "metadata": {},
   "outputs": [],
   "source": [
    "df['date'] = pd.to_datetime(df['date'])"
   ]
  },
  {
   "cell_type": "code",
   "execution_count": 5,
   "metadata": {},
   "outputs": [
    {
     "name": "stdout",
     "output_type": "stream",
     "text": [
      "count    2087.000000\n",
      "mean        2.279607\n",
      "std         1.052959\n",
      "min         1.515717\n",
      "25%         1.515717\n",
      "50%         2.390389\n",
      "75%         2.711770\n",
      "max        23.575299\n",
      "Name: p, dtype: float64 \n",
      " meidan:  2.3903891703159093\n"
     ]
    }
   ],
   "source": [
    "# descriptive: p\n",
    "\n",
    "print(df['p'].describe(),\"\\n\",\n",
    "      \"meidan: \", df['p'].median())\n"
   ]
  },
  {
   "cell_type": "markdown",
   "metadata": {},
   "source": [
    "### if only relatively powerful events affect all future events within 7 days"
   ]
  },
  {
   "cell_type": "code",
   "execution_count": 6,
   "metadata": {
    "colab": {},
    "colab_type": "code",
    "id": "oNF2svYaNh82"
   },
   "outputs": [],
   "source": [
    "G1 = nx.DiGraph()"
   ]
  },
  {
   "cell_type": "code",
   "execution_count": 7,
   "metadata": {
    "colab": {},
    "colab_type": "code",
    "id": "k3j9R8PqNjMM"
   },
   "outputs": [],
   "source": [
    "for n in range(0, len(df), 1):\n",
    "  G1.add_node(n,\n",
    "             ind = df['ind'][n],\n",
    "             ind_t = df['ind_t'][n],\n",
    "             p = df['p'][n],\n",
    "             n_killed = df['n_killed'][n],\n",
    "             n_injured = df['n_injured'][n],\n",
    "             LON = df['LON'][n],\n",
    "             LAT = df['LAT'][n])"
   ]
  },
  {
   "cell_type": "code",
   "execution_count": 8,
   "metadata": {
    "colab": {},
    "colab_type": "code",
    "id": "eQdx_r8Ia82K"
   },
   "outputs": [],
   "source": [
    "for i in G1.nodes():\n",
    "  for j in G1.nodes():\n",
    "    if 0 < G1.nodes[j]['ind_t']-G1.nodes[i]['ind_t'] < 7 and G1.nodes[i]['p'] > G1.nodes[j]['p']:\n",
    "      G1.add_edge(i,j)\n",
    "    else:\n",
    "      pass"
   ]
  },
  {
   "cell_type": "code",
   "execution_count": 9,
   "metadata": {},
   "outputs": [
    {
     "data": {
      "text/plain": [
       "'Name: \\nType: DiGraph\\nNumber of nodes: 2087\\nNumber of edges: 9462\\nAverage in degree:   4.5338\\nAverage out degree:   4.5338'"
      ]
     },
     "execution_count": 9,
     "metadata": {},
     "output_type": "execute_result"
    }
   ],
   "source": [
    "nx.info(G1)"
   ]
  },
  {
   "cell_type": "markdown",
   "metadata": {},
   "source": [
    "### Degree distribution"
   ]
  },
  {
   "cell_type": "code",
   "execution_count": 10,
   "metadata": {},
   "outputs": [],
   "source": [
    "G1_degree = []\n",
    "for i in range(len(G1.nodes())):\n",
    "    G1_dgr = G1.degree(i)\n",
    "    G1_degree.append(G1_dgr)"
   ]
  },
  {
   "cell_type": "code",
   "execution_count": 11,
   "metadata": {},
   "outputs": [
    {
     "data": {
      "image/png": "[encoded data removed]",
      "text/plain": [
       "<Figure size 432x288 with 1 Axes>"
      ]
     },
     "metadata": {
      "needs_background": "light"
     },
     "output_type": "display_data"
    }
   ],
   "source": [
    "G1_dgr_dist = plt.hist(G1_degree)"
   ]
  },
  {
   "cell_type": "code",
   "execution_count": 12,
   "metadata": {},
   "outputs": [],
   "source": [
    "nx.write_gexf(G1, \"G1.gexf\")"
   ]
  },
  {
   "cell_type": "markdown",
   "metadata": {},
   "source": [
    "### if only relatively powerful events affect all future events within 10 days"
   ]
  },
  {
   "cell_type": "code",
   "execution_count": 13,
   "metadata": {},
   "outputs": [],
   "source": [
    "G2 = nx.DiGraph()\n",
    "for n in range(0, len(df), 1):\n",
    "  G2.add_node(n,\n",
    "             ind = df['ind'][n],\n",
    "             ind_t = df['ind_t'][n], \n",
    "             p = df['p'][n],\n",
    "             n_killed = df['n_killed'][n],\n",
    "             n_injured = df['n_injured'][n],\n",
    "             LON = df['LON'][n],\n",
    "             LAT = df['LAT'][n])\n",
    "for i in G2.nodes():\n",
    "  for j in G2.nodes():\n",
    "    if 0 < G2.nodes[j]['ind_t']-G2.nodes[i]['ind_t'] < 10 and G2.nodes[i]['p'] > G2.nodes[j]['p']:\n",
    "      G2.add_edge(i,j)\n",
    "    else:\n",
    "      pass"
   ]
  },
  {
   "cell_type": "code",
   "execution_count": 14,
   "metadata": {},
   "outputs": [
    {
     "data": {
      "text/plain": [
       "'Name: \\nType: DiGraph\\nNumber of nodes: 2087\\nNumber of edges: 14175\\nAverage in degree:   6.7920\\nAverage out degree:   6.7920'"
      ]
     },
     "execution_count": 14,
     "metadata": {},
     "output_type": "execute_result"
    }
   ],
   "source": [
    "nx.info(G2)"
   ]
  },
  {
   "cell_type": "code",
   "execution_count": 15,
   "metadata": {},
   "outputs": [],
   "source": [
    "G2_degree = []\n",
    "for i in range(len(G2.nodes())):\n",
    "    G2_dgr = G2.degree(i)\n",
    "    G2_degree.append(G2_dgr)"
   ]
  },
  {
   "cell_type": "code",
   "execution_count": 16,
   "metadata": {},
   "outputs": [
    {
     "data": {
      "image/png": "[encoded data removed]",
      "text/plain": [
       "<Figure size 432x288 with 1 Axes>"
      ]
     },
     "metadata": {
      "needs_background": "light"
     },
     "output_type": "display_data"
    }
   ],
   "source": [
    "G2_dgr_dist = plt.hist(G2_degree)"
   ]
  },
  {
   "cell_type": "code",
   "execution_count": 17,
   "metadata": {},
   "outputs": [],
   "source": [
    "nx.write_gexf(G2, \"G2.gexf\")"
   ]
  },
  {
   "cell_type": "markdown",
   "metadata": {},
   "source": [
    "### if only relatively powerful events affect all future events within 14 days"
   ]
  },
  {
   "cell_type": "code",
   "execution_count": 18,
   "metadata": {},
   "outputs": [],
   "source": [
    "G3 = nx.DiGraph()"
   ]
  },
  {
   "cell_type": "code",
   "execution_count": 19,
   "metadata": {},
   "outputs": [],
   "source": [
    "for n in range(0, len(df), 1):\n",
    "  G3.add_node(n,\n",
    "             ind = df['ind'][n],\n",
    "             ind_t = df['ind_t'][n], \n",
    "             p = df['p'][n],\n",
    "             n_killed = df['n_killed'][n],\n",
    "             n_injured = df['n_injured'][n],\n",
    "             LON = df['LON'][n],\n",
    "             LAT = df['LAT'][n])\n",
    "for i in G3.nodes():\n",
    "  for j in G3.nodes():\n",
    "    if 0 < G3.nodes[j]['ind_t']-G3.nodes[i]['ind_t'] < 14 and G3.nodes[i]['p'] > G3.nodes[j]['p']:\n",
    "      G3.add_edge(i,j)\n",
    "    else:\n",
    "      pass"
   ]
  },
  {
   "cell_type": "code",
   "execution_count": 20,
   "metadata": {},
   "outputs": [
    {
     "data": {
      "text/plain": [
       "'Name: \\nType: DiGraph\\nNumber of nodes: 2087\\nNumber of edges: 20478\\nAverage in degree:   9.8122\\nAverage out degree:   9.8122'"
      ]
     },
     "execution_count": 20,
     "metadata": {},
     "output_type": "execute_result"
    }
   ],
   "source": [
    "nx.info(G3)"
   ]
  },
  {
   "cell_type": "markdown",
   "metadata": {},
   "source": [
    "### Degree distribution"
   ]
  },
  {
   "cell_type": "code",
   "execution_count": 21,
   "metadata": {},
   "outputs": [],
   "source": [
    "G3_degree = []\n",
    "for i in range(len(G3.nodes())):\n",
    "    G3_dgr = G3.degree(i)\n",
    "    G3_degree.append(G3_dgr)"
   ]
  },
  {
   "cell_type": "code",
   "execution_count": 22,
   "metadata": {},
   "outputs": [
    {
     "data": {
      "image/png": "[encoded data removed]",
      "text/plain": [
       "<Figure size 432x288 with 1 Axes>"
      ]
     },
     "metadata": {
      "needs_background": "light"
     },
     "output_type": "display_data"
    }
   ],
   "source": [
    "G3_dgr_dist = plt.hist(G3_degree)"
   ]
  },
  {
   "cell_type": "code",
   "execution_count": 23,
   "metadata": {},
   "outputs": [],
   "source": [
    "nx.write_gexf(G3, \"G3.gexf\")"
   ]
  },
  {
   "cell_type": "markdown",
   "metadata": {},
   "source": [
    "### if only relatively powerful events affect all future events within 21 days"
   ]
  },
  {
   "cell_type": "code",
   "execution_count": 6,
   "metadata": {},
   "outputs": [
    {
     "data": {
      "text/plain": [
       "'Name: \\nType: DiGraph\\nNumber of nodes: 2087\\nNumber of edges: 31324\\nAverage in degree:  15.0091\\nAverage out degree:  15.0091'"
      ]
     },
     "execution_count": 6,
     "metadata": {},
     "output_type": "execute_result"
    }
   ],
   "source": [
    "G4 = nx.DiGraph()\n",
    "for n in range(0, len(df), 1):\n",
    "  G4.add_node(n,\n",
    "             ind = df['ind'][n],\n",
    "             ind_t = df['ind_t'][n], \n",
    "             p = df['p'][n],\n",
    "             n_killed = df['n_killed'][n],\n",
    "             n_injured = df['n_injured'][n],\n",
    "             LON = df['LON'][n],\n",
    "             LAT = df['LAT'][n])\n",
    "for i in G4.nodes():\n",
    "  for j in G4.nodes():\n",
    "    if 0 < G4.nodes[j]['ind_t']-G4.nodes[i]['ind_t'] < 21 and G4.nodes[i]['p'] > G4.nodes[j]['p']:\n",
    "      G4.add_edge(i,j)\n",
    "    else:\n",
    "      pass\n",
    "\n",
    "nx.info(G4)"
   ]
  },
  {
   "cell_type": "code",
   "execution_count": 7,
   "metadata": {},
   "outputs": [
    {
     "data": {
      "image/png": "[encoded data removed]",
      "text/plain": [
       "<Figure size 432x288 with 1 Axes>"
      ]
     },
     "metadata": {
      "needs_background": "light"
     },
     "output_type": "display_data"
    }
   ],
   "source": [
    "G4_degree = []\n",
    "for i in range(len(G4.nodes())):\n",
    "    G4_dgr = G4.degree(i)\n",
    "    G4_degree.append(G4_dgr)\n",
    "    \n",
    "G4_dgr_dist = plt.hist(G4_degree)"
   ]
  },
  {
   "cell_type": "code",
   "execution_count": 8,
   "metadata": {},
   "outputs": [],
   "source": [
    "nx.write_gexf(G4, \"G4.gexf\")"
   ]
  },
  {
   "cell_type": "markdown",
   "metadata": {},
   "source": [
    "### if only relatively powerful events affect all future events within 28 days"
   ]
  },
  {
   "cell_type": "code",
   "execution_count": 10,
   "metadata": {},
   "outputs": [
    {
     "data": {
      "text/plain": [
       "'Name: \\nType: DiGraph\\nNumber of nodes: 2087\\nNumber of edges: 42198\\nAverage in degree:  20.2195\\nAverage out degree:  20.2195'"
      ]
     },
     "execution_count": 10,
     "metadata": {},
     "output_type": "execute_result"
    }
   ],
   "source": [
    "G5 = nx.DiGraph()\n",
    "for n in range(0, len(df), 1):\n",
    "  G5.add_node(n,\n",
    "             ind = df['ind'][n],\n",
    "             ind_t = df['ind_t'][n], \n",
    "             p = df['p'][n],\n",
    "             n_killed = df['n_killed'][n],\n",
    "             n_injured = df['n_injured'][n],\n",
    "             LON = df['LON'][n],\n",
    "             LAT = df['LAT'][n])\n",
    "for i in G5.nodes():\n",
    "  for j in G5.nodes():\n",
    "    if 0 < G5.nodes[j]['ind_t']-G5.nodes[i]['ind_t'] < 28 and G5.nodes[i]['p'] > G5.nodes[j]['p']:\n",
    "      G5.add_edge(i,j)\n",
    "    else:\n",
    "      pass\n",
    "\n",
    "nx.info(G5)"
   ]
  },
  {
   "cell_type": "code",
   "execution_count": 11,
   "metadata": {},
   "outputs": [
    {
     "data": {
      "image/png": "[encoded data removed]",
      "text/plain": [
       "<Figure size 432x288 with 1 Axes>"
      ]
     },
     "metadata": {
      "needs_background": "light"
     },
     "output_type": "display_data"
    }
   ],
   "source": [
    "G5_degree = []\n",
    "for i in range(len(G5.nodes())):\n",
    "    G5_dgr = G5.degree(i)\n",
    "    G5_degree.append(G5_dgr)\n",
    "    \n",
    "G5_dgr_dist = plt.hist(G5_degree)"
   ]
  },
  {
   "cell_type": "code",
   "execution_count": 12,
   "metadata": {},
   "outputs": [],
   "source": [
    "nx.write_gexf(G5, \"G5.gexf\")"
   ]
  },
  {
   "cell_type": "markdown",
   "metadata": {},
   "source": [
    "### if only relatively powerful events affect all future events within 31 days"
   ]
  },
  {
   "cell_type": "code",
   "execution_count": 18,
   "metadata": {},
   "outputs": [
    {
     "data": {
      "text/plain": [
       "'Name: \\nType: DiGraph\\nNumber of nodes: 2087\\nNumber of edges: 46829\\nAverage in degree:  22.4384\\nAverage out degree:  22.4384'"
      ]
     },
     "execution_count": 18,
     "metadata": {},
     "output_type": "execute_result"
    }
   ],
   "source": [
    "G6 = nx.DiGraph()\n",
    "for n in range(0, len(df), 1):\n",
    "  G6.add_node(n,\n",
    "             ind = df['ind'][n],\n",
    "             ind_t = df['ind_t'][n], \n",
    "             p = df['p'][n],\n",
    "             n_killed = df['n_killed'][n],\n",
    "             n_injured = df['n_injured'][n],\n",
    "             LON = df['LON'][n],\n",
    "             LAT = df['LAT'][n])\n",
    "for i in G6.nodes():\n",
    "  for j in G6.nodes():\n",
    "    if 0 < G6.nodes[j]['ind_t']-G6.nodes[i]['ind_t'] < 31 and G6.nodes[i]['p'] > G6.nodes[j]['p']:\n",
    "      G6.add_edge(i,j)\n",
    "    else:\n",
    "      pass\n",
    "\n",
    "nx.info(G6)"
   ]
  },
  {
   "cell_type": "code",
   "execution_count": 19,
   "metadata": {},
   "outputs": [
    {
     "data": {
      "image/png": "[encoded data removed]",
      "text/plain": [
       "<Figure size 432x288 with 1 Axes>"
      ]
     },
     "metadata": {
      "needs_background": "light"
     },
     "output_type": "display_data"
    }
   ],
   "source": [
    "G6_degree = []\n",
    "for i in range(len(G6.nodes())):\n",
    "    G6_dgr = G6.degree(i)\n",
    "    G6_degree.append(G6_dgr)\n",
    "    \n",
    "G6_dgr_dist = plt.hist(G6_degree)"
   ]
  },
  {
   "cell_type": "code",
   "execution_count": 24,
   "metadata": {},
   "outputs": [],
   "source": [
    "nx.write_gexf(G6, \"G6.gexf\")"
   ]
  },
  {
   "cell_type": "markdown",
   "metadata": {},
   "source": [
    "### if only relatively powerful events affect all future events within 60 days"
   ]
  },
  {
   "cell_type": "code",
   "execution_count": 25,
   "metadata": {},
   "outputs": [
    {
     "data": {
      "text/plain": [
       "'Name: \\nType: DiGraph\\nNumber of nodes: 2087\\nNumber of edges: 90722\\nAverage in degree:  43.4701\\nAverage out degree:  43.4701'"
      ]
     },
     "execution_count": 25,
     "metadata": {},
     "output_type": "execute_result"
    }
   ],
   "source": [
    "G7 = nx.DiGraph()\n",
    "for n in range(0, len(df), 1):\n",
    "  G7.add_node(n,\n",
    "             ind = df['ind'][n],\n",
    "             ind_t = df['ind_t'][n], \n",
    "             p = df['p'][n],\n",
    "             n_killed = df['n_killed'][n],\n",
    "             n_injured = df['n_injured'][n],\n",
    "             LON = df['LON'][n],\n",
    "             LAT = df['LAT'][n])\n",
    "for i in G7.nodes():\n",
    "  for j in G7.nodes():\n",
    "    if 0 < G7.nodes[j]['ind_t']-G7.nodes[i]['ind_t'] < 60 and G7.nodes[i]['p'] > G7.nodes[j]['p']:\n",
    "      G7.add_edge(i,j)\n",
    "    else:\n",
    "      pass\n",
    "\n",
    "nx.info(G7)"
   ]
  },
  {
   "cell_type": "code",
   "execution_count": 26,
   "metadata": {},
   "outputs": [
    {
     "data": {
      "image/png": "[encoded data removed]",
      "text/plain": [
       "<Figure size 432x288 with 1 Axes>"
      ]
     },
     "metadata": {
      "needs_background": "light"
     },
     "output_type": "display_data"
    }
   ],
   "source": [
    "G7_degree = []\n",
    "for i in range(len(G7.nodes())):\n",
    "    G7_dgr = G7.degree(i)\n",
    "    G7_degree.append(G7_dgr)\n",
    "    \n",
    "G7_dgr_dist = plt.hist(G7_degree)"
   ]
  },
  {
   "cell_type": "code",
   "execution_count": 27,
   "metadata": {},
   "outputs": [],
   "source": [
    "nx.write_gexf(G7, \"G7.gexf\")"
   ]
  },
  {
   "cell_type": "markdown",
   "metadata": {},
   "source": [
    "### if only relatively powerful events affect all future events within 90 days"
   ]
  },
  {
   "cell_type": "code",
   "execution_count": 28,
   "metadata": {},
   "outputs": [
    {
     "data": {
      "text/plain": [
       "'Name: \\nType: DiGraph\\nNumber of nodes: 2087\\nNumber of edges: 134449\\nAverage in degree:  64.4221\\nAverage out degree:  64.4221'"
      ]
     },
     "execution_count": 28,
     "metadata": {},
     "output_type": "execute_result"
    }
   ],
   "source": [
    "G8 = nx.DiGraph()\n",
    "for n in range(0, len(df), 1):\n",
    "  G8.add_node(n,\n",
    "             ind = df['ind'][n],\n",
    "             ind_t = df['ind_t'][n], \n",
    "             p = df['p'][n],\n",
    "             n_killed = df['n_killed'][n],\n",
    "             n_injured = df['n_injured'][n],\n",
    "             LON = df['LON'][n],\n",
    "             LAT = df['LAT'][n])\n",
    "for i in G8.nodes():\n",
    "  for j in G8.nodes():\n",
    "    if 0 < G8.nodes[j]['ind_t']-G8.nodes[i]['ind_t'] < 90 and G8.nodes[i]['p'] > G8.nodes[j]['p']:\n",
    "      G8.add_edge(i,j)\n",
    "    else:\n",
    "      pass\n",
    "\n",
    "nx.info(G8)"
   ]
  },
  {
   "cell_type": "code",
   "execution_count": 29,
   "metadata": {},
   "outputs": [
    {
     "data": {
      "image/png": "[encoded data removed]",
      "text/plain": [
       "<Figure size 432x288 with 1 Axes>"
      ]
     },
     "metadata": {
      "needs_background": "light"
     },
     "output_type": "display_data"
    }
   ],
   "source": [
    "G8_degree = []\n",
    "for i in range(len(G8.nodes())):\n",
    "    G8_dgr = G8.degree(i)\n",
    "    G8_degree.append(G8_dgr)\n",
    "    \n",
    "G8_dgr_dist = plt.hist(G8_degree)"
   ]
  },
  {
   "cell_type": "code",
   "execution_count": 30,
   "metadata": {},
   "outputs": [],
   "source": [
    "nx.write_gexf(G8, \"G8.gexf\")"
   ]
  },
  {
   "cell_type": "markdown",
   "metadata": {},
   "source": [
    "### if only relatively powerful events affect all future events within 120 days"
   ]
  },
  {
   "cell_type": "code",
   "execution_count": 31,
   "metadata": {},
   "outputs": [
    {
     "data": {
      "text/plain": [
       "'Name: \\nType: DiGraph\\nNumber of nodes: 2087\\nNumber of edges: 176575\\nAverage in degree:  84.6071\\nAverage out degree:  84.6071'"
      ]
     },
     "execution_count": 31,
     "metadata": {},
     "output_type": "execute_result"
    }
   ],
   "source": [
    "G9 = nx.DiGraph()\n",
    "for n in range(0, len(df), 1):\n",
    "  G9.add_node(n,\n",
    "             ind = df['ind'][n],\n",
    "             ind_t = df['ind_t'][n], \n",
    "             p = df['p'][n],\n",
    "             n_killed = df['n_killed'][n],\n",
    "             n_injured = df['n_injured'][n],\n",
    "             LON = df['LON'][n],\n",
    "             LAT = df['LAT'][n])\n",
    "for i in G9.nodes():\n",
    "  for j in G9.nodes():\n",
    "    if 0 < G9.nodes[j]['ind_t']-G9.nodes[i]['ind_t'] < 120 and G9.nodes[i]['p'] > G9.nodes[j]['p']:\n",
    "      G9.add_edge(i,j)\n",
    "    else:\n",
    "      pass\n",
    "\n",
    "nx.info(G9)"
   ]
  },
  {
   "cell_type": "code",
   "execution_count": 32,
   "metadata": {},
   "outputs": [
    {
     "data": {
      "image/png": "[encoded data removed]",
      "text/plain": [
       "<Figure size 432x288 with 1 Axes>"
      ]
     },
     "metadata": {
      "needs_background": "light"
     },
     "output_type": "display_data"
    }
   ],
   "source": [
    "G9_degree = []\n",
    "for i in range(len(G9.nodes())):\n",
    "    G9_dgr = G9.degree(i)\n",
    "    G9_degree.append(G9_dgr)\n",
    "    \n",
    "G9_dgr_dist = plt.hist(G9_degree)"
   ]
  },
  {
   "cell_type": "code",
   "execution_count": 34,
   "metadata": {},
   "outputs": [],
   "source": [
    "nx.write_gexf(G9, \"G9.gexf\")"
   ]
  }
 ],
 "metadata": {
  "colab": {
   "authorship_tag": "ABX9TyMusoilq/4FWjxQDO6T3gTb",
   "collapsed_sections": [],
   "mount_file_id": "19KM7k0p3RIDndwegyrwoo_RwMYdbsqoZ",
   "name": "6.create_network(network).ipynb",
   "provenance": []
  },
  "kernelspec": {
   "display_name": "Python 3",
   "language": "python",
   "name": "python3"
  },
  "language_info": {
   "codemirror_mode": {
    "name": "ipython",
    "version": 3
   },
   "file_extension": ".py",
   "mimetype": "text/x-python",
   "name": "python",
   "nbconvert_exporter": "python",
   "pygments_lexer": "ipython3",
   "version": "3.7.7"
  }
 },
 "nbformat": 4,
 "nbformat_minor": 4
}
