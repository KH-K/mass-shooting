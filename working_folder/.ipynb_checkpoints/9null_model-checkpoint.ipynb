{
 "cells": [
  {
   "cell_type": "code",
   "execution_count": 2,
   "metadata": {},
   "outputs": [],
   "source": [
    "import numpy as np\n",
    "import pandas as pd\n",
    "import networkx as nx\n",
    "import seaborn as sns\n",
    "import matplotlib.pyplot as plt\n",
    "import random as rand"
   ]
  },
  {
   "cell_type": "code",
   "execution_count": 6,
   "metadata": {},
   "outputs": [],
   "source": [
    "df = pd.read_csv(\"8G1.csv\")\n",
    "G0 = nx.read_gexf(\"graph/G0.gexf\")\n",
    "G1 = nx.read_gexf(\"graph/G1.gexf\")"
   ]
  },
  {
   "cell_type": "code",
   "execution_count": 4,
   "metadata": {},
   "outputs": [
    {
     "data": {
      "text/html": [
       "<div>\n",
       "<style scoped>\n",
       "    .dataframe tbody tr th:only-of-type {\n",
       "        vertical-align: middle;\n",
       "    }\n",
       "\n",
       "    .dataframe tbody tr th {\n",
       "        vertical-align: top;\n",
       "    }\n",
       "\n",
       "    .dataframe thead th {\n",
       "        text-align: right;\n",
       "    }\n",
       "</style>\n",
       "<table border=\"1\" class=\"dataframe\">\n",
       "  <thead>\n",
       "    <tr style=\"text-align: right;\">\n",
       "      <th></th>\n",
       "      <th>date</th>\n",
       "      <th>adr</th>\n",
       "      <th>p</th>\n",
       "      <th>n_killed</th>\n",
       "      <th>n_injured</th>\n",
       "      <th>city</th>\n",
       "      <th>state</th>\n",
       "      <th>LON</th>\n",
       "      <th>LAT</th>\n",
       "      <th>log_n_killed</th>\n",
       "      <th>log_n_injured</th>\n",
       "      <th>indegree</th>\n",
       "      <th>outdegree</th>\n",
       "    </tr>\n",
       "    <tr>\n",
       "      <th>ind_t</th>\n",
       "      <th></th>\n",
       "      <th></th>\n",
       "      <th></th>\n",
       "      <th></th>\n",
       "      <th></th>\n",
       "      <th></th>\n",
       "      <th></th>\n",
       "      <th></th>\n",
       "      <th></th>\n",
       "      <th></th>\n",
       "      <th></th>\n",
       "      <th></th>\n",
       "      <th></th>\n",
       "    </tr>\n",
       "  </thead>\n",
       "  <tbody>\n",
       "    <tr>\n",
       "      <th>0</th>\n",
       "      <td>2014-01-01</td>\n",
       "      <td>Rockingham Street and Berkley Avenue Extended ...</td>\n",
       "      <td>1.098612</td>\n",
       "      <td>2</td>\n",
       "      <td>2</td>\n",
       "      <td>Norfolk</td>\n",
       "      <td>Virginia</td>\n",
       "      <td>-76.278935</td>\n",
       "      <td>36.830788</td>\n",
       "      <td>1.098612</td>\n",
       "      <td>1.098612</td>\n",
       "      <td>0</td>\n",
       "      <td>8</td>\n",
       "    </tr>\n",
       "    <tr>\n",
       "      <th>1</th>\n",
       "      <td>2014-01-03</td>\n",
       "      <td>Farmers Boulevard and 133rd Avenue Queens New ...</td>\n",
       "      <td>0.901091</td>\n",
       "      <td>1</td>\n",
       "      <td>3</td>\n",
       "      <td>Queens</td>\n",
       "      <td>New York</td>\n",
       "      <td>-73.762898</td>\n",
       "      <td>40.677500</td>\n",
       "      <td>0.693147</td>\n",
       "      <td>1.386294</td>\n",
       "      <td>1</td>\n",
       "      <td>6</td>\n",
       "    </tr>\n",
       "    <tr>\n",
       "      <th>2</th>\n",
       "      <td>2014-01-05</td>\n",
       "      <td>829 Parade St Erie Pennsylvania</td>\n",
       "      <td>0.901091</td>\n",
       "      <td>1</td>\n",
       "      <td>3</td>\n",
       "      <td>Erie</td>\n",
       "      <td>Pennsylvania</td>\n",
       "      <td>-80.074524</td>\n",
       "      <td>42.130038</td>\n",
       "      <td>0.693147</td>\n",
       "      <td>1.386294</td>\n",
       "      <td>1</td>\n",
       "      <td>7</td>\n",
       "    </tr>\n",
       "    <tr>\n",
       "      <th>3</th>\n",
       "      <td>2014-01-11</td>\n",
       "      <td>3430 W. Capitol Street Jackson Mississippi</td>\n",
       "      <td>0.482831</td>\n",
       "      <td>0</td>\n",
       "      <td>4</td>\n",
       "      <td>Jackson</td>\n",
       "      <td>Mississippi</td>\n",
       "      <td>-90.228321</td>\n",
       "      <td>32.323689</td>\n",
       "      <td>0.000000</td>\n",
       "      <td>1.609438</td>\n",
       "      <td>3</td>\n",
       "      <td>0</td>\n",
       "    </tr>\n",
       "    <tr>\n",
       "      <th>4</th>\n",
       "      <td>2014-01-12</td>\n",
       "      <td>University Drive Huntsville Alabama</td>\n",
       "      <td>0.537528</td>\n",
       "      <td>0</td>\n",
       "      <td>5</td>\n",
       "      <td>Huntsville</td>\n",
       "      <td>Alabama</td>\n",
       "      <td>-86.650390</td>\n",
       "      <td>34.736562</td>\n",
       "      <td>0.000000</td>\n",
       "      <td>1.791759</td>\n",
       "      <td>3</td>\n",
       "      <td>4</td>\n",
       "    </tr>\n",
       "  </tbody>\n",
       "</table>\n",
       "</div>"
      ],
      "text/plain": [
       "             date                                                adr  \\\n",
       "ind_t                                                                  \n",
       "0      2014-01-01  Rockingham Street and Berkley Avenue Extended ...   \n",
       "1      2014-01-03  Farmers Boulevard and 133rd Avenue Queens New ...   \n",
       "2      2014-01-05                    829 Parade St Erie Pennsylvania   \n",
       "3      2014-01-11         3430 W. Capitol Street Jackson Mississippi   \n",
       "4      2014-01-12                University Drive Huntsville Alabama   \n",
       "\n",
       "              p  n_killed  n_injured        city         state        LON  \\\n",
       "ind_t                                                                       \n",
       "0      1.098612         2          2     Norfolk      Virginia -76.278935   \n",
       "1      0.901091         1          3      Queens      New York -73.762898   \n",
       "2      0.901091         1          3        Erie  Pennsylvania -80.074524   \n",
       "3      0.482831         0          4     Jackson   Mississippi -90.228321   \n",
       "4      0.537528         0          5  Huntsville       Alabama -86.650390   \n",
       "\n",
       "             LAT  log_n_killed  log_n_injured  indegree  outdegree  \n",
       "ind_t                                                               \n",
       "0      36.830788      1.098612       1.098612         0          8  \n",
       "1      40.677500      0.693147       1.386294         1          6  \n",
       "2      42.130038      0.693147       1.386294         1          7  \n",
       "3      32.323689      0.000000       1.609438         3          0  \n",
       "4      34.736562      0.000000       1.791759         3          4  "
      ]
     },
     "execution_count": 4,
     "metadata": {},
     "output_type": "execute_result"
    }
   ],
   "source": [
    "df.head(5)"
   ]
  },
  {
   "cell_type": "markdown",
   "metadata": {},
   "source": [
    "### shuffle time index, (ind_t)"
   ]
  },
  {
   "cell_type": "code",
   "execution_count": 7,
   "metadata": {},
   "outputs": [],
   "source": [
    "### create new time index\n",
    "ind_t_list = list(df['ind_t'])\n",
    "\n",
    "numbers = []\n",
    "for i in range(0, 1206):\n",
    "    numbers.append(i)\n",
    "\n",
    "rand.seed(99)\n",
    "num = rand.sample(numbers, 1206)\n",
    "\n",
    "new_idx = []\n",
    "\n",
    "for i in range(len(ind_t_list)):\n",
    "    for j in range(len(num)):\n",
    "        if ind_t_list[i] == j:\n",
    "            new_t = num[j]\n",
    "            new_idx.append(new_t)\n",
    "            \n",
    "df['rand_ind_t'] = new_idx\n",
    "df.to_csv(\"9rand_t_index.csv\", index = False)"
   ]
  },
  {
   "cell_type": "markdown",
   "metadata": {},
   "source": [
    "### create null_model"
   ]
  },
  {
   "cell_type": "code",
   "execution_count": 10,
   "metadata": {},
   "outputs": [],
   "source": [
    "rand_df = pd.read_csv(\"9rand_t_index.csv\")\n",
    "sorted_rand_df = rand_df.sort_values(by = 'rand_ind_t', ascending = True)"
   ]
  },
  {
   "cell_type": "code",
   "execution_count": 11,
   "metadata": {},
   "outputs": [
    {
     "data": {
      "text/html": [
       "<div>\n",
       "<style scoped>\n",
       "    .dataframe tbody tr th:only-of-type {\n",
       "        vertical-align: middle;\n",
       "    }\n",
       "\n",
       "    .dataframe tbody tr th {\n",
       "        vertical-align: top;\n",
       "    }\n",
       "\n",
       "    .dataframe thead th {\n",
       "        text-align: right;\n",
       "    }\n",
       "</style>\n",
       "<table border=\"1\" class=\"dataframe\">\n",
       "  <thead>\n",
       "    <tr style=\"text-align: right;\">\n",
       "      <th></th>\n",
       "      <th>ind_t</th>\n",
       "      <th>date</th>\n",
       "      <th>adr</th>\n",
       "      <th>p</th>\n",
       "      <th>n_killed</th>\n",
       "      <th>n_injured</th>\n",
       "      <th>city</th>\n",
       "      <th>state</th>\n",
       "      <th>LON</th>\n",
       "      <th>LAT</th>\n",
       "      <th>log_n_killed</th>\n",
       "      <th>log_n_injured</th>\n",
       "      <th>indegree</th>\n",
       "      <th>outdegree</th>\n",
       "      <th>rand_ind_t</th>\n",
       "    </tr>\n",
       "  </thead>\n",
       "  <tbody>\n",
       "    <tr>\n",
       "      <th>962</th>\n",
       "      <td>564</td>\n",
       "      <td>2016-12-05</td>\n",
       "      <td>1532 Stagecoach Lane Albuquerque New Mexico</td>\n",
       "      <td>1.334551</td>\n",
       "      <td>4</td>\n",
       "      <td>1</td>\n",
       "      <td>Albuquerque</td>\n",
       "      <td>New Mexico</td>\n",
       "      <td>-106.490998</td>\n",
       "      <td>35.048201</td>\n",
       "      <td>1.609438</td>\n",
       "      <td>0.693147</td>\n",
       "      <td>0</td>\n",
       "      <td>13</td>\n",
       "      <td>0</td>\n",
       "    </tr>\n",
       "    <tr>\n",
       "      <th>1526</th>\n",
       "      <td>890</td>\n",
       "      <td>2018-07-28</td>\n",
       "      <td>8801 S Vermont Ave Los Angeles California</td>\n",
       "      <td>1.251860</td>\n",
       "      <td>2</td>\n",
       "      <td>4</td>\n",
       "      <td>Los Angeles</td>\n",
       "      <td>California</td>\n",
       "      <td>-118.292011</td>\n",
       "      <td>33.957716</td>\n",
       "      <td>1.098612</td>\n",
       "      <td>1.609438</td>\n",
       "      <td>2</td>\n",
       "      <td>16</td>\n",
       "      <td>1</td>\n",
       "    </tr>\n",
       "    <tr>\n",
       "      <th>1527</th>\n",
       "      <td>890</td>\n",
       "      <td>2018-07-28</td>\n",
       "      <td>3400 S Claiborne Ave New Orleans Louisiana</td>\n",
       "      <td>1.594239</td>\n",
       "      <td>3</td>\n",
       "      <td>7</td>\n",
       "      <td>New Orleans</td>\n",
       "      <td>Louisiana</td>\n",
       "      <td>-90.097796</td>\n",
       "      <td>29.940498</td>\n",
       "      <td>1.386294</td>\n",
       "      <td>2.079442</td>\n",
       "      <td>0</td>\n",
       "      <td>17</td>\n",
       "      <td>1</td>\n",
       "    </tr>\n",
       "    <tr>\n",
       "      <th>265</th>\n",
       "      <td>170</td>\n",
       "      <td>2014-12-26</td>\n",
       "      <td>2500 block of Summit Avenue East St. Louis Ill...</td>\n",
       "      <td>0.901091</td>\n",
       "      <td>1</td>\n",
       "      <td>3</td>\n",
       "      <td>East St. Louis</td>\n",
       "      <td>Illinois</td>\n",
       "      <td>-90.125416</td>\n",
       "      <td>38.619618</td>\n",
       "      <td>0.693147</td>\n",
       "      <td>1.386294</td>\n",
       "      <td>5</td>\n",
       "      <td>3</td>\n",
       "      <td>2</td>\n",
       "    </tr>\n",
       "    <tr>\n",
       "      <th>741</th>\n",
       "      <td>450</td>\n",
       "      <td>2016-06-13</td>\n",
       "      <td>Avenue D and E. 57th Brooklyn New York</td>\n",
       "      <td>0.537528</td>\n",
       "      <td>0</td>\n",
       "      <td>5</td>\n",
       "      <td>Brooklyn</td>\n",
       "      <td>New York</td>\n",
       "      <td>-73.922619</td>\n",
       "      <td>40.642746</td>\n",
       "      <td>0.000000</td>\n",
       "      <td>1.791759</td>\n",
       "      <td>8</td>\n",
       "      <td>6</td>\n",
       "      <td>3</td>\n",
       "    </tr>\n",
       "  </tbody>\n",
       "</table>\n",
       "</div>"
      ],
      "text/plain": [
       "      ind_t        date                                                adr  \\\n",
       "962     564  2016-12-05        1532 Stagecoach Lane Albuquerque New Mexico   \n",
       "1526    890  2018-07-28          8801 S Vermont Ave Los Angeles California   \n",
       "1527    890  2018-07-28         3400 S Claiborne Ave New Orleans Louisiana   \n",
       "265     170  2014-12-26  2500 block of Summit Avenue East St. Louis Ill...   \n",
       "741     450  2016-06-13             Avenue D and E. 57th Brooklyn New York   \n",
       "\n",
       "             p  n_killed  n_injured            city       state         LON  \\\n",
       "962   1.334551         4          1     Albuquerque  New Mexico -106.490998   \n",
       "1526  1.251860         2          4     Los Angeles  California -118.292011   \n",
       "1527  1.594239         3          7     New Orleans   Louisiana  -90.097796   \n",
       "265   0.901091         1          3  East St. Louis    Illinois  -90.125416   \n",
       "741   0.537528         0          5        Brooklyn    New York  -73.922619   \n",
       "\n",
       "            LAT  log_n_killed  log_n_injured  indegree  outdegree  rand_ind_t  \n",
       "962   35.048201      1.609438       0.693147         0         13           0  \n",
       "1526  33.957716      1.098612       1.609438         2         16           1  \n",
       "1527  29.940498      1.386294       2.079442         0         17           1  \n",
       "265   38.619618      0.693147       1.386294         5          3           2  \n",
       "741   40.642746      0.000000       1.791759         8          6           3  "
      ]
     },
     "execution_count": 11,
     "metadata": {},
     "output_type": "execute_result"
    }
   ],
   "source": [
    "sorted_rand_df.head(5)"
   ]
  },
  {
   "cell_type": "markdown",
   "metadata": {},
   "source": [
    "### Null"
   ]
  },
  {
   "cell_type": "code",
   "execution_count": 13,
   "metadata": {},
   "outputs": [],
   "source": [
    "G1_null = nx.DiGraph()\n",
    "\n",
    "for n in range(0, len(df), 1):\n",
    "  G1_null.add_node(n,\n",
    "             rand_ind_t = sorted_rand_df['rand_ind_t'][n],\n",
    "             p = sorted_rand_df['p'][n],\n",
    "             n_killed = sorted_rand_df['log_n_killed'][n],\n",
    "             n_injured = sorted_rand_df['log_n_injured'][n],\n",
    "             LON = sorted_rand_df['LON'][n],\n",
    "             LAT = sorted_rand_df['LAT'][n])\n",
    "\n",
    "for i in G1_null.nodes():\n",
    "  for j in G1_null.nodes():\n",
    "    if 0 < G1_null.nodes[j]['rand_ind_t']-G1_null.nodes[i]['rand_ind_t'] < 7 and G1_null.nodes[i]['p'] > G1_null.nodes[j]['p']:\n",
    "      G1_null.add_edge(i,j)\n",
    "    else:\n",
    "      pass"
   ]
  },
  {
   "cell_type": "code",
   "execution_count": 14,
   "metadata": {},
   "outputs": [
    {
     "data": {
      "text/plain": [
       "'Name: \\nType: DiGraph\\nNumber of nodes: 2087\\nNumber of edges: 9453\\nAverage in degree:   4.5295\\nAverage out degree:   4.5295'"
      ]
     },
     "execution_count": 14,
     "metadata": {},
     "output_type": "execute_result"
    }
   ],
   "source": [
    "nx.info(G1)"
   ]
  },
  {
   "cell_type": "code",
   "execution_count": 15,
   "metadata": {},
   "outputs": [
    {
     "data": {
      "text/plain": [
       "'Name: \\nType: DiGraph\\nNumber of nodes: 2087\\nNumber of edges: 9449\\nAverage in degree:   4.5276\\nAverage out degree:   4.5276'"
      ]
     },
     "execution_count": 15,
     "metadata": {},
     "output_type": "execute_result"
    }
   ],
   "source": [
    "nx.info(G1_null)"
   ]
  },
  {
   "cell_type": "code",
   "execution_count": 16,
   "metadata": {},
   "outputs": [],
   "source": [
    "nx.write_gexf(G1_null, \"graph/G1_null.gexf\")"
   ]
  },
  {
   "cell_type": "code",
   "execution_count": 28,
   "metadata": {},
   "outputs": [],
   "source": [
    "G1_null_inDgr = []\n",
    "\n",
    "for i in list(G1_null.nodes()):\n",
    "    G1_null_inDegree = G1_null.in_degree(i)\n",
    "    G1_null_inDgr.append(G1_null_inDegree)\n",
    "    \n",
    "sorted_rand_df['null_indegree'] = G1_null_inDgr\n",
    "\n",
    "G1_null_outDgr = []\n",
    "\n",
    "for i in list(G1_null.nodes()):\n",
    "    G1_null_outDegree = G1_null.out_degree(i)\n",
    "    G1_null_outDgr.append(G1_null_outDegree)\n",
    "    \n",
    "sorted_rand_df['null_outdegree'] = G1_null_outDgr"
   ]
  },
  {
   "cell_type": "code",
   "execution_count": 23,
   "metadata": {},
   "outputs": [],
   "source": [
    "sorted_rand_df = df.sort_values(by = 'rand_ind_t', ascending = True)"
   ]
  },
  {
   "cell_type": "code",
   "execution_count": 29,
   "metadata": {},
   "outputs": [
    {
     "data": {
      "text/html": [
       "<div>\n",
       "<style scoped>\n",
       "    .dataframe tbody tr th:only-of-type {\n",
       "        vertical-align: middle;\n",
       "    }\n",
       "\n",
       "    .dataframe tbody tr th {\n",
       "        vertical-align: top;\n",
       "    }\n",
       "\n",
       "    .dataframe thead th {\n",
       "        text-align: right;\n",
       "    }\n",
       "</style>\n",
       "<table border=\"1\" class=\"dataframe\">\n",
       "  <thead>\n",
       "    <tr style=\"text-align: right;\">\n",
       "      <th></th>\n",
       "      <th>ind_t</th>\n",
       "      <th>date</th>\n",
       "      <th>adr</th>\n",
       "      <th>p</th>\n",
       "      <th>n_killed</th>\n",
       "      <th>n_injured</th>\n",
       "      <th>city</th>\n",
       "      <th>state</th>\n",
       "      <th>LON</th>\n",
       "      <th>LAT</th>\n",
       "      <th>log_n_killed</th>\n",
       "      <th>log_n_injured</th>\n",
       "      <th>indegree</th>\n",
       "      <th>outdegree</th>\n",
       "      <th>rand_ind_t</th>\n",
       "      <th>null_indegree</th>\n",
       "      <th>null_outdegree</th>\n",
       "    </tr>\n",
       "  </thead>\n",
       "  <tbody>\n",
       "    <tr>\n",
       "      <th>962</th>\n",
       "      <td>564</td>\n",
       "      <td>2016-12-05</td>\n",
       "      <td>1532 Stagecoach Lane Albuquerque New Mexico</td>\n",
       "      <td>1.334551</td>\n",
       "      <td>4</td>\n",
       "      <td>1</td>\n",
       "      <td>Albuquerque</td>\n",
       "      <td>New Mexico</td>\n",
       "      <td>-106.490998</td>\n",
       "      <td>35.048201</td>\n",
       "      <td>1.609438</td>\n",
       "      <td>0.693147</td>\n",
       "      <td>0</td>\n",
       "      <td>13</td>\n",
       "      <td>0</td>\n",
       "      <td>2</td>\n",
       "      <td>5</td>\n",
       "    </tr>\n",
       "    <tr>\n",
       "      <th>1526</th>\n",
       "      <td>890</td>\n",
       "      <td>2018-07-28</td>\n",
       "      <td>8801 S Vermont Ave Los Angeles California</td>\n",
       "      <td>1.251860</td>\n",
       "      <td>2</td>\n",
       "      <td>4</td>\n",
       "      <td>Los Angeles</td>\n",
       "      <td>California</td>\n",
       "      <td>-118.292011</td>\n",
       "      <td>33.957716</td>\n",
       "      <td>1.098612</td>\n",
       "      <td>1.609438</td>\n",
       "      <td>2</td>\n",
       "      <td>16</td>\n",
       "      <td>1</td>\n",
       "      <td>3</td>\n",
       "      <td>3</td>\n",
       "    </tr>\n",
       "    <tr>\n",
       "      <th>1527</th>\n",
       "      <td>890</td>\n",
       "      <td>2018-07-28</td>\n",
       "      <td>3400 S Claiborne Ave New Orleans Louisiana</td>\n",
       "      <td>1.594239</td>\n",
       "      <td>3</td>\n",
       "      <td>7</td>\n",
       "      <td>New Orleans</td>\n",
       "      <td>Louisiana</td>\n",
       "      <td>-90.097796</td>\n",
       "      <td>29.940498</td>\n",
       "      <td>1.386294</td>\n",
       "      <td>2.079442</td>\n",
       "      <td>0</td>\n",
       "      <td>17</td>\n",
       "      <td>1</td>\n",
       "      <td>2</td>\n",
       "      <td>4</td>\n",
       "    </tr>\n",
       "    <tr>\n",
       "      <th>265</th>\n",
       "      <td>170</td>\n",
       "      <td>2014-12-26</td>\n",
       "      <td>2500 block of Summit Avenue East St. Louis Ill...</td>\n",
       "      <td>0.901091</td>\n",
       "      <td>1</td>\n",
       "      <td>3</td>\n",
       "      <td>East St. Louis</td>\n",
       "      <td>Illinois</td>\n",
       "      <td>-90.125416</td>\n",
       "      <td>38.619618</td>\n",
       "      <td>0.693147</td>\n",
       "      <td>1.386294</td>\n",
       "      <td>5</td>\n",
       "      <td>3</td>\n",
       "      <td>2</td>\n",
       "      <td>9</td>\n",
       "      <td>0</td>\n",
       "    </tr>\n",
       "    <tr>\n",
       "      <th>741</th>\n",
       "      <td>450</td>\n",
       "      <td>2016-06-13</td>\n",
       "      <td>Avenue D and E. 57th Brooklyn New York</td>\n",
       "      <td>0.537528</td>\n",
       "      <td>0</td>\n",
       "      <td>5</td>\n",
       "      <td>Brooklyn</td>\n",
       "      <td>New York</td>\n",
       "      <td>-73.922619</td>\n",
       "      <td>40.642746</td>\n",
       "      <td>0.000000</td>\n",
       "      <td>1.791759</td>\n",
       "      <td>8</td>\n",
       "      <td>6</td>\n",
       "      <td>3</td>\n",
       "      <td>6</td>\n",
       "      <td>3</td>\n",
       "    </tr>\n",
       "  </tbody>\n",
       "</table>\n",
       "</div>"
      ],
      "text/plain": [
       "      ind_t        date                                                adr  \\\n",
       "962     564  2016-12-05        1532 Stagecoach Lane Albuquerque New Mexico   \n",
       "1526    890  2018-07-28          8801 S Vermont Ave Los Angeles California   \n",
       "1527    890  2018-07-28         3400 S Claiborne Ave New Orleans Louisiana   \n",
       "265     170  2014-12-26  2500 block of Summit Avenue East St. Louis Ill...   \n",
       "741     450  2016-06-13             Avenue D and E. 57th Brooklyn New York   \n",
       "\n",
       "             p  n_killed  n_injured            city       state         LON  \\\n",
       "962   1.334551         4          1     Albuquerque  New Mexico -106.490998   \n",
       "1526  1.251860         2          4     Los Angeles  California -118.292011   \n",
       "1527  1.594239         3          7     New Orleans   Louisiana  -90.097796   \n",
       "265   0.901091         1          3  East St. Louis    Illinois  -90.125416   \n",
       "741   0.537528         0          5        Brooklyn    New York  -73.922619   \n",
       "\n",
       "            LAT  log_n_killed  log_n_injured  indegree  outdegree  rand_ind_t  \\\n",
       "962   35.048201      1.609438       0.693147         0         13           0   \n",
       "1526  33.957716      1.098612       1.609438         2         16           1   \n",
       "1527  29.940498      1.386294       2.079442         0         17           1   \n",
       "265   38.619618      0.693147       1.386294         5          3           2   \n",
       "741   40.642746      0.000000       1.791759         8          6           3   \n",
       "\n",
       "      null_indegree  null_outdegree  \n",
       "962               2               5  \n",
       "1526              3               3  \n",
       "1527              2               4  \n",
       "265               9               0  \n",
       "741               6               3  "
      ]
     },
     "execution_count": 29,
     "metadata": {},
     "output_type": "execute_result"
    }
   ],
   "source": [
    "sorted_rand_df.head(5)"
   ]
  },
  {
   "cell_type": "code",
   "execution_count": 36,
   "metadata": {},
   "outputs": [
    {
     "name": "stdout",
     "output_type": "stream",
     "text": [
      "-0.7384716125256426 0.006615872549785111\n"
     ]
    }
   ],
   "source": [
    "print(sorted_rand_df['log_n_killed'].corr(sorted_rand_df['indegree']), \n",
    "     sorted_rand_df['log_n_killed'].corr(sorted_rand_df['null_indegree']))"
   ]
  },
  {
   "cell_type": "code",
   "execution_count": 37,
   "metadata": {},
   "outputs": [
    {
     "name": "stdout",
     "output_type": "stream",
     "text": [
      "0.2936088237473305 -0.027869897123153162\n"
     ]
    }
   ],
   "source": [
    "print(sorted_rand_df['log_n_injured'].corr(sorted_rand_df['indegree']), \n",
    "     sorted_rand_df['log_n_injured'].corr(sorted_rand_df['null_indegree']))"
   ]
  },
  {
   "cell_type": "code",
   "execution_count": 38,
   "metadata": {},
   "outputs": [
    {
     "name": "stdout",
     "output_type": "stream",
     "text": [
      "0.742305314898483 -0.032660284849324775\n"
     ]
    }
   ],
   "source": [
    "print(sorted_rand_df['log_n_killed'].corr(sorted_rand_df['outdegree']), \n",
    "     sorted_rand_df['log_n_killed'].corr(sorted_rand_df['null_outdegree']))"
   ]
  },
  {
   "cell_type": "code",
   "execution_count": 39,
   "metadata": {},
   "outputs": [
    {
     "name": "stdout",
     "output_type": "stream",
     "text": [
      "-0.25859344467657003 0.03434304458551898\n"
     ]
    }
   ],
   "source": [
    "print(sorted_rand_df['log_n_injured'].corr(sorted_rand_df['outdegree']), \n",
    "     sorted_rand_df['log_n_injured'].corr(sorted_rand_df['null_outdegree']))"
   ]
  },
  {
   "cell_type": "code",
   "execution_count": 41,
   "metadata": {},
   "outputs": [],
   "source": [
    "sorted_rand_df.to_csv(\"9with_null_model.csv\", index = False)"
   ]
  }
 ],
 "metadata": {
  "kernelspec": {
   "display_name": "Python 3",
   "language": "python",
   "name": "python3"
  },
  "language_info": {
   "codemirror_mode": {
    "name": "ipython",
    "version": 3
   },
   "file_extension": ".py",
   "mimetype": "text/x-python",
   "name": "python",
   "nbconvert_exporter": "python",
   "pygments_lexer": "ipython3",
   "version": "3.7.7"
  }
 },
 "nbformat": 4,
 "nbformat_minor": 4
}
