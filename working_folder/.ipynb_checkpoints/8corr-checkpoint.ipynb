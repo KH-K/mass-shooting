{
 "cells": [
  {
   "cell_type": "code",
   "execution_count": 1,
   "metadata": {
    "colab": {},
    "colab_type": "code",
    "id": "VhqdyH2vNQUx"
   },
   "outputs": [],
   "source": [
    "import numpy as np\n",
    "import pandas as pd\n",
    "import networkx as nx\n",
    "import seaborn as sns\n",
    "import matplotlib.pyplot as plt"
   ]
  },
  {
   "cell_type": "code",
   "execution_count": 5,
   "metadata": {},
   "outputs": [],
   "source": [
    "dat = pd.read_csv(\"6before-network.csv\", index_col = 0)"
   ]
  },
  {
   "cell_type": "markdown",
   "metadata": {},
   "source": [
    "# 7 days"
   ]
  },
  {
   "cell_type": "code",
   "execution_count": 6,
   "metadata": {},
   "outputs": [],
   "source": [
    "G1 = nx.read_gexf(\"graph/G1.gexf\")"
   ]
  },
  {
   "cell_type": "code",
   "execution_count": 72,
   "metadata": {},
   "outputs": [],
   "source": [
    "dat['day7_indegree'] = None\n",
    "\n",
    "G1_inDgr = []\n",
    "\n",
    "for i in list(G1.nodes()):\n",
    "    G1_inDegree = G1.in_degree(i)\n",
    "    G1_inDgr.append(G1_inDegree)\n",
    "    \n",
    "dat['day7_indegree'] = G1_inDgr\n",
    "\n",
    "G1_outDgr = []\n",
    "\n",
    "for i in list(G1.nodes()):\n",
    "    G1_outDegree = G1.out_degree(i)\n",
    "    G1_outDgr.append(G1_outDegree)\n",
    "    \n",
    "dat['day7_outdegree'] = G1_outDgr"
   ]
  },
  {
   "cell_type": "markdown",
   "metadata": {},
   "source": [
    "### corr"
   ]
  },
  {
   "cell_type": "markdown",
   "metadata": {},
   "source": [
    "magnitude vs. indegree"
   ]
  },
  {
   "cell_type": "code",
   "execution_count": 73,
   "metadata": {},
   "outputs": [
    {
     "name": "stdout",
     "output_type": "stream",
     "text": [
      "-0.44728074466489925\n",
      "-0.0014791014543567315\n"
     ]
    }
   ],
   "source": [
    "print(dat['n_killed'].corr(dat['day7_indegree']))\n",
    "print(dat['n_injured'].corr(dat['day7_indegree']))"
   ]
  },
  {
   "cell_type": "markdown",
   "metadata": {},
   "source": [
    "magnitude vs. outdegree"
   ]
  },
  {
   "cell_type": "code",
   "execution_count": 74,
   "metadata": {},
   "outputs": [
    {
     "name": "stdout",
     "output_type": "stream",
     "text": [
      "0.4473396848541762\n",
      "-0.00711388690675628\n"
     ]
    }
   ],
   "source": [
    "print(dat['n_killed'].corr(dat['day7_outdegree']))\n",
    "print(dat['n_injured'].corr(dat['day7_outdegree']))"
   ]
  },
  {
   "cell_type": "markdown",
   "metadata": {},
   "source": [
    "# 10 days"
   ]
  },
  {
   "cell_type": "code",
   "execution_count": 51,
   "metadata": {},
   "outputs": [],
   "source": [
    "G2 = nx.read_gexf(\"graph/G2.gexf\")"
   ]
  },
  {
   "cell_type": "code",
   "execution_count": 53,
   "metadata": {},
   "outputs": [],
   "source": [
    "dat['day10_indegree'] = None\n",
    "\n",
    "G2_inDgr = []\n",
    "\n",
    "for i in list(G2.nodes()):\n",
    "    G2_inDegree = G2.in_degree(i)\n",
    "    G2_inDgr.append(G2_inDegree)\n",
    "\n",
    "dat['day10_indegree'] = G2_inDgr\n",
    "\n",
    "dat['day10_outdegree'] = None\n",
    "\n",
    "G2_outDgr = []\n",
    "\n",
    "for i in list(G2.nodes()):\n",
    "    G2_outDegree = G2.out_degree(i)\n",
    "    G2_outDgr.append(G2_outDegree)\n",
    "    \n",
    "dat['day10_outdegree'] = G2_outDgr"
   ]
  },
  {
   "cell_type": "markdown",
   "metadata": {},
   "source": [
    "### corr"
   ]
  },
  {
   "cell_type": "markdown",
   "metadata": {},
   "source": [
    "magnitude vs. indegree"
   ]
  },
  {
   "cell_type": "code",
   "execution_count": 65,
   "metadata": {},
   "outputs": [
    {
     "name": "stdout",
     "output_type": "stream",
     "text": [
      "-0.47259895228452087\n",
      "-0.0012284243269665694\n"
     ]
    }
   ],
   "source": [
    "print(dat['n_killed'].corr(dat['day10_indegree']))\n",
    "print(dat['n_injured'].corr(dat['day10_indegree']))"
   ]
  },
  {
   "cell_type": "markdown",
   "metadata": {},
   "source": [
    "magnitude vs. outdegree"
   ]
  },
  {
   "cell_type": "code",
   "execution_count": 64,
   "metadata": {},
   "outputs": [
    {
     "name": "stdout",
     "output_type": "stream",
     "text": [
      "0.4638938113345037\n",
      "-0.0009114077791894462\n"
     ]
    }
   ],
   "source": [
    "print(dat['n_killed'].corr(dat['day10_outdegree']))\n",
    "print(dat['n_injured'].corr(dat['day10_outdegree']))"
   ]
  },
  {
   "cell_type": "markdown",
   "metadata": {},
   "source": [
    "# 14 days"
   ]
  },
  {
   "cell_type": "code",
   "execution_count": 76,
   "metadata": {},
   "outputs": [],
   "source": [
    "G3 = nx.read_gexf(\"graph/G3.gexf\")\n",
    "dat['day14_indegree'] = None\n",
    "\n",
    "G3_inDgr = []\n",
    "\n",
    "for i in list(G3.nodes()):\n",
    "    G3_inDegree = G3.in_degree(i)\n",
    "    G3_inDgr.append(G3_inDegree)\n",
    "    \n",
    "dat['day14_indegree'] = G3_inDgr\n",
    "\n",
    "dat['day14_outdegree'] = None\n",
    "\n",
    "G3_outDgr = []\n",
    "\n",
    "for i in list(G3.nodes()):\n",
    "    G3_outDegree = G3.out_degree(i)\n",
    "    G3_outDgr.append(G3_outDegree)\n",
    "    \n",
    "dat['day14_outdegree'] = G3_outDgr"
   ]
  },
  {
   "cell_type": "markdown",
   "metadata": {},
   "source": [
    "magnitude vs. indegree"
   ]
  },
  {
   "cell_type": "code",
   "execution_count": 77,
   "metadata": {},
   "outputs": [
    {
     "name": "stdout",
     "output_type": "stream",
     "text": [
      "-0.49378175542967173\n",
      "-0.001133742886438715\n"
     ]
    }
   ],
   "source": [
    "print(dat['n_killed'].corr(dat['day14_indegree']))\n",
    "print(dat['n_injured'].corr(dat['day14_indegree']))"
   ]
  },
  {
   "cell_type": "markdown",
   "metadata": {},
   "source": [
    "magnitude vs. outdegree"
   ]
  },
  {
   "cell_type": "code",
   "execution_count": 78,
   "metadata": {},
   "outputs": [
    {
     "name": "stdout",
     "output_type": "stream",
     "text": [
      "0.4710239126836319\n",
      "0.0017703449807058404\n"
     ]
    }
   ],
   "source": [
    "print(dat['n_killed'].corr(dat['day14_outdegree']))\n",
    "print(dat['n_injured'].corr(dat['day14_outdegree']))"
   ]
  },
  {
   "cell_type": "markdown",
   "metadata": {},
   "source": [
    "# 21 days"
   ]
  },
  {
   "cell_type": "code",
   "execution_count": 81,
   "metadata": {},
   "outputs": [],
   "source": [
    "G4 = nx.read_gexf(\"graph/G4.gexf\")\n",
    "dat['day21_indegree'] = None\n",
    "\n",
    "G4_inDgr = []\n",
    "\n",
    "for i in list(G4.nodes()):\n",
    "    G4_inDegree = G4.in_degree(i)\n",
    "    G4_inDgr.append(G4_inDegree)\n",
    "    \n",
    "dat['day21_indegree'] = G4_inDgr\n",
    "\n",
    "dat['day21_outdegree'] = None\n",
    "\n",
    "G4_outDgr = []\n",
    "\n",
    "for i in list(G4.nodes()):\n",
    "    G4_outDegree = G4.out_degree(i)\n",
    "    G4_outDgr.append(G4_outDegree)\n",
    "    \n",
    "dat['day21_outdegree'] = G4_outDgr"
   ]
  },
  {
   "cell_type": "code",
   "execution_count": 85,
   "metadata": {},
   "outputs": [
    {
     "name": "stdout",
     "output_type": "stream",
     "text": [
      "-0.5152745071650595\n",
      "0.00018750580556848814\n"
     ]
    }
   ],
   "source": [
    "print(dat['n_killed'].corr(dat['day21_indegree']))\n",
    "print(dat['n_injured'].corr(dat['day21_indegree']))"
   ]
  },
  {
   "cell_type": "code",
   "execution_count": 84,
   "metadata": {},
   "outputs": [
    {
     "name": "stdout",
     "output_type": "stream",
     "text": [
      "0.4958555986756389\n",
      "0.013894324427476918\n"
     ]
    }
   ],
   "source": [
    "print(dat['n_killed'].corr(dat['day21_outdegree']))\n",
    "print(dat['n_injured'].corr(dat['day21_outdegree']))"
   ]
  },
  {
   "cell_type": "markdown",
   "metadata": {},
   "source": [
    "# 28 days"
   ]
  },
  {
   "cell_type": "code",
   "execution_count": 86,
   "metadata": {},
   "outputs": [],
   "source": [
    "G5 = nx.read_gexf(\"graph/G5.gexf\")\n",
    "dat['day28_indegree'] = None\n",
    "\n",
    "G5_inDgr = []\n",
    "\n",
    "for i in list(G5.nodes()):\n",
    "    G5_inDegree = G5.in_degree(i)\n",
    "    G5_inDgr.append(G5_inDegree)\n",
    "    \n",
    "dat['day28_indegree'] = G5_inDgr\n",
    "\n",
    "dat['day28_outdegree'] = None\n",
    "\n",
    "G5_outDgr = []\n",
    "\n",
    "for i in list(G5.nodes()):\n",
    "    G5_outDegree = G5.out_degree(i)\n",
    "    G5_outDgr.append(G5_outDegree)\n",
    "    \n",
    "dat['day28_outdegree'] = G5_outDgr"
   ]
  },
  {
   "cell_type": "code",
   "execution_count": 88,
   "metadata": {},
   "outputs": [
    {
     "name": "stdout",
     "output_type": "stream",
     "text": [
      "-0.5222966652330696\n",
      "0.0006272580359830531\n"
     ]
    }
   ],
   "source": [
    "print(dat['n_killed'].corr(dat['day28_indegree']))\n",
    "print(dat['n_injured'].corr(dat['day28_indegree']))"
   ]
  },
  {
   "cell_type": "code",
   "execution_count": 90,
   "metadata": {},
   "outputs": [
    {
     "name": "stdout",
     "output_type": "stream",
     "text": [
      "0.4979811688869223\n",
      "0.014702573405405718\n"
     ]
    }
   ],
   "source": [
    "print(dat['n_killed'].corr(dat['day28_outdegree']))\n",
    "print(dat['n_injured'].corr(dat['day28_outdegree']))"
   ]
  },
  {
   "cell_type": "markdown",
   "metadata": {},
   "source": [
    "# 31 days"
   ]
  },
  {
   "cell_type": "code",
   "execution_count": 96,
   "metadata": {},
   "outputs": [],
   "source": [
    "G6 = nx.read_gexf(\"graph/G6.gexf\")\n",
    "dat['day31_indegree'] = None\n",
    "\n",
    "G6_inDgr = []\n",
    "\n",
    "for i in list(G6.nodes()):\n",
    "    G6_inDegree = G6.in_degree(i)\n",
    "    G6_inDgr.append(G6_inDegree)\n",
    "    \n",
    "dat['day31_indegree'] = G6_inDgr\n",
    "\n",
    "dat['day31_outdegree'] = None\n",
    "\n",
    "G6_outDgr = []\n",
    "\n",
    "for i in list(G6.nodes()):\n",
    "    G6_outDegree = G6.out_degree(i)\n",
    "    G6_outDgr.append(G6_outDegree)\n",
    "    \n",
    "dat['day31_outdegree'] = G6_outDgr"
   ]
  },
  {
   "cell_type": "code",
   "execution_count": 97,
   "metadata": {},
   "outputs": [
    {
     "name": "stdout",
     "output_type": "stream",
     "text": [
      "-0.5249709641254576\n",
      "0.0009394599620269365\n"
     ]
    }
   ],
   "source": [
    "print(dat['n_killed'].corr(dat['day31_indegree']))\n",
    "print(dat['n_injured'].corr(dat['day31_indegree']))"
   ]
  },
  {
   "cell_type": "code",
   "execution_count": 98,
   "metadata": {},
   "outputs": [
    {
     "name": "stdout",
     "output_type": "stream",
     "text": [
      "0.49872760903560076\n",
      "0.013805300040474922\n"
     ]
    }
   ],
   "source": [
    "print(dat['n_killed'].corr(dat['day31_outdegree']))\n",
    "print(dat['n_injured'].corr(dat['day31_outdegree']))"
   ]
  },
  {
   "cell_type": "markdown",
   "metadata": {},
   "source": [
    "# 60 days"
   ]
  },
  {
   "cell_type": "code",
   "execution_count": 99,
   "metadata": {},
   "outputs": [],
   "source": [
    "G7 = nx.read_gexf(\"graph/G7.gexf\")\n",
    "dat['day60_indegree'] = None\n",
    "\n",
    "G7_inDgr = []\n",
    "\n",
    "for i in list(G7.nodes()):\n",
    "    G7_inDegree = G7.in_degree(i)\n",
    "    G7_inDgr.append(G7_inDegree)\n",
    "    \n",
    "dat['day60_indegree'] = G7_inDgr\n",
    "\n",
    "dat['day60_outdegree'] = None\n",
    "\n",
    "G7_outDgr = []\n",
    "\n",
    "for i in list(G7.nodes()):\n",
    "    G7_outDegree = G7.out_degree(i)\n",
    "    G7_outDgr.append(G7_outDegree)\n",
    "    \n",
    "dat['day60_outdegree'] = G7_outDgr"
   ]
  },
  {
   "cell_type": "code",
   "execution_count": 100,
   "metadata": {},
   "outputs": [
    {
     "name": "stdout",
     "output_type": "stream",
     "text": [
      "-0.5291318162061597\n",
      "0.0015806213921202524\n"
     ]
    }
   ],
   "source": [
    "print(dat['n_killed'].corr(dat['day60_indegree']))\n",
    "print(dat['n_injured'].corr(dat['day60_indegree']))"
   ]
  },
  {
   "cell_type": "code",
   "execution_count": 101,
   "metadata": {},
   "outputs": [
    {
     "name": "stdout",
     "output_type": "stream",
     "text": [
      "0.5002804480054964\n",
      "0.007909583525410055\n"
     ]
    }
   ],
   "source": [
    "print(dat['n_killed'].corr(dat['day60_outdegree']))\n",
    "print(dat['n_injured'].corr(dat['day60_outdegree']))"
   ]
  },
  {
   "cell_type": "markdown",
   "metadata": {},
   "source": [
    "# 90 days"
   ]
  },
  {
   "cell_type": "code",
   "execution_count": 102,
   "metadata": {},
   "outputs": [],
   "source": [
    "G8 = nx.read_gexf(\"graph/G8.gexf\")\n",
    "dat['day90_indegree'] = None\n",
    "\n",
    "G8_inDgr = []\n",
    "\n",
    "for i in list(G8.nodes()):\n",
    "    G8_inDegree = G8.in_degree(i)\n",
    "    G8_inDgr.append(G8_inDegree)\n",
    "    \n",
    "dat['day90_indegree'] = G8_inDgr\n",
    "\n",
    "dat['day90_outdegree'] = None\n",
    "\n",
    "G8_outDgr = []\n",
    "\n",
    "for i in list(G8.nodes()):\n",
    "    G8_outDegree = G8.out_degree(i)\n",
    "    G8_outDgr.append(G8_outDegree)\n",
    "    \n",
    "dat['day90_outdegree'] = G8_outDgr"
   ]
  },
  {
   "cell_type": "code",
   "execution_count": 104,
   "metadata": {},
   "outputs": [
    {
     "name": "stdout",
     "output_type": "stream",
     "text": [
      "-0.5252300507981811\n",
      "0.0010505971279013207\n"
     ]
    }
   ],
   "source": [
    "print(dat['n_killed'].corr(dat['day90_indegree']))\n",
    "print(dat['n_injured'].corr(dat['day90_indegree']))"
   ]
  },
  {
   "cell_type": "code",
   "execution_count": 105,
   "metadata": {},
   "outputs": [
    {
     "name": "stdout",
     "output_type": "stream",
     "text": [
      "0.5030400476801734\n",
      "0.003932906645127149\n"
     ]
    }
   ],
   "source": [
    "print(dat['n_killed'].corr(dat['day90_outdegree']))\n",
    "print(dat['n_injured'].corr(dat['day90_outdegree']))"
   ]
  },
  {
   "cell_type": "markdown",
   "metadata": {},
   "source": [
    "# 120 days"
   ]
  },
  {
   "cell_type": "code",
   "execution_count": 106,
   "metadata": {},
   "outputs": [],
   "source": [
    "G9 = nx.read_gexf(\"graph/G9.gexf\")\n",
    "dat['day120_indegree'] = None\n",
    "\n",
    "G9_inDgr = []\n",
    "\n",
    "for i in list(G9.nodes()):\n",
    "    G9_inDegree = G9.in_degree(i)\n",
    "    G9_inDgr.append(G9_inDegree)\n",
    "    \n",
    "dat['day120_indegree'] = G9_inDgr\n",
    "\n",
    "dat['day120_outdegree'] = None\n",
    "\n",
    "G9_outDgr = []\n",
    "\n",
    "for i in list(G9.nodes()):\n",
    "    G9_outDegree = G9.out_degree(i)\n",
    "    G9_outDgr.append(G9_outDegree)\n",
    "    \n",
    "dat['day120_outdegree'] = G9_outDgr"
   ]
  },
  {
   "cell_type": "code",
   "execution_count": 107,
   "metadata": {},
   "outputs": [
    {
     "name": "stdout",
     "output_type": "stream",
     "text": [
      "-0.5191272875174398\n",
      "0.00020427022556083368\n"
     ]
    }
   ],
   "source": [
    "print(dat['n_killed'].corr(dat['day120_indegree']))\n",
    "print(dat['n_injured'].corr(dat['day120_indegree']))"
   ]
  },
  {
   "cell_type": "code",
   "execution_count": 108,
   "metadata": {},
   "outputs": [
    {
     "name": "stdout",
     "output_type": "stream",
     "text": [
      "0.5055699255015278\n",
      "0.004679976094817364\n"
     ]
    }
   ],
   "source": [
    "print(dat['n_killed'].corr(dat['day120_outdegree']))\n",
    "print(dat['n_injured'].corr(dat['day120_outdegree']))"
   ]
  }
 ],
 "metadata": {
  "colab": {
   "authorship_tag": "ABX9TyMusoilq/4FWjxQDO6T3gTb",
   "collapsed_sections": [],
   "mount_file_id": "19KM7k0p3RIDndwegyrwoo_RwMYdbsqoZ",
   "name": "6.create_network(network).ipynb",
   "provenance": []
  },
  "kernelspec": {
   "display_name": "Python 3",
   "language": "python",
   "name": "python3"
  },
  "language_info": {
   "codemirror_mode": {
    "name": "ipython",
    "version": 3
   },
   "file_extension": ".py",
   "mimetype": "text/x-python",
   "name": "python",
   "nbconvert_exporter": "python",
   "pygments_lexer": "ipython3",
   "version": "3.7.7"
  }
 },
 "nbformat": 4,
 "nbformat_minor": 4
}
