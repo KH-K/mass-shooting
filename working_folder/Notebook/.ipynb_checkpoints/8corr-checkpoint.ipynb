{
 "cells": [
  {
   "cell_type": "code",
   "execution_count": 1,
   "metadata": {
    "colab": {},
    "colab_type": "code",
    "id": "VhqdyH2vNQUx"
   },
   "outputs": [],
   "source": [
    "import numpy as np\n",
    "import pandas as pd\n",
    "import networkx as nx\n",
    "import seaborn as sns\n",
    "import matplotlib.pyplot as plt\n",
    "\n",
    "from scipy import stats"
   ]
  },
  {
   "cell_type": "code",
   "execution_count": 2,
   "metadata": {},
   "outputs": [],
   "source": [
    "dat = pd.read_csv(\"7logarithm_transformation.csv\", index_col = False)"
   ]
  },
  {
   "cell_type": "markdown",
   "metadata": {},
   "source": [
    "### 13 days"
   ]
  },
  {
   "cell_type": "code",
   "execution_count": 3,
   "metadata": {},
   "outputs": [],
   "source": [
    "G1 = nx.read_gexf(\"graph/G1.gexf\")\n",
    "\n",
    "G1_inDgr = []\n",
    "\n",
    "for i in list(G1.nodes()):\n",
    "    G1_inDegree = G1.in_degree(i)\n",
    "    G1_inDgr.append(G1_inDegree)\n",
    "    \n",
    "dat['indegree'] = G1_inDgr\n",
    "\n",
    "G1_outDgr = []\n",
    "\n",
    "for i in list(G1.nodes()):\n",
    "    G1_outDegree = G1.out_degree(i)\n",
    "    G1_outDgr.append(G1_outDegree)\n",
    "    \n",
    "dat['outdegree'] = G1_outDgr"
   ]
  },
  {
   "cell_type": "code",
   "execution_count": 4,
   "metadata": {},
   "outputs": [
    {
     "name": "stdout",
     "output_type": "stream",
     "text": [
      "(-0.07155415895295975, 0.0010713251836322322)\n",
      "(0.047081793180296885, 0.031494010843348776)\n",
      "(-0.04255370807523051, 0.05192845544940556)\n",
      "(0.013396121929590506, 0.540772561081496)\n"
     ]
    }
   ],
   "source": [
    "print(stats.pearsonr(dat['log_n_killed'], dat['indegree']))\n",
    "print(stats.pearsonr(dat['log_n_injured'], dat['indegree']))\n",
    "print(stats.pearsonr(dat['log_n_killed'], dat['outdegree']))\n",
    "print(stats.pearsonr(dat['log_n_injured'], dat['outdegree']))"
   ]
  },
  {
   "cell_type": "code",
   "execution_count": 13,
   "metadata": {},
   "outputs": [
    {
     "name": "stdout",
     "output_type": "stream",
     "text": [
      "SpearmanrResult(correlation=-0.08159123350757243, pvalue=0.0001904349770957035)\n",
      "SpearmanrResult(correlation=0.0476996528012756, pvalue=0.029329349592731684)\n",
      "SpearmanrResult(correlation=-0.042186207470064144, pvalue=0.053988974149889554)\n",
      "SpearmanrResult(correlation=0.011216064126460236, pvalue=0.608580757481247)\n"
     ]
    }
   ],
   "source": [
    "print(stats.spearmanr(dat['log_n_killed'], dat['indegree']))\n",
    "print(stats.spearmanr(dat['log_n_injured'], dat['indegree']))\n",
    "print(stats.spearmanr(dat['log_n_killed'], dat['outdegree']))\n",
    "print(stats.spearmanr(dat['log_n_injured'], dat['outdegree']))"
   ]
  },
  {
   "cell_type": "markdown",
   "metadata": {},
   "source": [
    "### 13 days with state"
   ]
  },
  {
   "cell_type": "code",
   "execution_count": 5,
   "metadata": {},
   "outputs": [],
   "source": [
    "G1_state = nx.read_gexf(\"graph/G1_state.gexf\")\n",
    "\n",
    "G1_state_inDgr = []\n",
    "\n",
    "for i in list(G1_state.nodes()):\n",
    "    G1_state_inDegree = G1_state.in_degree(i)\n",
    "    G1_state_inDgr.append(G1_state_inDegree)\n",
    "    \n",
    "dat['state_indegree'] = G1_state_inDgr\n",
    "\n",
    "G1_state_outDgr = []\n",
    "\n",
    "for i in list(G1.nodes()):\n",
    "    G1_state_outDegree = G1_state.out_degree(i)\n",
    "    G1_state_outDgr.append(G1_state_outDegree)\n",
    "    \n",
    "dat['state_outdegree'] = G1_state_outDgr"
   ]
  },
  {
   "cell_type": "code",
   "execution_count": 6,
   "metadata": {},
   "outputs": [
    {
     "name": "stdout",
     "output_type": "stream",
     "text": [
      "(-0.03967913217461062, 0.06993721777652681)\n",
      "(0.05421308202488202, 0.013249496025433672)\n",
      "(0.0011891300726097499, 0.9567030579211425)\n",
      "(0.004299336557264278, 0.8443809836221332)\n"
     ]
    }
   ],
   "source": [
    "print(stats.pearsonr(dat['log_n_killed'], dat['state_indegree']))\n",
    "print(stats.pearsonr(dat['log_n_injured'], dat['state_indegree']))\n",
    "print(stats.pearsonr(dat['log_n_killed'], dat['state_outdegree']))\n",
    "print(stats.pearsonr(dat['log_n_injured'], dat['state_outdegree']))"
   ]
  },
  {
   "cell_type": "code",
   "execution_count": 14,
   "metadata": {},
   "outputs": [
    {
     "name": "stdout",
     "output_type": "stream",
     "text": [
      "SpearmanrResult(correlation=-0.045152106018856615, pvalue=0.03915719549962447)\n",
      "SpearmanrResult(correlation=0.046459224531355404, pvalue=0.03381226205068358)\n",
      "SpearmanrResult(correlation=0.01695518498164668, pvalue=0.4388319867840371)\n",
      "SpearmanrResult(correlation=-0.004593298010197487, pvalue=0.833890729985166)\n"
     ]
    }
   ],
   "source": [
    "print(stats.spearmanr(dat['log_n_killed'], dat['state_indegree']))\n",
    "print(stats.spearmanr(dat['log_n_injured'], dat['state_indegree']))\n",
    "print(stats.spearmanr(dat['log_n_killed'], dat['state_outdegree']))\n",
    "print(stats.spearmanr(dat['log_n_injured'], dat['state_outdegree']))"
   ]
  },
  {
   "cell_type": "markdown",
   "metadata": {},
   "source": [
    "### 13 days with distance"
   ]
  },
  {
   "cell_type": "code",
   "execution_count": 31,
   "metadata": {},
   "outputs": [],
   "source": [
    "G1_prox = nx.read_gexf(\"graph/G1_prox.gexf\")\n",
    "\n",
    "G1_prox_inDgr = []\n",
    "\n",
    "for i in list(G1_prox.nodes()):\n",
    "    G1_prox_inDegree = G1_prox.in_degree(i)\n",
    "    G1_prox_inDgr.append(G1_prox_inDegree)\n",
    "    \n",
    "dat['prox_indegree'] = G1_prox_inDgr\n",
    "\n",
    "G1_prox_outDgr = []\n",
    "\n",
    "for i in list(G1.nodes()):\n",
    "    G1_prox_outDegree = G1_prox.out_degree(i)\n",
    "    G1_prox_outDgr.append(G1_prox_outDegree)\n",
    "    \n",
    "dat['prox_outdegree'] = G1_prox_outDgr"
   ]
  },
  {
   "cell_type": "code",
   "execution_count": 32,
   "metadata": {},
   "outputs": [
    {
     "name": "stdout",
     "output_type": "stream",
     "text": [
      "(-0.1260866190698317, 7.481998847533496e-09)\n",
      "(0.06253527350265309, 0.004264168589052661)\n",
      "(-0.09527664829228805, 1.3012023091510153e-05)\n",
      "(0.03462314939770205, 0.11382320763034988)\n"
     ]
    }
   ],
   "source": [
    "print(stats.pearsonr(dat['log_n_killed'], dat['prox_indegree']))\n",
    "print(stats.pearsonr(dat['log_n_injured'], dat['prox_indegree']))\n",
    "print(stats.pearsonr(dat['log_n_killed'], dat['prox_outdegree']))\n",
    "print(stats.pearsonr(dat['log_n_injured'], dat['prox_outdegree']))"
   ]
  },
  {
   "cell_type": "code",
   "execution_count": 33,
   "metadata": {
    "scrolled": true
   },
   "outputs": [
    {
     "name": "stdout",
     "output_type": "stream",
     "text": [
      "SpearmanrResult(correlation=-0.13214940072562517, pvalue=1.3607879784326264e-09)\n",
      "SpearmanrResult(correlation=0.08101714589925088, pvalue=0.00021135998642604335)\n",
      "SpearmanrResult(correlation=-0.06997815483078718, pvalue=0.0013796863576776331)\n",
      "SpearmanrResult(correlation=0.01846763725641654, pvalue=0.3990962639577683)\n"
     ]
    }
   ],
   "source": [
    "print(stats.spearmanr(dat['log_n_killed'], dat['prox_indegree']))\n",
    "print(stats.spearmanr(dat['log_n_injured'], dat['prox_indegree']))\n",
    "print(stats.spearmanr(dat['log_n_killed'], dat['prox_outdegree']))\n",
    "print(stats.spearmanr(dat['log_n_injured'], dat['prox_outdegree']))"
   ]
  },
  {
   "cell_type": "code",
   "execution_count": 27,
   "metadata": {},
   "outputs": [],
   "source": [
    "dat.to_csv(\"8G1.csv\", index = False)"
   ]
  }
 ],
 "metadata": {
  "colab": {
   "authorship_tag": "ABX9TyMusoilq/4FWjxQDO6T3gTb",
   "collapsed_sections": [],
   "mount_file_id": "19KM7k0p3RIDndwegyrwoo_RwMYdbsqoZ",
   "name": "6.create_network(network).ipynb",
   "provenance": []
  },
  "kernelspec": {
   "display_name": "Python 3",
   "language": "python",
   "name": "python3"
  },
  "language_info": {
   "codemirror_mode": {
    "name": "ipython",
    "version": 3
   },
   "file_extension": ".py",
   "mimetype": "text/x-python",
   "name": "python",
   "nbconvert_exporter": "python",
   "pygments_lexer": "ipython3",
   "version": "3.7.7"
  }
 },
 "nbformat": 4,
 "nbformat_minor": 4
}
