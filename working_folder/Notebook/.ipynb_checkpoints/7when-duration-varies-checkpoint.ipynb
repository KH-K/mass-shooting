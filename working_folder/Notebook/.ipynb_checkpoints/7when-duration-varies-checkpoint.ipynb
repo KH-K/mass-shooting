{
 "cells": [
  {
   "cell_type": "markdown",
   "metadata": {
    "colab_type": "text",
    "id": "iFfJIeKDNMpM"
   },
   "source": [
    "---\n",
    "### Reducing the number of edges: find a rational rule\n",
    "\n",
    "1. Set window: Confine the lifespan of event, probably 1-2 months. This is the easiest way. Plus, it is crucial for time-series analysis.  \n",
    "One thing that should be considered is, there are two types of events: powerful or negligible.\n",
    "\n",
    "2. it looks like power-law function. $f= p^{-t}$ is basic form of it, we (may) need to modify this. \n",
    "\n",
    "3. Using collective attention: how long a event-related hashtag survive. but it is hard to find event-specific hashtag, and also most of events are not mentioned in Twitter.\n",
    "\n",
    "1 and 2 seems to be plausible (and probably work at the same time), but 3 seem like unfeasible.\n",
    "\n",
    "---"
   ]
  },
  {
   "cell_type": "code",
   "execution_count": 2,
   "metadata": {
    "colab": {},
    "colab_type": "code",
    "id": "VhqdyH2vNQUx"
   },
   "outputs": [],
   "source": [
    "import math\n",
    "import numpy as np\n",
    "import pandas as pd\n",
    "import networkx as nx\n",
    "import seaborn as sns\n",
    "import matplotlib.pyplot as plt\n",
    "import numbers"
   ]
  },
  {
   "cell_type": "code",
   "execution_count": null,
   "metadata": {
    "colab": {
     "base_uri": "https://localhost:8080/",
     "height": 530
    },
    "colab_type": "code",
    "executionInfo": {
     "elapsed": 366,
     "status": "ok",
     "timestamp": 1583981465944,
     "user": {
      "displayName": "Keonho Kim",
      "photoUrl": "",
      "userId": "05398618637237030774"
     },
     "user_tz": 240
    },
    "id": "yLHtUSPDNRlK",
    "outputId": "b2f125f1-e504-48d4-e855-3a16e7c48858"
   },
   "outputs": [],
   "source": [
    "# import dataset\n",
    "df = pd.read_csv(\"6before-network.csv\", index_col=0)\n",
    "df.head(10)"
   ]
  },
  {
   "cell_type": "code",
   "execution_count": null,
   "metadata": {},
   "outputs": [],
   "source": [
    "log_n_killed = []\n",
    "log_n_injured = []\n",
    "for i in range(len(df)):\n",
    "    killed = df['n_killed'][i]\n",
    "    injured = df['n_injured'][i]\n",
    "    log_killed = math.log(1 + killed)\n",
    "    log_n_killed.append(log_killed)\n",
    "    log_injured = math.log(1 + injured)\n",
    "    log_n_injured.append(log_injured)\n",
    "\n",
    "df['log_n_killed'] = log_n_killed\n",
    "df['log_n_injured'] = log_n_injured"
   ]
  },
  {
   "cell_type": "code",
   "execution_count": null,
   "metadata": {},
   "outputs": [],
   "source": [
    "df['p'] = 0.7*df['log_n_killed'] + 0.3*df['log_n_injured']"
   ]
  },
  {
   "cell_type": "code",
   "execution_count": null,
   "metadata": {},
   "outputs": [],
   "source": [
    "## delete useless rows\n",
    "df = df.drop(df.columns[[11,12,13,14,15,16,17,18,19,20,21,22,23,24]], axis='columns')"
   ]
  },
  {
   "cell_type": "code",
   "execution_count": null,
   "metadata": {},
   "outputs": [],
   "source": [
    "df.to_csv(\"7logarithm_transformation.csv\", index = False)"
   ]
  },
  {
   "cell_type": "markdown",
   "metadata": {},
   "source": [
    "### read data"
   ]
  },
  {
   "cell_type": "code",
   "execution_count": 3,
   "metadata": {},
   "outputs": [],
   "source": [
    "df = pd.read_csv(\"7logarithm_transformation.csv\")"
   ]
  },
  {
   "cell_type": "markdown",
   "metadata": {},
   "source": [
    "### Tomorrow model"
   ]
  },
  {
   "cell_type": "code",
   "execution_count": 36,
   "metadata": {},
   "outputs": [
    {
     "name": "stdout",
     "output_type": "stream",
     "text": [
      "Name: \n",
      "Type: DiGraph\n",
      "Number of nodes: 2087\n",
      "Number of edges: 3681\n",
      "Average in degree:   1.7638\n",
      "Average out degree:   1.7638\n"
     ]
    }
   ],
   "source": [
    "G1d = nx.DiGraph()\n",
    "\n",
    "for n in range(0, len(df), 1):\n",
    "  G1d.add_node(n,\n",
    "             ind = df['ind'][n],\n",
    "             ind_t = df['ind_t'][n],\n",
    "             p = df['p'][n], \n",
    "             p_class = df['p_class'][n],\n",
    "             n_killed = df['log_n_killed'][n],\n",
    "             n_injured = df['log_n_injured'][n],\n",
    "             LON = df['LON'][n],\n",
    "             LAT = df['LAT'][n])\n",
    "\n",
    "for i in G1d.nodes():\n",
    "  for j in G1d.nodes():\n",
    "    if 0 < G1d.nodes[j]['ind_t']-G1d.nodes[i]['ind_t'] <= 1 and G1d.nodes[j]['ind'] > G1d.nodes[i]['ind']:\n",
    "      G1d.add_edge(i,j)\n",
    "    else:\n",
    "      pass\n",
    "\n",
    "print(nx.info(G1d))"
   ]
  },
  {
   "cell_type": "code",
   "execution_count": 37,
   "metadata": {},
   "outputs": [],
   "source": [
    "nx.write_gexf(G1d, \"graph/G1d.gexf\")"
   ]
  },
  {
   "cell_type": "markdown",
   "metadata": {},
   "source": [
    "### 7 days"
   ]
  },
  {
   "cell_type": "code",
   "execution_count": 38,
   "metadata": {
    "colab": {},
    "colab_type": "code",
    "id": "k3j9R8PqNjMM"
   },
   "outputs": [
    {
     "name": "stdout",
     "output_type": "stream",
     "text": [
      "Name: \n",
      "Type: DiGraph\n",
      "Number of nodes: 2087\n",
      "Number of edges: 25600\n",
      "Average in degree:  12.2664\n",
      "Average out degree:  12.2664\n"
     ]
    }
   ],
   "source": [
    "G7d = nx.DiGraph()\n",
    "\n",
    "for n in range(0, len(df), 1):\n",
    "  G7d.add_node(n,\n",
    "             ind = df['ind'][n],\n",
    "             ind_t = df['ind_t'][n],\n",
    "             p = df['p'][n],\n",
    "             p_class = df['p_class'][n],\n",
    "             n_killed = df['log_n_killed'][n],\n",
    "             n_injured = df['log_n_injured'][n],\n",
    "             LON = df['LON'][n],\n",
    "             LAT = df['LAT'][n])\n",
    "\n",
    "for i in G7d.nodes():\n",
    "  for j in G7d.nodes():\n",
    "    if 0 < G7d.nodes[j]['ind_t']-G7d.nodes[i]['ind_t'] <= 7 and G7d.nodes[j]['ind'] > G7d.nodes[i]['ind']:\n",
    "      G7d.add_edge(i,j)\n",
    "    else:\n",
    "      pass\n",
    "\n",
    "print(nx.info(G7d))"
   ]
  },
  {
   "cell_type": "code",
   "execution_count": 39,
   "metadata": {},
   "outputs": [],
   "source": [
    "nx.write_gexf(G7d, \"graph/G7d.gexf\")"
   ]
  },
  {
   "cell_type": "markdown",
   "metadata": {},
   "source": [
    "### 14 days"
   ]
  },
  {
   "cell_type": "code",
   "execution_count": 40,
   "metadata": {},
   "outputs": [
    {
     "name": "stdout",
     "output_type": "stream",
     "text": [
      "Name: \n",
      "Type: DiGraph\n",
      "Number of nodes: 2087\n",
      "Number of edges: 50893\n",
      "Average in degree:  24.3857\n",
      "Average out degree:  24.3857\n"
     ]
    }
   ],
   "source": [
    "G14d = nx.DiGraph()\n",
    "\n",
    "for n in range(0, len(df), 1):\n",
    "  G14d.add_node(n,\n",
    "             ind = df['ind'][n],\n",
    "             ind_t = df['ind_t'][n],\n",
    "             p = df['p'][n],      \n",
    "             p_class = df['p_class'][n],\n",
    "             n_killed = df['log_n_killed'][n],\n",
    "             n_injured = df['log_n_injured'][n],\n",
    "             LON = df['LON'][n],\n",
    "             LAT = df['LAT'][n])\n",
    "\n",
    "for i in G14d.nodes():\n",
    "  for j in G14d.nodes():\n",
    "    if 0 < G14d.nodes[j]['ind_t']-G14d.nodes[i]['ind_t'] <= 14 and G14d.nodes[j]['ind'] > G14d.nodes[i]['ind']:\n",
    "      G14d.add_edge(i,j)\n",
    "    else:\n",
    "      pass\n",
    "\n",
    "print(nx.info(G14d))"
   ]
  },
  {
   "cell_type": "code",
   "execution_count": 41,
   "metadata": {},
   "outputs": [],
   "source": [
    "nx.write_gexf(G14d, \"graph/G14d.gexf\")"
   ]
  },
  {
   "cell_type": "markdown",
   "metadata": {},
   "source": [
    "### 30 days"
   ]
  },
  {
   "cell_type": "code",
   "execution_count": 42,
   "metadata": {},
   "outputs": [
    {
     "name": "stdout",
     "output_type": "stream",
     "text": [
      "Name: \n",
      "Type: DiGraph\n",
      "Number of nodes: 2087\n",
      "Number of edges: 108446\n",
      "Average in degree:  51.9626\n",
      "Average out degree:  51.9626\n"
     ]
    }
   ],
   "source": [
    "G30d = nx.DiGraph()\n",
    "\n",
    "for n in range(0, len(df), 1):\n",
    "  G30d.add_node(n,\n",
    "             ind = df['ind'][n],\n",
    "             ind_t = df['ind_t'][n],\n",
    "             p = df['p'][n],  \n",
    "             p_class = df['p_class'][n],\n",
    "             n_killed = df['log_n_killed'][n],\n",
    "             n_injured = df['log_n_injured'][n],\n",
    "             LON = df['LON'][n],\n",
    "             LAT = df['LAT'][n])\n",
    "\n",
    "for i in G30d.nodes():\n",
    "  for j in G30d.nodes():\n",
    "    if 0 < G30d.nodes[j]['ind_t']-G30d.nodes[i]['ind_t'] <= 30 and G30d.nodes[j]['ind'] > G30d.nodes[i]['ind']:\n",
    "      G30d.add_edge(i,j)\n",
    "    else:\n",
    "      pass\n",
    "\n",
    "nx.write_gexf(G30d, \"graph/G30d.gexf\")\n",
    "print(nx.info(G30d))"
   ]
  },
  {
   "cell_type": "markdown",
   "metadata": {},
   "source": [
    "### Haversine distance"
   ]
  },
  {
   "cell_type": "code",
   "execution_count": 43,
   "metadata": {},
   "outputs": [],
   "source": [
    "class get_dist():\n",
    "   @staticmethod\n",
    "   def degree2radius(degree):\n",
    "        return degree * (math.pi/180)\n",
    "   @staticmethod \n",
    "   def distance(x1, y1, x2, y2, round_decimal_digits = 5): ## harversion\n",
    "    if x1 is None or y1 is None or x2 is None or y2 is None:\n",
    "        return None\n",
    "    assert isinstance(x1, numbers.Number) and -180 <= x1 and x1 <= 180\n",
    "    assert isinstance(y1, numbers.Number) and -90 <= y1 and y1 <= 90\n",
    "    assert isinstance(x2, numbers.Number) and -180 <= x2 and x2 <= 180\n",
    "    assert isinstance(y2, numbers.Number) and -90 <= y2 and y2 <= 90\n",
    "    \n",
    "    R = 6371\n",
    "    dLon = get_dist.degree2radius(x2-x1)\n",
    "    dLat = get_dist.degree2radius(y2-y1)\n",
    "    \n",
    "    a = math.sin(dLat/2) * math.sin(dLat/2)\\\n",
    "    + (math.cos(get_dist.degree2radius(y1))\\\n",
    "       * math.cos(get_dist.degree2radius(y2))\\\n",
    "       *math.sin(dLon/2) * math.sin(dLon/2))\n",
    "    b = 2 * math.atan2(math.sqrt(a), math.sqrt(1-a))\n",
    "    return round(R*b, round_decimal_digits)"
   ]
  },
  {
   "cell_type": "markdown",
   "metadata": {},
   "source": [
    "### 5km without time constraints"
   ]
  },
  {
   "cell_type": "code",
   "execution_count": 46,
   "metadata": {},
   "outputs": [
    {
     "name": "stdout",
     "output_type": "stream",
     "text": [
      "Name: \n",
      "Type: DiGraph\n",
      "Number of nodes: 2087\n",
      "Number of edges: 7980\n",
      "Average in degree:   3.8237\n",
      "Average out degree:   3.8237\n"
     ]
    }
   ],
   "source": [
    "G0_5km = nx.DiGraph()\n",
    "\n",
    "for n in range(0, len(df), 1):\n",
    "  G0_5km.add_node(n,\n",
    "             ind = df['ind'][n],\n",
    "             ind_t = df['ind_t'][n],\n",
    "             p = df['p'][n],\n",
    "             p_class = df['p_class'][n],\n",
    "             n_killed = df['log_n_killed'][n],\n",
    "             n_injured = df['log_n_injured'][n],\n",
    "             state = df['state'][n],\n",
    "             LON = df['LON'][n],\n",
    "             LAT = df['LAT'][n])\n",
    "\n",
    "for i in G0_5km.nodes():\n",
    "  for j in G0_5km.nodes():\n",
    "    if G0_5km.nodes[j]['ind'] > G0_5km.nodes[i]['ind'] and get_dist.distance(G0_5km.nodes[i]['LON'], G0_5km.nodes[i]['LAT'], G0_5km.nodes[j]['LON'], G0_5km.nodes[j]['LAT']) < 5:\n",
    "      G0_5km.add_edge(i,j)\n",
    "    else:\n",
    "      pass\n",
    "\n",
    "nx.write_gexf(G0_5km, \"graph/G0_5km.gexf\")\n",
    "print(nx.info(G0_5km))"
   ]
  },
  {
   "cell_type": "code",
   "execution_count": 47,
   "metadata": {},
   "outputs": [
    {
     "name": "stdout",
     "output_type": "stream",
     "text": [
      "Name: \n",
      "Type: DiGraph\n",
      "Number of nodes: 2087\n",
      "Number of edges: 4109\n",
      "Average in degree:   1.9689\n",
      "Average out degree:   1.9689\n"
     ]
    }
   ],
   "source": [
    "G0_3km = nx.DiGraph()\n",
    "\n",
    "for n in range(0, len(df), 1):\n",
    "  G0_3km.add_node(n,\n",
    "             ind = df['ind'][n],\n",
    "             ind_t = df['ind_t'][n],\n",
    "             p = df['p'][n],\n",
    "             p_class = df['p_class'][n],\n",
    "             n_killed = df['log_n_killed'][n],\n",
    "             n_injured = df['log_n_injured'][n],\n",
    "             state = df['state'][n],\n",
    "             LON = df['LON'][n],\n",
    "             LAT = df['LAT'][n])\n",
    "\n",
    "for i in G0_3km.nodes():\n",
    "  for j in G0_3km.nodes():\n",
    "    if G0_3km.nodes[j]['ind'] > G0_3km.nodes[i]['ind'] and get_dist.distance(G0_3km.nodes[i]['LON'], G0_3km.nodes[i]['LAT'], G0_3km.nodes[j]['LON'], G0_3km.nodes[j]['LAT']) < 3:\n",
    "      G0_3km.add_edge(i,j)\n",
    "    else:\n",
    "      pass\n",
    "\n",
    "nx.write_gexf(G0_3km, \"graph/G0_3km.gexf\")\n",
    "print(nx.info(G0_3km))"
   ]
  },
  {
   "cell_type": "code",
   "execution_count": 48,
   "metadata": {},
   "outputs": [
    {
     "name": "stdout",
     "output_type": "stream",
     "text": [
      "Name: \n",
      "Type: DiGraph\n",
      "Number of nodes: 2087\n",
      "Number of edges: 736\n",
      "Average in degree:   0.3527\n",
      "Average out degree:   0.3527\n"
     ]
    }
   ],
   "source": [
    "G0_1km = nx.DiGraph()\n",
    "\n",
    "for n in range(0, len(df), 1):\n",
    "  G0_1km.add_node(n,\n",
    "             ind = df['ind'][n],\n",
    "             ind_t = df['ind_t'][n],\n",
    "             p = df['p'][n],\n",
    "             p_class = df['p_class'][n],\n",
    "             n_killed = df['log_n_killed'][n],\n",
    "             n_injured = df['log_n_injured'][n],\n",
    "             state = df['state'][n],\n",
    "             LON = df['LON'][n],\n",
    "             LAT = df['LAT'][n])\n",
    "\n",
    "for i in G0_1km.nodes():\n",
    "  for j in G0_1km.nodes():\n",
    "    if G0_1km.nodes[j]['ind'] > G0_1km.nodes[i]['ind'] and get_dist.distance(G0_1km.nodes[i]['LON'], G0_1km.nodes[i]['LAT'], G0_1km.nodes[j]['LON'], G0_1km.nodes[j]['LAT']) < 1:\n",
    "      G0_1km.add_edge(i,j)\n",
    "    else:\n",
    "      pass\n",
    "\n",
    "nx.write_gexf(G0_1km, \"graph/G0_1km.gexf\")\n",
    "print(nx.info(G0_1km))"
   ]
  },
  {
   "cell_type": "code",
   "execution_count": 74,
   "metadata": {},
   "outputs": [],
   "source": [
    "df.to_csv(\"7logarithm_transformation.csv\", index = False)"
   ]
  }
 ],
 "metadata": {
  "colab": {
   "authorship_tag": "ABX9TyMusoilq/4FWjxQDO6T3gTb",
   "collapsed_sections": [],
   "mount_file_id": "19KM7k0p3RIDndwegyrwoo_RwMYdbsqoZ",
   "name": "6.create_network(network).ipynb",
   "provenance": []
  },
  "kernelspec": {
   "display_name": "Python 3",
   "language": "python",
   "name": "python3"
  },
  "language_info": {
   "codemirror_mode": {
    "name": "ipython",
    "version": 3
   },
   "file_extension": ".py",
   "mimetype": "text/x-python",
   "name": "python",
   "nbconvert_exporter": "python",
   "pygments_lexer": "ipython3",
   "version": "3.7.7"
  }
 },
 "nbformat": 4,
 "nbformat_minor": 4
}
