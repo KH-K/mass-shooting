{
 "cells": [
  {
   "cell_type": "code",
   "execution_count": 4,
   "metadata": {},
   "outputs": [],
   "source": [
    "import math\n",
    "import numpy as np\n",
    "import pandas as pd\n",
    "import networkx as nx\n",
    "import seaborn as sns\n",
    "import matplotlib.pyplot as plt\n",
    "import numbers as nb\n",
    "import os\n",
    "import random as rand\n",
    "from scipy import stats"
   ]
  },
  {
   "cell_type": "code",
   "execution_count": 10,
   "metadata": {},
   "outputs": [],
   "source": [
    "path = os.getcwd()"
   ]
  },
  {
   "cell_type": "code",
   "execution_count": 11,
   "metadata": {},
   "outputs": [],
   "source": [
    "df = pd.read_csv(\"8G1.csv\", index_col = False)\n",
    "G0_1km = pd.read_csv(path + \"/graph/G0_1km.gexf\")\n",
    "G0_3km = pd.read_csv(path + \"/graph/G0_3km.gexf\")\n",
    "G0_5km = pd.read_csv(path + \"/graph/G0_5km.gexf\")"
   ]
  },
  {
   "cell_type": "markdown",
   "metadata": {},
   "source": [
    "### shuffle time index, (ind_t)"
   ]
  },
  {
   "cell_type": "code",
   "execution_count": 6,
   "metadata": {},
   "outputs": [],
   "source": [
    "### create new time index\n",
    "numbers = []\n",
    "for i in range(0, 1206):\n",
    "    numbers.append(i)\n",
    "\n",
    "rand.seed(99)\n",
    "num = rand.sample(numbers, 1206)\n",
    "\n",
    "new_idx = []\n",
    "\n",
    "for i in range(len(ind_t_list)):\n",
    "    for j in range(len(num)):\n",
    "        if ind_t_list[i] == j:\n",
    "            new_t = num[j]\n",
    "            new_idx.append(new_t)\n",
    "            \n",
    "df['rand_ind_t'] = new_idx\n",
    "df.to_csv(\"9rand_t_index.csv\", index = False)"
   ]
  },
  {
   "cell_type": "markdown",
   "metadata": {},
   "source": [
    "### create null_model"
   ]
  },
  {
   "cell_type": "code",
   "execution_count": 7,
   "metadata": {},
   "outputs": [],
   "source": [
    "rand_df = pd.read_csv(\"9rand_t_index.csv\", index_col = False)\n",
    "sorted_rand_df = rand_df.sort_values(by = 'rand_ind_t', ascending = True)"
   ]
  },
  {
   "cell_type": "code",
   "execution_count": 8,
   "metadata": {
    "scrolled": true
   },
   "outputs": [],
   "source": [
    "sorted_rand_df = pd.DataFrame(sorted_rand_df)"
   ]
  },
  {
   "cell_type": "code",
   "execution_count": 9,
   "metadata": {},
   "outputs": [],
   "source": [
    "sorted_rand_df = sorted_rand_df.reset_index()\n",
    "sorted_rand_df = sorted_rand_df.reset_index()"
   ]
  },
  {
   "cell_type": "code",
   "execution_count": 10,
   "metadata": {},
   "outputs": [],
   "source": [
    "sorted_rand_df = sorted_rand_df.rename(columns = {'level_0' : 'rand_ind'})"
   ]
  },
  {
   "cell_type": "code",
   "execution_count": 11,
   "metadata": {},
   "outputs": [],
   "source": [
    "del sorted_rand_df['index']\n",
    "del sorted_rand_df['ind']"
   ]
  },
  {
   "cell_type": "code",
   "execution_count": 12,
   "metadata": {},
   "outputs": [],
   "source": [
    "sorted_rand_df = pd.DataFrame(sorted_rand_df)"
   ]
  },
  {
   "cell_type": "markdown",
   "metadata": {},
   "source": [
    "### Null"
   ]
  },
  {
   "cell_type": "code",
   "execution_count": 13,
   "metadata": {},
   "outputs": [],
   "source": [
    "G1_null = nx.DiGraph()\n",
    "\n",
    "for n in range(0, len(df), 1):\n",
    "  G1_null.add_node(n,\n",
    "             rand_ind = sorted_rand_df['rand_ind'][n],\n",
    "             rand_ind_t = sorted_rand_df['rand_ind_t'][n],\n",
    "             p = sorted_rand_df['p'][n],\n",
    "             n_killed = sorted_rand_df['log_n_killed'][n],\n",
    "             n_injured = sorted_rand_df['log_n_injured'][n],\n",
    "             LON = sorted_rand_df['LON'][n],\n",
    "             LAT = sorted_rand_df['LAT'][n])\n",
    "\n",
    "for i in G1_null.nodes():\n",
    "  for j in G1_null.nodes():\n",
    "    if 0 < G1_null.nodes[j]['rand_ind_t']-G1_null.nodes[i]['rand_ind_t'] <= 13 and G1_null.nodes[j]['rand_ind'] > G1_null.nodes[i]['rand_ind']:\n",
    "      G1_null.add_edge(i,j)\n",
    "    else:\n",
    "      pass"
   ]
  },
  {
   "cell_type": "code",
   "execution_count": 14,
   "metadata": {},
   "outputs": [
    {
     "name": "stdout",
     "output_type": "stream",
     "text": [
      "Name: \n",
      "Type: DiGraph\n",
      "Number of nodes: 2087\n",
      "Number of edges: 48703\n",
      "Average in degree:  23.3364\n",
      "Average out degree:  23.3364\n"
     ]
    }
   ],
   "source": [
    "print(nx.info(G1))"
   ]
  },
  {
   "cell_type": "code",
   "execution_count": 15,
   "metadata": {},
   "outputs": [
    {
     "name": "stdout",
     "output_type": "stream",
     "text": [
      "Name: \n",
      "Type: DiGraph\n",
      "Number of nodes: 2087\n",
      "Number of edges: 46750\n",
      "Average in degree:  22.4006\n",
      "Average out degree:  22.4006\n"
     ]
    }
   ],
   "source": [
    "print(nx.info(G1_null))"
   ]
  },
  {
   "cell_type": "code",
   "execution_count": 16,
   "metadata": {},
   "outputs": [],
   "source": [
    "nx.write_gexf(G1_null, \"graph/G1_null.gexf\")"
   ]
  },
  {
   "cell_type": "code",
   "execution_count": 17,
   "metadata": {},
   "outputs": [],
   "source": [
    "G1_null_inDgr = []\n",
    "\n",
    "for i in list(G1_null.nodes()):\n",
    "    G1_null_inDegree = G1_null.in_degree(i)\n",
    "    G1_null_inDgr.append(G1_null_inDegree)\n",
    "    \n",
    "sorted_rand_df['null_indegree'] = G1_null_inDgr\n",
    "\n",
    "G1_null_outDgr = []\n",
    "\n",
    "for i in list(G1_null.nodes()):\n",
    "    G1_null_outDegree = G1_null.out_degree(i)\n",
    "    G1_null_outDgr.append(G1_null_outDegree)\n",
    "    \n",
    "sorted_rand_df['null_outdegree'] = G1_null_outDgr"
   ]
  },
  {
   "cell_type": "code",
   "execution_count": 18,
   "metadata": {},
   "outputs": [
    {
     "name": "stdout",
     "output_type": "stream",
     "text": [
      "(-0.0276979092818315, 0.20593320259787756)\n",
      "(-0.026551255122998035, 0.22534151646042633)\n",
      "(0.0037859402467552306, 0.8627671806096434)\n",
      "(0.038617627732534805, 0.07776618096660949)\n"
     ]
    }
   ],
   "source": [
    "print(stats.pearsonr(sorted_rand_df['log_n_killed'], sorted_rand_df['null_indegree']))\n",
    "print(stats.pearsonr(sorted_rand_df['log_n_injured'], sorted_rand_df['null_indegree']))\n",
    "print(stats.pearsonr(sorted_rand_df['log_n_killed'], sorted_rand_df['null_outdegree']))\n",
    "print(stats.pearsonr(sorted_rand_df['log_n_injured'], sorted_rand_df['null_outdegree']))"
   ]
  },
  {
   "cell_type": "code",
   "execution_count": 32,
   "metadata": {},
   "outputs": [
    {
     "name": "stdout",
     "output_type": "stream",
     "text": [
      "SpearmanrResult(correlation=-0.022366038589887595, pvalue=0.3071223281718786)\n",
      "SpearmanrResult(correlation=-0.008782035028521405, pvalue=0.6884472315918755)\n",
      "SpearmanrResult(correlation=-0.014497766447140632, pvalue=0.5080035669553766)\n",
      "SpearmanrResult(correlation=0.023589038777336112, pvalue=0.28141830387243877)\n"
     ]
    }
   ],
   "source": [
    "print(stats.spearmanr(sorted_rand_df['log_n_killed'], sorted_rand_df['null_indegree']))\n",
    "print(stats.spearmanr(sorted_rand_df['log_n_injured'], sorted_rand_df['null_indegree']))\n",
    "print(stats.spearmanr(sorted_rand_df['log_n_killed'], sorted_rand_df['null_outdegree']))\n",
    "print(stats.spearmanr(sorted_rand_df['log_n_injured'], sorted_rand_df['null_outdegree']))"
   ]
  },
  {
   "cell_type": "markdown",
   "metadata": {},
   "source": [
    "### with state"
   ]
  },
  {
   "cell_type": "code",
   "execution_count": 19,
   "metadata": {},
   "outputs": [],
   "source": [
    "G1_state_null = nx.DiGraph()\n",
    "\n",
    "for n in range(0, len(df), 1):\n",
    "  G1_state_null.add_node(n,\n",
    "             rand_ind = sorted_rand_df['rand_ind'][n],\n",
    "             rand_ind_t = sorted_rand_df['rand_ind_t'][n],\n",
    "             p = sorted_rand_df['p'][n],\n",
    "             n_killed = sorted_rand_df['log_n_killed'][n],\n",
    "             n_injured = sorted_rand_df['log_n_injured'][n],\n",
    "             state = sorted_rand_df['state'][n],\n",
    "             LON = sorted_rand_df['LON'][n],\n",
    "             LAT = sorted_rand_df['LAT'][n])\n",
    "\n",
    "for i in G1_state_null.nodes():\n",
    "  for j in G1_state_null.nodes():\n",
    "    if 0 < G1_state_null.nodes[j]['rand_ind_t']-G1_state_null.nodes[i]['rand_ind_t'] <= 13 and G1_state_null.nodes[j]['rand_ind'] > G1_state_null.nodes[i]['rand_ind'] and G1_state_null.nodes[i]['state'] == G1_state_null.nodes[j]['state']:\n",
    "      G1_state_null.add_edge(i,j)\n",
    "    else:\n",
    "      pass"
   ]
  },
  {
   "cell_type": "code",
   "execution_count": 20,
   "metadata": {},
   "outputs": [],
   "source": [
    "nx.write_gexf(G1_null, \"graph/G1_state_null.gexf\")"
   ]
  },
  {
   "cell_type": "code",
   "execution_count": 21,
   "metadata": {},
   "outputs": [],
   "source": [
    "G1_state_null_inDgr = []\n",
    "\n",
    "for i in list(G1_state_null.nodes()):\n",
    "    G1_state_null_inDegree = G1_state_null.in_degree(i)\n",
    "    G1_state_null_inDgr.append(G1_state_null_inDegree)\n",
    "    \n",
    "sorted_rand_df['state_null_indegree'] = G1_state_null_inDgr\n",
    "\n",
    "G1_state_null_outDgr = []\n",
    "\n",
    "for i in list(G1_state_null.nodes()):\n",
    "    G1_state_null_outDegree = G1_state_null.out_degree(i)\n",
    "    G1_state_null_outDgr.append(G1_state_null_outDegree)\n",
    "    \n",
    "sorted_rand_df['state_null_outdegree'] = G1_state_null_outDgr"
   ]
  },
  {
   "cell_type": "code",
   "execution_count": 22,
   "metadata": {},
   "outputs": [
    {
     "name": "stdout",
     "output_type": "stream",
     "text": [
      "(-0.014390928393914907, 0.5111353069775242)\n",
      "(0.03176422097911564, 0.14689026180706835)\n",
      "(-0.016308238169152764, 0.456499208557853)\n",
      "(0.04091658734085173, 0.06163900346986322)\n"
     ]
    }
   ],
   "source": [
    "print(stats.pearsonr(sorted_rand_df['log_n_killed'], sorted_rand_df['state_null_indegree']))\n",
    "print(stats.pearsonr(sorted_rand_df['log_n_injured'], sorted_rand_df['state_null_indegree']))\n",
    "print(stats.pearsonr(sorted_rand_df['log_n_killed'], sorted_rand_df['state_null_outdegree']))\n",
    "print(stats.pearsonr(sorted_rand_df['log_n_injured'], sorted_rand_df['state_null_outdegree']))"
   ]
  },
  {
   "cell_type": "code",
   "execution_count": 33,
   "metadata": {},
   "outputs": [
    {
     "name": "stdout",
     "output_type": "stream",
     "text": [
      "SpearmanrResult(correlation=-0.01945853645832534, pvalue=0.3742775602701227)\n",
      "SpearmanrResult(correlation=0.027938105135135425, pvalue=0.2020261421336428)\n",
      "SpearmanrResult(correlation=-0.011446142203816866, pvalue=0.601248524896373)\n",
      "SpearmanrResult(correlation=0.01713764508941009, pvalue=0.4339211584782007)\n"
     ]
    }
   ],
   "source": [
    "print(stats.spearmanr(sorted_rand_df['log_n_killed'], sorted_rand_df['state_null_indegree']))\n",
    "print(stats.spearmanr(sorted_rand_df['log_n_injured'], sorted_rand_df['state_null_indegree']))\n",
    "print(stats.spearmanr(sorted_rand_df['log_n_killed'], sorted_rand_df['state_null_outdegree']))\n",
    "print(stats.spearmanr(sorted_rand_df['log_n_injured'], sorted_rand_df['state_null_outdegree']))"
   ]
  },
  {
   "cell_type": "markdown",
   "metadata": {},
   "source": [
    "### with distance"
   ]
  },
  {
   "cell_type": "code",
   "execution_count": 23,
   "metadata": {},
   "outputs": [],
   "source": [
    "class get_dist():\n",
    "   @staticmethod\n",
    "   def degree2radius(degree):\n",
    "        return degree * (math.pi/180)\n",
    "   @staticmethod \n",
    "   def distance(x1, y1, x2, y2, round_decimal_digits = 5): ## harversion\n",
    "    if x1 is None or y1 is None or x2 is None or y2 is None:\n",
    "        return None\n",
    "    assert isinstance(x1, nb.Number) and -180 <= x1 and x1 <= 180\n",
    "    assert isinstance(y1, nb.Number) and -90 <= y1 and y1 <= 90\n",
    "    assert isinstance(x2, nb.Number) and -180 <= x2 and x2 <= 180\n",
    "    assert isinstance(y2, nb.Number) and -90 <= y2 and y2 <= 90\n",
    "    \n",
    "    R = 6371\n",
    "    dLon = get_dist.degree2radius(x2-x1)\n",
    "    dLat = get_dist.degree2radius(y2-y1)\n",
    "    \n",
    "    a = math.sin(dLat/2) * math.sin(dLat/2)\\\n",
    "    + (math.cos(get_dist.degree2radius(y1))\\\n",
    "       * math.cos(get_dist.degree2radius(y2))\\\n",
    "       *math.sin(dLon/2) * math.sin(dLon/2))\n",
    "    b = 2 * math.atan2(math.sqrt(a), math.sqrt(1-a))\n",
    "    return round(R*b, round_decimal_digits)"
   ]
  },
  {
   "cell_type": "code",
   "execution_count": 24,
   "metadata": {},
   "outputs": [],
   "source": [
    "G1_prox_null = nx.DiGraph()\n",
    "\n",
    "for n in range(0, len(df), 1):\n",
    "    G1_prox_null.add_node(n,\n",
    "             rand_ind = sorted_rand_df['rand_ind'][n],\n",
    "             rand_ind_t = sorted_rand_df['rand_ind_t'][n],\n",
    "             p = sorted_rand_df['p'][n],\n",
    "             n_killed = sorted_rand_df['log_n_killed'][n],\n",
    "             n_injured = sorted_rand_df['log_n_injured'][n],\n",
    "             LON = sorted_rand_df['LON'][n],\n",
    "             LAT = sorted_rand_df['LAT'][n])"
   ]
  },
  {
   "cell_type": "code",
   "execution_count": 25,
   "metadata": {},
   "outputs": [],
   "source": [
    "for i in G1_prox_null.nodes():\n",
    "  for j in G1_prox_null.nodes():\n",
    "    if G1_prox_null.nodes[j]['rand_ind'] > G1_prox_null.nodes[i]['rand_ind'] and 0 <= G1_prox_null.nodes[j]['rand_ind_t']-G1_prox_null.nodes[i]['rand_ind_t'] <= 13 and get_dist.distance(G1_prox_null.nodes[i]['LON'], G1_prox_null.nodes[i]['LAT'], G1_prox_null.nodes[j]['LON'], G1_prox_null.nodes[j]['LAT']) < 400:\n",
    "      G1_prox_null.add_edge(i,j)\n",
    "    else:\n",
    "      pass"
   ]
  },
  {
   "cell_type": "code",
   "execution_count": 26,
   "metadata": {},
   "outputs": [],
   "source": [
    "nx.write_gexf(G1_prox_null, \"graph/G1_prox_null.gexf\")"
   ]
  },
  {
   "cell_type": "code",
   "execution_count": 27,
   "metadata": {},
   "outputs": [],
   "source": [
    "G1_prox_null_inDgr = []\n",
    "\n",
    "for i in list(G1_prox_null.nodes()):\n",
    "    G1_prox_null_inDegree = G1_prox_null.in_degree(i)\n",
    "    G1_prox_null_inDgr.append(G1_prox_null_inDegree)\n",
    "    \n",
    "sorted_rand_df['prox_null_indegree'] = G1_prox_null_inDgr\n",
    "\n",
    "G1_prox_null_outDgr = []\n",
    "\n",
    "for i in list(G1_prox_null.nodes()):\n",
    "    G1_prox_null_outDegree = G1_prox_null.out_degree(i)\n",
    "    G1_prox_null_outDgr.append(G1_prox_null_outDegree)\n",
    "    \n",
    "sorted_rand_df['prox_null_outdegree'] = G1_prox_null_outDgr"
   ]
  },
  {
   "cell_type": "code",
   "execution_count": 28,
   "metadata": {},
   "outputs": [
    {
     "data": {
      "text/html": [
       "<div>\n",
       "<style scoped>\n",
       "    .dataframe tbody tr th:only-of-type {\n",
       "        vertical-align: middle;\n",
       "    }\n",
       "\n",
       "    .dataframe tbody tr th {\n",
       "        vertical-align: top;\n",
       "    }\n",
       "\n",
       "    .dataframe thead th {\n",
       "        text-align: right;\n",
       "    }\n",
       "</style>\n",
       "<table border=\"1\" class=\"dataframe\">\n",
       "  <thead>\n",
       "    <tr style=\"text-align: right;\">\n",
       "      <th></th>\n",
       "      <th>rand_ind</th>\n",
       "      <th>ind_t</th>\n",
       "      <th>date</th>\n",
       "      <th>adr</th>\n",
       "      <th>p</th>\n",
       "      <th>n_killed</th>\n",
       "      <th>n_injured</th>\n",
       "      <th>city</th>\n",
       "      <th>state</th>\n",
       "      <th>LON</th>\n",
       "      <th>...</th>\n",
       "      <th>state_outdegree</th>\n",
       "      <th>prox_indegree</th>\n",
       "      <th>prox_outdegree</th>\n",
       "      <th>rand_ind_t</th>\n",
       "      <th>null_indegree</th>\n",
       "      <th>null_outdegree</th>\n",
       "      <th>state_null_indegree</th>\n",
       "      <th>state_null_outdegree</th>\n",
       "      <th>prox_null_indegree</th>\n",
       "      <th>prox_null_outdegree</th>\n",
       "    </tr>\n",
       "  </thead>\n",
       "  <tbody>\n",
       "    <tr>\n",
       "      <th>0</th>\n",
       "      <td>0</td>\n",
       "      <td>564</td>\n",
       "      <td>2016-12-05</td>\n",
       "      <td>1532 Stagecoach Lane Albuquerque New Mexico</td>\n",
       "      <td>1.334551</td>\n",
       "      <td>4</td>\n",
       "      <td>1</td>\n",
       "      <td>Albuquerque</td>\n",
       "      <td>New Mexico</td>\n",
       "      <td>-106.490998</td>\n",
       "      <td>...</td>\n",
       "      <td>0</td>\n",
       "      <td>0</td>\n",
       "      <td>0</td>\n",
       "      <td>0</td>\n",
       "      <td>0</td>\n",
       "      <td>25</td>\n",
       "      <td>0</td>\n",
       "      <td>0</td>\n",
       "      <td>0</td>\n",
       "      <td>0</td>\n",
       "    </tr>\n",
       "    <tr>\n",
       "      <th>1</th>\n",
       "      <td>1</td>\n",
       "      <td>890</td>\n",
       "      <td>2018-07-28</td>\n",
       "      <td>8801 S Vermont Ave Los Angeles California</td>\n",
       "      <td>1.251860</td>\n",
       "      <td>2</td>\n",
       "      <td>4</td>\n",
       "      <td>Los Angeles</td>\n",
       "      <td>California</td>\n",
       "      <td>-118.292011</td>\n",
       "      <td>...</td>\n",
       "      <td>3</td>\n",
       "      <td>0</td>\n",
       "      <td>2</td>\n",
       "      <td>1</td>\n",
       "      <td>1</td>\n",
       "      <td>25</td>\n",
       "      <td>0</td>\n",
       "      <td>5</td>\n",
       "      <td>0</td>\n",
       "      <td>3</td>\n",
       "    </tr>\n",
       "    <tr>\n",
       "      <th>2</th>\n",
       "      <td>2</td>\n",
       "      <td>890</td>\n",
       "      <td>2018-07-28</td>\n",
       "      <td>3400 S Claiborne Ave New Orleans Louisiana</td>\n",
       "      <td>1.594239</td>\n",
       "      <td>3</td>\n",
       "      <td>7</td>\n",
       "      <td>New Orleans</td>\n",
       "      <td>Louisiana</td>\n",
       "      <td>-90.097796</td>\n",
       "      <td>...</td>\n",
       "      <td>0</td>\n",
       "      <td>1</td>\n",
       "      <td>0</td>\n",
       "      <td>1</td>\n",
       "      <td>1</td>\n",
       "      <td>25</td>\n",
       "      <td>0</td>\n",
       "      <td>0</td>\n",
       "      <td>0</td>\n",
       "      <td>1</td>\n",
       "    </tr>\n",
       "    <tr>\n",
       "      <th>3</th>\n",
       "      <td>3</td>\n",
       "      <td>170</td>\n",
       "      <td>2014-12-26</td>\n",
       "      <td>2500 block of Summit Avenue East St. Louis Ill...</td>\n",
       "      <td>0.901091</td>\n",
       "      <td>1</td>\n",
       "      <td>3</td>\n",
       "      <td>East St. Louis</td>\n",
       "      <td>Illinois</td>\n",
       "      <td>-90.125416</td>\n",
       "      <td>...</td>\n",
       "      <td>1</td>\n",
       "      <td>3</td>\n",
       "      <td>1</td>\n",
       "      <td>2</td>\n",
       "      <td>3</td>\n",
       "      <td>25</td>\n",
       "      <td>0</td>\n",
       "      <td>3</td>\n",
       "      <td>0</td>\n",
       "      <td>4</td>\n",
       "    </tr>\n",
       "    <tr>\n",
       "      <th>4</th>\n",
       "      <td>4</td>\n",
       "      <td>450</td>\n",
       "      <td>2016-06-13</td>\n",
       "      <td>Avenue D and E. 57th Brooklyn New York</td>\n",
       "      <td>0.537528</td>\n",
       "      <td>0</td>\n",
       "      <td>5</td>\n",
       "      <td>Brooklyn</td>\n",
       "      <td>New York</td>\n",
       "      <td>-73.922619</td>\n",
       "      <td>...</td>\n",
       "      <td>0</td>\n",
       "      <td>6</td>\n",
       "      <td>5</td>\n",
       "      <td>3</td>\n",
       "      <td>4</td>\n",
       "      <td>23</td>\n",
       "      <td>0</td>\n",
       "      <td>1</td>\n",
       "      <td>0</td>\n",
       "      <td>3</td>\n",
       "    </tr>\n",
       "    <tr>\n",
       "      <th>...</th>\n",
       "      <td>...</td>\n",
       "      <td>...</td>\n",
       "      <td>...</td>\n",
       "      <td>...</td>\n",
       "      <td>...</td>\n",
       "      <td>...</td>\n",
       "      <td>...</td>\n",
       "      <td>...</td>\n",
       "      <td>...</td>\n",
       "      <td>...</td>\n",
       "      <td>...</td>\n",
       "      <td>...</td>\n",
       "      <td>...</td>\n",
       "      <td>...</td>\n",
       "      <td>...</td>\n",
       "      <td>...</td>\n",
       "      <td>...</td>\n",
       "      <td>...</td>\n",
       "      <td>...</td>\n",
       "      <td>...</td>\n",
       "      <td>...</td>\n",
       "    </tr>\n",
       "    <tr>\n",
       "      <th>2082</th>\n",
       "      <td>2082</td>\n",
       "      <td>22</td>\n",
       "      <td>2014-03-01</td>\n",
       "      <td>Hamilton Avenue Pittsburgh Pennsylvania</td>\n",
       "      <td>0.968034</td>\n",
       "      <td>1</td>\n",
       "      <td>4</td>\n",
       "      <td>Pittsburgh</td>\n",
       "      <td>Pennsylvania</td>\n",
       "      <td>-79.900730</td>\n",
       "      <td>...</td>\n",
       "      <td>0</td>\n",
       "      <td>1</td>\n",
       "      <td>1</td>\n",
       "      <td>1202</td>\n",
       "      <td>22</td>\n",
       "      <td>3</td>\n",
       "      <td>1</td>\n",
       "      <td>0</td>\n",
       "      <td>3</td>\n",
       "      <td>2</td>\n",
       "    </tr>\n",
       "    <tr>\n",
       "      <th>2083</th>\n",
       "      <td>2083</td>\n",
       "      <td>22</td>\n",
       "      <td>2014-03-01</td>\n",
       "      <td>7800 Gratiot Av. Detroit Michigan</td>\n",
       "      <td>0.482831</td>\n",
       "      <td>0</td>\n",
       "      <td>4</td>\n",
       "      <td>Detroit</td>\n",
       "      <td>Michigan</td>\n",
       "      <td>-83.014778</td>\n",
       "      <td>...</td>\n",
       "      <td>0</td>\n",
       "      <td>5</td>\n",
       "      <td>5</td>\n",
       "      <td>1202</td>\n",
       "      <td>22</td>\n",
       "      <td>3</td>\n",
       "      <td>3</td>\n",
       "      <td>0</td>\n",
       "      <td>4</td>\n",
       "      <td>0</td>\n",
       "    </tr>\n",
       "    <tr>\n",
       "      <th>2084</th>\n",
       "      <td>2084</td>\n",
       "      <td>419</td>\n",
       "      <td>2016-04-21</td>\n",
       "      <td>4800 block of Frankford Avenue Baltimore Maryland</td>\n",
       "      <td>0.482831</td>\n",
       "      <td>0</td>\n",
       "      <td>4</td>\n",
       "      <td>Baltimore</td>\n",
       "      <td>Maryland</td>\n",
       "      <td>-76.545052</td>\n",
       "      <td>...</td>\n",
       "      <td>2</td>\n",
       "      <td>1</td>\n",
       "      <td>4</td>\n",
       "      <td>1203</td>\n",
       "      <td>23</td>\n",
       "      <td>2</td>\n",
       "      <td>1</td>\n",
       "      <td>0</td>\n",
       "      <td>4</td>\n",
       "      <td>0</td>\n",
       "    </tr>\n",
       "    <tr>\n",
       "      <th>2085</th>\n",
       "      <td>2085</td>\n",
       "      <td>1081</td>\n",
       "      <td>2019-06-27</td>\n",
       "      <td>600 block of Parkway Dr Atlanta Georgia</td>\n",
       "      <td>0.623832</td>\n",
       "      <td>0</td>\n",
       "      <td>7</td>\n",
       "      <td>Atlanta</td>\n",
       "      <td>Georgia</td>\n",
       "      <td>-84.373070</td>\n",
       "      <td>...</td>\n",
       "      <td>1</td>\n",
       "      <td>3</td>\n",
       "      <td>1</td>\n",
       "      <td>1204</td>\n",
       "      <td>21</td>\n",
       "      <td>1</td>\n",
       "      <td>2</td>\n",
       "      <td>0</td>\n",
       "      <td>2</td>\n",
       "      <td>0</td>\n",
       "    </tr>\n",
       "    <tr>\n",
       "      <th>2086</th>\n",
       "      <td>2086</td>\n",
       "      <td>76</td>\n",
       "      <td>2014-06-30</td>\n",
       "      <td>Scottsdale Circle Lexington Kentucky</td>\n",
       "      <td>0.901091</td>\n",
       "      <td>1</td>\n",
       "      <td>3</td>\n",
       "      <td>Lexington</td>\n",
       "      <td>Kentucky</td>\n",
       "      <td>-84.478053</td>\n",
       "      <td>...</td>\n",
       "      <td>1</td>\n",
       "      <td>1</td>\n",
       "      <td>2</td>\n",
       "      <td>1205</td>\n",
       "      <td>21</td>\n",
       "      <td>0</td>\n",
       "      <td>0</td>\n",
       "      <td>0</td>\n",
       "      <td>0</td>\n",
       "      <td>0</td>\n",
       "    </tr>\n",
       "  </tbody>\n",
       "</table>\n",
       "<p>2087 rows × 26 columns</p>\n",
       "</div>"
      ],
      "text/plain": [
       "      rand_ind  ind_t        date  \\\n",
       "0            0    564  2016-12-05   \n",
       "1            1    890  2018-07-28   \n",
       "2            2    890  2018-07-28   \n",
       "3            3    170  2014-12-26   \n",
       "4            4    450  2016-06-13   \n",
       "...        ...    ...         ...   \n",
       "2082      2082     22  2014-03-01   \n",
       "2083      2083     22  2014-03-01   \n",
       "2084      2084    419  2016-04-21   \n",
       "2085      2085   1081  2019-06-27   \n",
       "2086      2086     76  2014-06-30   \n",
       "\n",
       "                                                    adr         p  n_killed  \\\n",
       "0           1532 Stagecoach Lane Albuquerque New Mexico  1.334551         4   \n",
       "1             8801 S Vermont Ave Los Angeles California  1.251860         2   \n",
       "2            3400 S Claiborne Ave New Orleans Louisiana  1.594239         3   \n",
       "3     2500 block of Summit Avenue East St. Louis Ill...  0.901091         1   \n",
       "4                Avenue D and E. 57th Brooklyn New York  0.537528         0   \n",
       "...                                                 ...       ...       ...   \n",
       "2082            Hamilton Avenue Pittsburgh Pennsylvania  0.968034         1   \n",
       "2083                  7800 Gratiot Av. Detroit Michigan  0.482831         0   \n",
       "2084  4800 block of Frankford Avenue Baltimore Maryland  0.482831         0   \n",
       "2085            600 block of Parkway Dr Atlanta Georgia  0.623832         0   \n",
       "2086               Scottsdale Circle Lexington Kentucky  0.901091         1   \n",
       "\n",
       "      n_injured            city         state         LON  ...  \\\n",
       "0             1     Albuquerque    New Mexico -106.490998  ...   \n",
       "1             4     Los Angeles    California -118.292011  ...   \n",
       "2             7     New Orleans     Louisiana  -90.097796  ...   \n",
       "3             3  East St. Louis      Illinois  -90.125416  ...   \n",
       "4             5        Brooklyn      New York  -73.922619  ...   \n",
       "...         ...             ...           ...         ...  ...   \n",
       "2082          4      Pittsburgh  Pennsylvania  -79.900730  ...   \n",
       "2083          4         Detroit      Michigan  -83.014778  ...   \n",
       "2084          4       Baltimore      Maryland  -76.545052  ...   \n",
       "2085          7         Atlanta       Georgia  -84.373070  ...   \n",
       "2086          3       Lexington      Kentucky  -84.478053  ...   \n",
       "\n",
       "      state_outdegree  prox_indegree  prox_outdegree  rand_ind_t  \\\n",
       "0                   0              0               0           0   \n",
       "1                   3              0               2           1   \n",
       "2                   0              1               0           1   \n",
       "3                   1              3               1           2   \n",
       "4                   0              6               5           3   \n",
       "...               ...            ...             ...         ...   \n",
       "2082                0              1               1        1202   \n",
       "2083                0              5               5        1202   \n",
       "2084                2              1               4        1203   \n",
       "2085                1              3               1        1204   \n",
       "2086                1              1               2        1205   \n",
       "\n",
       "      null_indegree  null_outdegree  state_null_indegree  \\\n",
       "0                 0              25                    0   \n",
       "1                 1              25                    0   \n",
       "2                 1              25                    0   \n",
       "3                 3              25                    0   \n",
       "4                 4              23                    0   \n",
       "...             ...             ...                  ...   \n",
       "2082             22               3                    1   \n",
       "2083             22               3                    3   \n",
       "2084             23               2                    1   \n",
       "2085             21               1                    2   \n",
       "2086             21               0                    0   \n",
       "\n",
       "      state_null_outdegree  prox_null_indegree  prox_null_outdegree  \n",
       "0                        0                   0                    0  \n",
       "1                        5                   0                    3  \n",
       "2                        0                   0                    1  \n",
       "3                        3                   0                    4  \n",
       "4                        1                   0                    3  \n",
       "...                    ...                 ...                  ...  \n",
       "2082                     0                   3                    2  \n",
       "2083                     0                   4                    0  \n",
       "2084                     0                   4                    0  \n",
       "2085                     0                   2                    0  \n",
       "2086                     0                   0                    0  \n",
       "\n",
       "[2087 rows x 26 columns]"
      ]
     },
     "execution_count": 28,
     "metadata": {},
     "output_type": "execute_result"
    }
   ],
   "source": [
    "sorted_rand_df"
   ]
  },
  {
   "cell_type": "code",
   "execution_count": 30,
   "metadata": {},
   "outputs": [
    {
     "name": "stdout",
     "output_type": "stream",
     "text": [
      "(-0.1040768162272635, 1.8912608167059439e-06)\n",
      "(0.03509555850533351, 0.10897263527021582)\n",
      "(-0.08872503360399206, 4.931165454787248e-05)\n",
      "(0.04804143984777072, 0.028187792942165925)\n"
     ]
    }
   ],
   "source": [
    "print(stats.pearsonr(sorted_rand_df['log_n_killed'], sorted_rand_df['prox_null_indegree']))\n",
    "print(stats.pearsonr(sorted_rand_df['log_n_injured'], sorted_rand_df['prox_null_indegree']))\n",
    "print(stats.pearsonr(sorted_rand_df['log_n_killed'], sorted_rand_df['prox_null_outdegree']))\n",
    "print(stats.pearsonr(sorted_rand_df['log_n_injured'], sorted_rand_df['prox_null_outdegree']))"
   ]
  },
  {
   "cell_type": "code",
   "execution_count": 34,
   "metadata": {},
   "outputs": [
    {
     "name": "stdout",
     "output_type": "stream",
     "text": [
      "SpearmanrResult(correlation=-0.09766204967728337, pvalue=7.837402729552628e-06)\n",
      "SpearmanrResult(correlation=0.03283270196014214, pvalue=0.13376347384537787)\n",
      "SpearmanrResult(correlation=-0.08633985150592444, pvalue=7.83679943293995e-05)\n",
      "SpearmanrResult(correlation=0.03514165251767134, pvalue=0.10850823709400827)\n"
     ]
    }
   ],
   "source": [
    "print(stats.spearmanr(sorted_rand_df['log_n_killed'], sorted_rand_df['prox_null_indegree']))\n",
    "print(stats.spearmanr(sorted_rand_df['log_n_injured'], sorted_rand_df['prox_null_indegree']))\n",
    "print(stats.spearmanr(sorted_rand_df['log_n_killed'], sorted_rand_df['prox_null_outdegree']))\n",
    "print(stats.spearmanr(sorted_rand_df['log_n_injured'], sorted_rand_df['prox_null_outdegree']))"
   ]
  },
  {
   "cell_type": "code",
   "execution_count": 31,
   "metadata": {},
   "outputs": [],
   "source": [
    "sorted_rand_df.to_csv(\"9with_null_models.csv\", index = False)"
   ]
  }
 ],
 "metadata": {
  "kernelspec": {
   "display_name": "Python 3",
   "language": "python",
   "name": "python3"
  },
  "language_info": {
   "codemirror_mode": {
    "name": "ipython",
    "version": 3
   },
   "file_extension": ".py",
   "mimetype": "text/x-python",
   "name": "python",
   "nbconvert_exporter": "python",
   "pygments_lexer": "ipython3",
   "version": "3.7.7"
  }
 },
 "nbformat": 4,
 "nbformat_minor": 4
}
