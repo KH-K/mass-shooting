{
 "cells": [
  {
   "cell_type": "code",
   "execution_count": null,
   "metadata": {
    "colab": {},
    "colab_type": "code",
    "id": "zRXB59A8lxRS"
   },
   "outputs": [],
   "source": [
    "import pandas as pd"
   ]
  },
  {
   "cell_type": "code",
   "execution_count": null,
   "metadata": {
    "colab": {},
    "colab_type": "code",
    "id": "HE5k4tv_mczn"
   },
   "outputs": [],
   "source": [
    "# You should install googlemaps library\n",
    "\n",
    "#!pip install googlemaps\n",
    "\n",
    "import googlemaps\n",
    "gmaps_key = googlemaps.Client(key = \"YOUR GOOGLE API KEY\")"
   ]
  },
  {
   "cell_type": "code",
   "execution_count": 40,
   "metadata": {
    "colab": {
     "base_uri": "https://localhost:8080/",
     "height": 204
    },
    "colab_type": "code",
    "executionInfo": {
     "elapsed": 177,
     "status": "ok",
     "timestamp": 1583612970338,
     "user": {
      "displayName": "Keonho Kim",
      "photoUrl": "",
      "userId": "05398618637237030774"
     },
     "user_tz": 300
    },
    "id": "DfEFtkjmnGyf",
    "outputId": "3e75b8d1-e542-4c1a-e254-43e2e0f3d3aa"
   },
   "outputs": [
    {
     "data": {
      "text/html": [
       "<div>\n",
       "<style scoped>\n",
       "    .dataframe tbody tr th:only-of-type {\n",
       "        vertical-align: middle;\n",
       "    }\n",
       "\n",
       "    .dataframe tbody tr th {\n",
       "        vertical-align: top;\n",
       "    }\n",
       "\n",
       "    .dataframe thead th {\n",
       "        text-align: right;\n",
       "    }\n",
       "</style>\n",
       "<table border=\"1\" class=\"dataframe\">\n",
       "  <thead>\n",
       "    <tr style=\"text-align: right;\">\n",
       "      <th></th>\n",
       "      <th>date</th>\n",
       "      <th>adr</th>\n",
       "      <th>p</th>\n",
       "      <th>n_killed</th>\n",
       "      <th>n_injured</th>\n",
       "      <th>street</th>\n",
       "      <th>city</th>\n",
       "      <th>state</th>\n",
       "    </tr>\n",
       "  </thead>\n",
       "  <tbody>\n",
       "    <tr>\n",
       "      <th>268</th>\n",
       "      <td>2014-01-01</td>\n",
       "      <td>Rockingham Street and Berkley Avenue Extended ...</td>\n",
       "      <td>2.855649</td>\n",
       "      <td>2</td>\n",
       "      <td>2</td>\n",
       "      <td>Rockingham Street and Berkley Avenue Extended</td>\n",
       "      <td>Norfolk</td>\n",
       "      <td>Virginia</td>\n",
       "    </tr>\n",
       "    <tr>\n",
       "      <th>267</th>\n",
       "      <td>2014-01-03</td>\n",
       "      <td>Farmers Boulevard and 133rd Avenue Queens New ...</td>\n",
       "      <td>2.390389</td>\n",
       "      <td>1</td>\n",
       "      <td>3</td>\n",
       "      <td>Farmers Boulevard and 133rd Avenue</td>\n",
       "      <td>Queens</td>\n",
       "      <td>New York</td>\n",
       "    </tr>\n",
       "    <tr>\n",
       "      <th>266</th>\n",
       "      <td>2014-01-05</td>\n",
       "      <td>829 Parade St Erie Pennsylvania</td>\n",
       "      <td>2.390389</td>\n",
       "      <td>1</td>\n",
       "      <td>3</td>\n",
       "      <td>829 Parade St</td>\n",
       "      <td>Erie</td>\n",
       "      <td>Pennsylvania</td>\n",
       "    </tr>\n",
       "    <tr>\n",
       "      <th>265</th>\n",
       "      <td>2014-01-11</td>\n",
       "      <td>3430 W. Capitol Street Jackson Mississippi</td>\n",
       "      <td>1.515717</td>\n",
       "      <td>0</td>\n",
       "      <td>4</td>\n",
       "      <td>3430 W. Capitol Street</td>\n",
       "      <td>Jackson</td>\n",
       "      <td>Mississippi</td>\n",
       "    </tr>\n",
       "    <tr>\n",
       "      <th>264</th>\n",
       "      <td>2014-01-12</td>\n",
       "      <td>University Drive Huntsville Alabama</td>\n",
       "      <td>1.620657</td>\n",
       "      <td>0</td>\n",
       "      <td>5</td>\n",
       "      <td>University Drive</td>\n",
       "      <td>Huntsville</td>\n",
       "      <td>Alabama</td>\n",
       "    </tr>\n",
       "  </tbody>\n",
       "</table>\n",
       "</div>"
      ],
      "text/plain": [
       "           date  ...         state\n",
       "268  2014-01-01  ...      Virginia\n",
       "267  2014-01-03  ...      New York\n",
       "266  2014-01-05  ...  Pennsylvania\n",
       "265  2014-01-11  ...   Mississippi\n",
       "264  2014-01-12  ...       Alabama\n",
       "\n",
       "[5 rows x 8 columns]"
      ]
     },
     "execution_count": 40,
     "metadata": {
      "tags": []
     },
     "output_type": "execute_result"
    }
   ],
   "source": [
    "df = pd.read_csv(\"3new-var.csv\", index_col = 0)\n",
    "df.head()"
   ]
  },
  {
   "cell_type": "code",
   "execution_count": 42,
   "metadata": {
    "colab": {
     "base_uri": "https://localhost:8080/",
     "height": 204
    },
    "colab_type": "code",
    "executionInfo": {
     "elapsed": 179,
     "status": "ok",
     "timestamp": 1583612978257,
     "user": {
      "displayName": "Keonho Kim",
      "photoUrl": "",
      "userId": "05398618637237030774"
     },
     "user_tz": 300
    },
    "id": "H-newVJHqBMM",
    "outputId": "461ab161-6af6-47ca-9f11-4f43bfa9f9d9"
   },
   "outputs": [
    {
     "data": {
      "text/html": [
       "<div>\n",
       "<style scoped>\n",
       "    .dataframe tbody tr th:only-of-type {\n",
       "        vertical-align: middle;\n",
       "    }\n",
       "\n",
       "    .dataframe tbody tr th {\n",
       "        vertical-align: top;\n",
       "    }\n",
       "\n",
       "    .dataframe thead th {\n",
       "        text-align: right;\n",
       "    }\n",
       "</style>\n",
       "<table border=\"1\" class=\"dataframe\">\n",
       "  <thead>\n",
       "    <tr style=\"text-align: right;\">\n",
       "      <th></th>\n",
       "      <th>date</th>\n",
       "      <th>adr</th>\n",
       "      <th>p</th>\n",
       "      <th>n_killed</th>\n",
       "      <th>n_injured</th>\n",
       "      <th>street</th>\n",
       "      <th>city</th>\n",
       "      <th>state</th>\n",
       "      <th>LON</th>\n",
       "      <th>LAT</th>\n",
       "    </tr>\n",
       "  </thead>\n",
       "  <tbody>\n",
       "    <tr>\n",
       "      <th>268</th>\n",
       "      <td>2014-01-01</td>\n",
       "      <td>Rockingham Street and Berkley Avenue Extended ...</td>\n",
       "      <td>2.855649</td>\n",
       "      <td>2</td>\n",
       "      <td>2</td>\n",
       "      <td>Rockingham Street and Berkley Avenue Extended</td>\n",
       "      <td>Norfolk</td>\n",
       "      <td>Virginia</td>\n",
       "      <td>None</td>\n",
       "      <td>None</td>\n",
       "    </tr>\n",
       "    <tr>\n",
       "      <th>267</th>\n",
       "      <td>2014-01-03</td>\n",
       "      <td>Farmers Boulevard and 133rd Avenue Queens New ...</td>\n",
       "      <td>2.390389</td>\n",
       "      <td>1</td>\n",
       "      <td>3</td>\n",
       "      <td>Farmers Boulevard and 133rd Avenue</td>\n",
       "      <td>Queens</td>\n",
       "      <td>New York</td>\n",
       "      <td>None</td>\n",
       "      <td>None</td>\n",
       "    </tr>\n",
       "    <tr>\n",
       "      <th>266</th>\n",
       "      <td>2014-01-05</td>\n",
       "      <td>829 Parade St Erie Pennsylvania</td>\n",
       "      <td>2.390389</td>\n",
       "      <td>1</td>\n",
       "      <td>3</td>\n",
       "      <td>829 Parade St</td>\n",
       "      <td>Erie</td>\n",
       "      <td>Pennsylvania</td>\n",
       "      <td>None</td>\n",
       "      <td>None</td>\n",
       "    </tr>\n",
       "    <tr>\n",
       "      <th>265</th>\n",
       "      <td>2014-01-11</td>\n",
       "      <td>3430 W. Capitol Street Jackson Mississippi</td>\n",
       "      <td>1.515717</td>\n",
       "      <td>0</td>\n",
       "      <td>4</td>\n",
       "      <td>3430 W. Capitol Street</td>\n",
       "      <td>Jackson</td>\n",
       "      <td>Mississippi</td>\n",
       "      <td>None</td>\n",
       "      <td>None</td>\n",
       "    </tr>\n",
       "    <tr>\n",
       "      <th>264</th>\n",
       "      <td>2014-01-12</td>\n",
       "      <td>University Drive Huntsville Alabama</td>\n",
       "      <td>1.620657</td>\n",
       "      <td>0</td>\n",
       "      <td>5</td>\n",
       "      <td>University Drive</td>\n",
       "      <td>Huntsville</td>\n",
       "      <td>Alabama</td>\n",
       "      <td>None</td>\n",
       "      <td>None</td>\n",
       "    </tr>\n",
       "  </tbody>\n",
       "</table>\n",
       "</div>"
      ],
      "text/plain": [
       "           date                                                adr  ...   LON   LAT\n",
       "268  2014-01-01  Rockingham Street and Berkley Avenue Extended ...  ...  None  None\n",
       "267  2014-01-03  Farmers Boulevard and 133rd Avenue Queens New ...  ...  None  None\n",
       "266  2014-01-05                    829 Parade St Erie Pennsylvania  ...  None  None\n",
       "265  2014-01-11         3430 W. Capitol Street Jackson Mississippi  ...  None  None\n",
       "264  2014-01-12                University Drive Huntsville Alabama  ...  None  None\n",
       "\n",
       "[5 rows x 10 columns]"
      ]
     },
     "execution_count": 42,
     "metadata": {
      "tags": []
     },
     "output_type": "execute_result"
    }
   ],
   "source": [
    "df['LON'] = None\n",
    "df['LAT'] = None\n",
    "\n",
    "df.head()"
   ]
  },
  {
   "cell_type": "code",
   "execution_count": null,
   "metadata": {
    "colab": {},
    "colab_type": "code",
    "id": "ypnTbZ9lqYAu"
   },
   "outputs": [],
   "source": [
    "for x in range(0, len(df), 1):\n",
    "  geocode_result = gmaps_key.geocode(df.iat[x,1])\n",
    "\n",
    "  try:\n",
    "    lat = geocode_result[0][\"geometry\"][\"location\"][\"lat\"]\n",
    "    lon = geocode_result[0][\"geometry\"][\"location\"][\"lng\"]\n",
    "\n",
    "    df.iat[x, df.columns.get_loc(\"LAT\")] = lat\n",
    "    df.iat[x, df.columns.get_loc(\"LON\")] = lon\n",
    "\n",
    "  except:\n",
    "    lat = None\n",
    "    lon = None"
   ]
  },
  {
   "cell_type": "code",
   "execution_count": 65,
   "metadata": {
    "colab": {
     "base_uri": "https://localhost:8080/",
     "height": 204
    },
    "colab_type": "code",
    "executionInfo": {
     "elapsed": 192,
     "status": "ok",
     "timestamp": 1583616219178,
     "user": {
      "displayName": "Keonho Kim",
      "photoUrl": "",
      "userId": "05398618637237030774"
     },
     "user_tz": 300
    },
    "id": "R0nsmXau0o9m",
    "outputId": "44ba9901-aea5-4ecb-a137-6081d97a013a"
   },
   "outputs": [
    {
     "data": {
      "text/html": [
       "<div>\n",
       "<style scoped>\n",
       "    .dataframe tbody tr th:only-of-type {\n",
       "        vertical-align: middle;\n",
       "    }\n",
       "\n",
       "    .dataframe tbody tr th {\n",
       "        vertical-align: top;\n",
       "    }\n",
       "\n",
       "    .dataframe thead th {\n",
       "        text-align: right;\n",
       "    }\n",
       "</style>\n",
       "<table border=\"1\" class=\"dataframe\">\n",
       "  <thead>\n",
       "    <tr style=\"text-align: right;\">\n",
       "      <th></th>\n",
       "      <th>date</th>\n",
       "      <th>adr</th>\n",
       "      <th>p</th>\n",
       "      <th>n_killed</th>\n",
       "      <th>n_injured</th>\n",
       "      <th>street</th>\n",
       "      <th>city</th>\n",
       "      <th>state</th>\n",
       "      <th>LON</th>\n",
       "      <th>LAT</th>\n",
       "    </tr>\n",
       "  </thead>\n",
       "  <tbody>\n",
       "    <tr>\n",
       "      <th>268</th>\n",
       "      <td>2014-01-01</td>\n",
       "      <td>Rockingham Street and Berkley Avenue Extended ...</td>\n",
       "      <td>2.855649</td>\n",
       "      <td>2</td>\n",
       "      <td>2</td>\n",
       "      <td>Rockingham Street and Berkley Avenue Extended</td>\n",
       "      <td>Norfolk</td>\n",
       "      <td>Virginia</td>\n",
       "      <td>-76.2789</td>\n",
       "      <td>36.8308</td>\n",
       "    </tr>\n",
       "    <tr>\n",
       "      <th>267</th>\n",
       "      <td>2014-01-03</td>\n",
       "      <td>Farmers Boulevard and 133rd Avenue Queens New ...</td>\n",
       "      <td>2.390389</td>\n",
       "      <td>1</td>\n",
       "      <td>3</td>\n",
       "      <td>Farmers Boulevard and 133rd Avenue</td>\n",
       "      <td>Queens</td>\n",
       "      <td>New York</td>\n",
       "      <td>-73.7629</td>\n",
       "      <td>40.6775</td>\n",
       "    </tr>\n",
       "    <tr>\n",
       "      <th>266</th>\n",
       "      <td>2014-01-05</td>\n",
       "      <td>829 Parade St Erie Pennsylvania</td>\n",
       "      <td>2.390389</td>\n",
       "      <td>1</td>\n",
       "      <td>3</td>\n",
       "      <td>829 Parade St</td>\n",
       "      <td>Erie</td>\n",
       "      <td>Pennsylvania</td>\n",
       "      <td>-80.0745</td>\n",
       "      <td>42.13</td>\n",
       "    </tr>\n",
       "    <tr>\n",
       "      <th>265</th>\n",
       "      <td>2014-01-11</td>\n",
       "      <td>3430 W. Capitol Street Jackson Mississippi</td>\n",
       "      <td>1.515717</td>\n",
       "      <td>0</td>\n",
       "      <td>4</td>\n",
       "      <td>3430 W. Capitol Street</td>\n",
       "      <td>Jackson</td>\n",
       "      <td>Mississippi</td>\n",
       "      <td>-90.2283</td>\n",
       "      <td>32.3237</td>\n",
       "    </tr>\n",
       "    <tr>\n",
       "      <th>264</th>\n",
       "      <td>2014-01-12</td>\n",
       "      <td>University Drive Huntsville Alabama</td>\n",
       "      <td>1.620657</td>\n",
       "      <td>0</td>\n",
       "      <td>5</td>\n",
       "      <td>University Drive</td>\n",
       "      <td>Huntsville</td>\n",
       "      <td>Alabama</td>\n",
       "      <td>-86.6504</td>\n",
       "      <td>34.7366</td>\n",
       "    </tr>\n",
       "  </tbody>\n",
       "</table>\n",
       "</div>"
      ],
      "text/plain": [
       "           date  ...      LAT\n",
       "268  2014-01-01  ...  36.8308\n",
       "267  2014-01-03  ...  40.6775\n",
       "266  2014-01-05  ...    42.13\n",
       "265  2014-01-11  ...  32.3237\n",
       "264  2014-01-12  ...  34.7366\n",
       "\n",
       "[5 rows x 10 columns]"
      ]
     },
     "execution_count": 65,
     "metadata": {
      "tags": []
     },
     "output_type": "execute_result"
    }
   ],
   "source": [
    "df.head()"
   ]
  },
  {
   "cell_type": "code",
   "execution_count": null,
   "metadata": {
    "colab": {},
    "colab_type": "code",
    "id": "Mn2Drk32v4HP"
   },
   "outputs": [],
   "source": [
    "df.to_csv('/content/drive/My Drive/Project/data_historical/4coordinate.csv')"
   ]
  }
 ],
 "metadata": {
  "colab": {
   "authorship_tag": "ABX9TyP6mVJCkWuHxnG1W2UwvRGR",
   "collapsed_sections": [],
   "mount_file_id": "1LrZldE_8q6t5RsPQ0q2kcjvxUd4NnQzA",
   "name": "4coordinate.ipynb",
   "provenance": []
  },
  "kernelspec": {
   "display_name": "Python 3",
   "language": "python",
   "name": "python3"
  },
  "language_info": {
   "codemirror_mode": {
    "name": "ipython",
    "version": 3
   },
   "file_extension": ".py",
   "mimetype": "text/x-python",
   "name": "python",
   "nbconvert_exporter": "python",
   "pygments_lexer": "ipython3",
   "version": "3.7.7"
  }
 },
 "nbformat": 4,
 "nbformat_minor": 4
}
