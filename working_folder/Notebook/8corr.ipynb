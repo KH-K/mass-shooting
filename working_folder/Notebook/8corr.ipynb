{
 "cells": [
  {
   "cell_type": "code",
   "execution_count": 47,
   "metadata": {
    "colab": {},
    "colab_type": "code",
    "id": "VhqdyH2vNQUx"
   },
   "outputs": [],
   "source": [
    "import numpy as np\n",
    "import pandas as pd\n",
    "import networkx as nx\n",
    "import seaborn as sns\n",
    "import matplotlib.pyplot as plt\n",
    "\n",
    "from scipy import stats"
   ]
  },
  {
   "cell_type": "code",
   "execution_count": 48,
   "metadata": {},
   "outputs": [],
   "source": [
    "dat = pd.read_csv(\"7logarithm_transformation.csv\", index_col = False)"
   ]
  },
  {
   "cell_type": "markdown",
   "metadata": {},
   "source": [
    "### Tomorrow"
   ]
  },
  {
   "cell_type": "code",
   "execution_count": 49,
   "metadata": {},
   "outputs": [],
   "source": [
    "G1d = nx.read_gexf(\"graph/G1d.gexf\")\n",
    "\n",
    "G1d_inDgr = []\n",
    "\n",
    "for i in list(G1d.nodes()):\n",
    "    G1d_inDegree = G1d.in_degree(i)\n",
    "    G1d_inDgr.append(G1d_inDegree)\n",
    "    \n",
    "dat['1d_indegree'] = G1d_inDgr\n",
    "\n",
    "G1d_outDgr = []\n",
    "\n",
    "for i in list(G1d.nodes()):\n",
    "    G1d_outDegree = G1d.out_degree(i)\n",
    "    G1d_outDgr.append(G1d_outDegree)\n",
    "    \n",
    "dat['1d_outdegree'] = G1d_outDgr"
   ]
  },
  {
   "cell_type": "code",
   "execution_count": 50,
   "metadata": {},
   "outputs": [
    {
     "name": "stdout",
     "output_type": "stream",
     "text": [
      "(-0.04839331180269148, 0.02705273253066306)\n",
      "(0.0279026066655809, 0.20260014041278984)\n",
      "(-0.02007106548272753, 0.35942388892998994)\n",
      "(0.03133256955310996, 0.15246423894256056)\n"
     ]
    }
   ],
   "source": [
    "print(stats.pearsonr(dat['log_n_killed'], dat['1d_indegree']))\n",
    "print(stats.pearsonr(dat['log_n_injured'], dat['1d_indegree']))\n",
    "print(stats.pearsonr(dat['log_n_killed'], dat['1d_outdegree']))\n",
    "print(stats.pearsonr(dat['log_n_injured'], dat['1d_outdegree']))"
   ]
  },
  {
   "cell_type": "markdown",
   "metadata": {},
   "source": [
    "### 7 Days"
   ]
  },
  {
   "cell_type": "code",
   "execution_count": 51,
   "metadata": {},
   "outputs": [],
   "source": [
    "G7d = nx.read_gexf(\"graph/G7d.gexf\")\n",
    "\n",
    "G7d_inDgr = []\n",
    "\n",
    "for i in list(G7d.nodes()):\n",
    "    G7d_inDegree = G7d.in_degree(i)\n",
    "    G7d_inDgr.append(G7d_inDegree)\n",
    "    \n",
    "dat['7d_indegree'] = G7d_inDgr\n",
    "\n",
    "G7d_outDgr = []\n",
    "\n",
    "for i in list(G7d.nodes()):\n",
    "    G7d_outDegree = G7d.out_degree(i)\n",
    "    G7d_outDgr.append(G7d_outDegree)\n",
    "    \n",
    "dat['7d_outdegree'] = G7d_outDgr"
   ]
  },
  {
   "cell_type": "code",
   "execution_count": 52,
   "metadata": {},
   "outputs": [
    {
     "name": "stdout",
     "output_type": "stream",
     "text": [
      "(-0.03774355950859953, 0.08473556541428358)\n",
      "(0.020268704710350728, 0.3547112661061438)\n",
      "(-0.026144457304043824, 0.23253120560977486)\n",
      "(0.005378167937359823, 0.8060312474345537)\n"
     ]
    }
   ],
   "source": [
    "print(stats.pearsonr(dat['log_n_killed'], dat['7d_indegree']))\n",
    "print(stats.pearsonr(dat['log_n_injured'], dat['7d_indegree']))\n",
    "print(stats.pearsonr(dat['log_n_killed'], dat['7d_outdegree']))\n",
    "print(stats.pearsonr(dat['log_n_injured'], dat['7d_outdegree']))"
   ]
  },
  {
   "cell_type": "markdown",
   "metadata": {},
   "source": [
    "### 14 days"
   ]
  },
  {
   "cell_type": "code",
   "execution_count": 53,
   "metadata": {},
   "outputs": [
    {
     "name": "stdout",
     "output_type": "stream",
     "text": [
      "(-0.06328716948905494, 0.0038236041798325906)\n",
      "(0.03661783741240386, 0.09444611028150615)\n",
      "(-0.031059017292435605, 0.15607904060757516)\n",
      "(0.0030862094258414007, 0.8879447411437051)\n"
     ]
    }
   ],
   "source": [
    "G14d = nx.read_gexf(\"graph/G14d.gexf\")\n",
    "\n",
    "G14d_inDgr = []\n",
    "\n",
    "for i in list(G14d.nodes()):\n",
    "    G14d_inDegree = G14d.in_degree(i)\n",
    "    G14d_inDgr.append(G14d_inDegree)\n",
    "    \n",
    "dat['14d_indegree'] = G14d_inDgr\n",
    "\n",
    "G14d_outDgr = []\n",
    "\n",
    "for i in list(G14d.nodes()):\n",
    "    G14d_outDegree = G14d.out_degree(i)\n",
    "    G14d_outDgr.append(G14d_outDegree)\n",
    "    \n",
    "dat['14d_outdegree'] = G14d_outDgr\n",
    "\n",
    "print(stats.pearsonr(dat['log_n_killed'], dat['14d_indegree']))\n",
    "print(stats.pearsonr(dat['log_n_injured'], dat['14d_indegree']))\n",
    "print(stats.pearsonr(dat['log_n_killed'], dat['14d_outdegree']))\n",
    "print(stats.pearsonr(dat['log_n_injured'], dat['14d_outdegree']))"
   ]
  },
  {
   "cell_type": "markdown",
   "metadata": {},
   "source": [
    "### 30 days"
   ]
  },
  {
   "cell_type": "code",
   "execution_count": 54,
   "metadata": {},
   "outputs": [
    {
     "name": "stdout",
     "output_type": "stream",
     "text": [
      "(-0.059243957666799095, 0.006784530367219103)\n",
      "(0.05325318231183483, 0.01497136023118018)\n",
      "(-0.03676643725517697, 0.09311538195882411)\n",
      "(0.01975046180528046, 0.36715171130076274)\n"
     ]
    }
   ],
   "source": [
    "G30d = nx.read_gexf(\"graph/G30d.gexf\")\n",
    "\n",
    "G30d_inDgr = []\n",
    "\n",
    "for i in list(G30d.nodes()):\n",
    "    G30d_inDegree = G30d.in_degree(i)\n",
    "    G30d_inDgr.append(G30d_inDegree)\n",
    "    \n",
    "dat['30d_indegree'] = G30d_inDgr\n",
    "\n",
    "G30d_outDgr = []\n",
    "\n",
    "for i in list(G30d.nodes()):\n",
    "    G30d_outDegree = G30d.out_degree(i)\n",
    "    G30d_outDgr.append(G30d_outDegree)\n",
    "    \n",
    "dat['30d_outdegree'] = G30d_outDgr\n",
    "\n",
    "print(stats.pearsonr(dat['log_n_killed'], dat['30d_indegree']))\n",
    "print(stats.pearsonr(dat['log_n_injured'], dat['30d_indegree']))\n",
    "print(stats.pearsonr(dat['log_n_killed'], dat['30d_outdegree']))\n",
    "print(stats.pearsonr(dat['log_n_injured'], dat['30d_outdegree']))"
   ]
  },
  {
   "cell_type": "markdown",
   "metadata": {},
   "source": [
    "### 5km"
   ]
  },
  {
   "cell_type": "code",
   "execution_count": 55,
   "metadata": {},
   "outputs": [
    {
     "name": "stdout",
     "output_type": "stream",
     "text": [
      "(-0.11255415862581497, 2.5336337093638416e-07)\n",
      "(0.08949356115734103, 4.2369368493020135e-05)\n",
      "(-0.12787457486713372, 4.563214063901118e-09)\n",
      "(0.0910842546170689, 3.083139892729987e-05)\n"
     ]
    }
   ],
   "source": [
    "G0_5km = nx.read_gexf(\"graph/G0_5km.gexf\")\n",
    "\n",
    "G0_5km_inDgr = []\n",
    "\n",
    "for i in list(G0_5km.nodes()):\n",
    "    G0_5km_inDegree = G0_5km.in_degree(i)\n",
    "    G0_5km_inDgr.append(G0_5km_inDegree)\n",
    "    \n",
    "dat['5km_prox_indegree'] = G0_5km_inDgr\n",
    "\n",
    "G0_5km_outDgr = []\n",
    "\n",
    "for i in list(G0_5km.nodes()):\n",
    "    G0_5km_outDegree = G0_5km.out_degree(i)\n",
    "    G0_5km_outDgr.append(G0_5km_outDegree)\n",
    "    \n",
    "dat['5km_prox_outdegree'] = G0_5km_outDgr\n",
    "\n",
    "print(stats.pearsonr(dat['log_n_killed'], dat['5km_prox_indegree']))\n",
    "print(stats.pearsonr(dat['log_n_injured'], dat['5km_prox_indegree']))\n",
    "print(stats.pearsonr(dat['log_n_killed'], dat['5km_prox_outdegree']))\n",
    "print(stats.pearsonr(dat['log_n_injured'], dat['5km_prox_outdegree']))"
   ]
  },
  {
   "cell_type": "markdown",
   "metadata": {},
   "source": [
    "### 3km"
   ]
  },
  {
   "cell_type": "code",
   "execution_count": 56,
   "metadata": {},
   "outputs": [
    {
     "name": "stdout",
     "output_type": "stream",
     "text": [
      "(-0.10720842193891726, 9.159051517235247e-07)\n",
      "(0.08295726749271755, 0.00014820083657065682)\n",
      "(-0.1176516207833594, 7.035181944654215e-08)\n",
      "(0.08921595506424801, 4.476264941609362e-05)\n"
     ]
    }
   ],
   "source": [
    "G0_3km = nx.read_gexf(\"graph/G0_3km.gexf\")\n",
    "\n",
    "G0_3km_inDgr = []\n",
    "\n",
    "for i in list(G0_3km.nodes()):\n",
    "    G0_3km_inDegree = G0_3km.in_degree(i)\n",
    "    G0_3km_inDgr.append(G0_3km_inDegree)\n",
    "    \n",
    "dat['3km_prox_indegree'] = G0_3km_inDgr\n",
    "\n",
    "G0_3km_outDgr = []\n",
    "\n",
    "for i in list(G0_3km.nodes()):\n",
    "    G0_3km_outDegree = G0_3km.out_degree(i)\n",
    "    G0_3km_outDgr.append(G0_3km_outDegree)\n",
    "    \n",
    "dat['3km_prox_outdegree'] = G0_3km_outDgr\n",
    "\n",
    "print(stats.pearsonr(dat['log_n_killed'], dat['3km_prox_indegree']))\n",
    "print(stats.pearsonr(dat['log_n_injured'], dat['3km_prox_indegree']))\n",
    "print(stats.pearsonr(dat['log_n_killed'], dat['3km_prox_outdegree']))\n",
    "print(stats.pearsonr(dat['log_n_injured'], dat['3km_prox_outdegree']))"
   ]
  },
  {
   "cell_type": "markdown",
   "metadata": {},
   "source": [
    "### 1km"
   ]
  },
  {
   "cell_type": "code",
   "execution_count": 57,
   "metadata": {},
   "outputs": [
    {
     "name": "stdout",
     "output_type": "stream",
     "text": [
      "(-0.08796080222280182, 5.7274329202176316e-05)\n",
      "(0.05840514972818943, 0.007611305277340766)\n",
      "(-0.11264058626240325, 2.480315080049773e-07)\n",
      "(0.07589032124264812, 0.0005206950474206318)\n"
     ]
    }
   ],
   "source": [
    "G0_1km = nx.read_gexf(\"graph/G0_1km.gexf\")\n",
    "\n",
    "G0_1km_inDgr = []\n",
    "\n",
    "for i in list(G0_1km.nodes()):\n",
    "    G0_1km_inDegree = G0_1km.in_degree(i)\n",
    "    G0_1km_inDgr.append(G0_1km_inDegree)\n",
    "    \n",
    "dat['1km_prox_indegree'] = G0_1km_inDgr\n",
    "\n",
    "G0_1km_outDgr = []\n",
    "\n",
    "for i in list(G0_1km.nodes()):\n",
    "    G0_1km_outDegree = G0_1km.out_degree(i)\n",
    "    G0_1km_outDgr.append(G0_1km_outDegree)\n",
    "    \n",
    "dat['1km_prox_outdegree'] = G0_1km_outDgr\n",
    "\n",
    "print(stats.pearsonr(dat['log_n_killed'], dat['1km_prox_indegree']))\n",
    "print(stats.pearsonr(dat['log_n_injured'], dat['1km_prox_indegree']))\n",
    "print(stats.pearsonr(dat['log_n_killed'], dat['1km_prox_outdegree']))\n",
    "print(stats.pearsonr(dat['log_n_injured'], dat['1km_prox_outdegree']))"
   ]
  },
  {
   "cell_type": "code",
   "execution_count": 58,
   "metadata": {},
   "outputs": [],
   "source": [
    "dat.to_csv(\"8G1.csv\", index = False)"
   ]
  }
 ],
 "metadata": {
  "colab": {
   "authorship_tag": "ABX9TyMusoilq/4FWjxQDO6T3gTb",
   "collapsed_sections": [],
   "mount_file_id": "19KM7k0p3RIDndwegyrwoo_RwMYdbsqoZ",
   "name": "6.create_network(network).ipynb",
   "provenance": []
  },
  "kernelspec": {
   "display_name": "Python 3",
   "language": "python",
   "name": "python3"
  },
  "language_info": {
   "codemirror_mode": {
    "name": "ipython",
    "version": 3
   },
   "file_extension": ".py",
   "mimetype": "text/x-python",
   "name": "python",
   "nbconvert_exporter": "python",
   "pygments_lexer": "ipython3",
   "version": "3.7.7"
  }
 },
 "nbformat": 4,
 "nbformat_minor": 4
}
