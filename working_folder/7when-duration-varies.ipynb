{
 "cells": [
  {
   "cell_type": "markdown",
   "metadata": {
    "colab_type": "text",
    "id": "iFfJIeKDNMpM"
   },
   "source": [
    "---\n",
    "### Reducing the number of edges: find a rational rule\n",
    "\n",
    "1. Set window: Confine the lifespan of event, probably 1-2 months. This is the easiest way. Plus, it is crucial for time-series analysis.  \n",
    "One thing that should be considered is, there are two types of events: powerful or negligible.\n",
    "\n",
    "2. it looks like power-law function. $f= p^{-t}$ is basic form of it, we (may) need to modify this. \n",
    "\n",
    "3. Using collective attention: how long a event-related hashtag survive. but it is hard to find event-specific hashtag, and also most of events are not mentioned in Twitter.\n",
    "\n",
    "1 and 2 seems to be plausible (and probably work at the same time), but 3 seem like unfeasible.\n",
    "\n",
    "---"
   ]
  },
  {
   "cell_type": "code",
   "execution_count": 7,
   "metadata": {
    "colab": {},
    "colab_type": "code",
    "id": "VhqdyH2vNQUx"
   },
   "outputs": [],
   "source": [
    "import math\n",
    "import numpy as np\n",
    "import pandas as pd\n",
    "import networkx as nx\n",
    "import seaborn as sns\n",
    "import matplotlib.pyplot as plt"
   ]
  },
  {
   "cell_type": "code",
   "execution_count": 8,
   "metadata": {
    "colab": {
     "base_uri": "https://localhost:8080/",
     "height": 530
    },
    "colab_type": "code",
    "executionInfo": {
     "elapsed": 366,
     "status": "ok",
     "timestamp": 1583981465944,
     "user": {
      "displayName": "Keonho Kim",
      "photoUrl": "",
      "userId": "05398618637237030774"
     },
     "user_tz": 240
    },
    "id": "yLHtUSPDNRlK",
    "outputId": "b2f125f1-e504-48d4-e855-3a16e7c48858"
   },
   "outputs": [
    {
     "data": {
      "text/html": [
       "<div>\n",
       "<style scoped>\n",
       "    .dataframe tbody tr th:only-of-type {\n",
       "        vertical-align: middle;\n",
       "    }\n",
       "\n",
       "    .dataframe tbody tr th {\n",
       "        vertical-align: top;\n",
       "    }\n",
       "\n",
       "    .dataframe thead th {\n",
       "        text-align: right;\n",
       "    }\n",
       "</style>\n",
       "<table border=\"1\" class=\"dataframe\">\n",
       "  <thead>\n",
       "    <tr style=\"text-align: right;\">\n",
       "      <th></th>\n",
       "      <th>ind</th>\n",
       "      <th>ind_t</th>\n",
       "      <th>date</th>\n",
       "      <th>adr</th>\n",
       "      <th>p</th>\n",
       "      <th>n_killed</th>\n",
       "      <th>n_injured</th>\n",
       "      <th>city</th>\n",
       "      <th>state</th>\n",
       "      <th>LON</th>\n",
       "      <th>...</th>\n",
       "      <th>mental_health_details</th>\n",
       "      <th>weapons_obtained_legally</th>\n",
       "      <th>where_obtained</th>\n",
       "      <th>weapon_type</th>\n",
       "      <th>weapon_details</th>\n",
       "      <th>race</th>\n",
       "      <th>gender</th>\n",
       "      <th>mental_health_sources</th>\n",
       "      <th>sources_additional_age</th>\n",
       "      <th>type</th>\n",
       "    </tr>\n",
       "  </thead>\n",
       "  <tbody>\n",
       "    <tr>\n",
       "      <th>0</th>\n",
       "      <td>0</td>\n",
       "      <td>0</td>\n",
       "      <td>2014-01-01</td>\n",
       "      <td>Rockingham Street and Berkley Avenue Extended ...</td>\n",
       "      <td>2.855649</td>\n",
       "      <td>2</td>\n",
       "      <td>2</td>\n",
       "      <td>Norfolk</td>\n",
       "      <td>Virginia</td>\n",
       "      <td>-76.278935</td>\n",
       "      <td>...</td>\n",
       "      <td>NaN</td>\n",
       "      <td>NaN</td>\n",
       "      <td>NaN</td>\n",
       "      <td>NaN</td>\n",
       "      <td>NaN</td>\n",
       "      <td>NaN</td>\n",
       "      <td>NaN</td>\n",
       "      <td>NaN</td>\n",
       "      <td>NaN</td>\n",
       "      <td>NaN</td>\n",
       "    </tr>\n",
       "    <tr>\n",
       "      <th>1</th>\n",
       "      <td>1</td>\n",
       "      <td>1</td>\n",
       "      <td>2014-01-03</td>\n",
       "      <td>Farmers Boulevard and 133rd Avenue Queens New ...</td>\n",
       "      <td>2.390389</td>\n",
       "      <td>1</td>\n",
       "      <td>3</td>\n",
       "      <td>Queens</td>\n",
       "      <td>New York</td>\n",
       "      <td>-73.762898</td>\n",
       "      <td>...</td>\n",
       "      <td>NaN</td>\n",
       "      <td>NaN</td>\n",
       "      <td>NaN</td>\n",
       "      <td>NaN</td>\n",
       "      <td>NaN</td>\n",
       "      <td>NaN</td>\n",
       "      <td>NaN</td>\n",
       "      <td>NaN</td>\n",
       "      <td>NaN</td>\n",
       "      <td>NaN</td>\n",
       "    </tr>\n",
       "    <tr>\n",
       "      <th>2</th>\n",
       "      <td>2</td>\n",
       "      <td>2</td>\n",
       "      <td>2014-01-05</td>\n",
       "      <td>829 Parade St Erie Pennsylvania</td>\n",
       "      <td>2.390389</td>\n",
       "      <td>1</td>\n",
       "      <td>3</td>\n",
       "      <td>Erie</td>\n",
       "      <td>Pennsylvania</td>\n",
       "      <td>-80.074524</td>\n",
       "      <td>...</td>\n",
       "      <td>NaN</td>\n",
       "      <td>NaN</td>\n",
       "      <td>NaN</td>\n",
       "      <td>NaN</td>\n",
       "      <td>NaN</td>\n",
       "      <td>NaN</td>\n",
       "      <td>NaN</td>\n",
       "      <td>NaN</td>\n",
       "      <td>NaN</td>\n",
       "      <td>NaN</td>\n",
       "    </tr>\n",
       "    <tr>\n",
       "      <th>3</th>\n",
       "      <td>3</td>\n",
       "      <td>3</td>\n",
       "      <td>2014-01-11</td>\n",
       "      <td>3430 W. Capitol Street Jackson Mississippi</td>\n",
       "      <td>1.515717</td>\n",
       "      <td>0</td>\n",
       "      <td>4</td>\n",
       "      <td>Jackson</td>\n",
       "      <td>Mississippi</td>\n",
       "      <td>-90.228321</td>\n",
       "      <td>...</td>\n",
       "      <td>NaN</td>\n",
       "      <td>NaN</td>\n",
       "      <td>NaN</td>\n",
       "      <td>NaN</td>\n",
       "      <td>NaN</td>\n",
       "      <td>NaN</td>\n",
       "      <td>NaN</td>\n",
       "      <td>NaN</td>\n",
       "      <td>NaN</td>\n",
       "      <td>NaN</td>\n",
       "    </tr>\n",
       "    <tr>\n",
       "      <th>4</th>\n",
       "      <td>4</td>\n",
       "      <td>4</td>\n",
       "      <td>2014-01-12</td>\n",
       "      <td>University Drive Huntsville Alabama</td>\n",
       "      <td>1.620657</td>\n",
       "      <td>0</td>\n",
       "      <td>5</td>\n",
       "      <td>Huntsville</td>\n",
       "      <td>Alabama</td>\n",
       "      <td>-86.650390</td>\n",
       "      <td>...</td>\n",
       "      <td>NaN</td>\n",
       "      <td>NaN</td>\n",
       "      <td>NaN</td>\n",
       "      <td>NaN</td>\n",
       "      <td>NaN</td>\n",
       "      <td>NaN</td>\n",
       "      <td>NaN</td>\n",
       "      <td>NaN</td>\n",
       "      <td>NaN</td>\n",
       "      <td>NaN</td>\n",
       "    </tr>\n",
       "  </tbody>\n",
       "</table>\n",
       "<p>5 rows × 25 columns</p>\n",
       "</div>"
      ],
      "text/plain": [
       "   ind  ind_t        date                                                adr  \\\n",
       "0    0      0  2014-01-01  Rockingham Street and Berkley Avenue Extended ...   \n",
       "1    1      1  2014-01-03  Farmers Boulevard and 133rd Avenue Queens New ...   \n",
       "2    2      2  2014-01-05                    829 Parade St Erie Pennsylvania   \n",
       "3    3      3  2014-01-11         3430 W. Capitol Street Jackson Mississippi   \n",
       "4    4      4  2014-01-12                University Drive Huntsville Alabama   \n",
       "\n",
       "          p  n_killed  n_injured        city         state        LON  ...  \\\n",
       "0  2.855649         2          2     Norfolk      Virginia -76.278935  ...   \n",
       "1  2.390389         1          3      Queens      New York -73.762898  ...   \n",
       "2  2.390389         1          3        Erie  Pennsylvania -80.074524  ...   \n",
       "3  1.515717         0          4     Jackson   Mississippi -90.228321  ...   \n",
       "4  1.620657         0          5  Huntsville       Alabama -86.650390  ...   \n",
       "\n",
       "   mental_health_details weapons_obtained_legally where_obtained weapon_type  \\\n",
       "0                    NaN                      NaN            NaN         NaN   \n",
       "1                    NaN                      NaN            NaN         NaN   \n",
       "2                    NaN                      NaN            NaN         NaN   \n",
       "3                    NaN                      NaN            NaN         NaN   \n",
       "4                    NaN                      NaN            NaN         NaN   \n",
       "\n",
       "  weapon_details race gender mental_health_sources sources_additional_age type  \n",
       "0            NaN  NaN    NaN                   NaN                    NaN  NaN  \n",
       "1            NaN  NaN    NaN                   NaN                    NaN  NaN  \n",
       "2            NaN  NaN    NaN                   NaN                    NaN  NaN  \n",
       "3            NaN  NaN    NaN                   NaN                    NaN  NaN  \n",
       "4            NaN  NaN    NaN                   NaN                    NaN  NaN  \n",
       "\n",
       "[5 rows x 25 columns]"
      ]
     },
     "execution_count": 8,
     "metadata": {},
     "output_type": "execute_result"
    }
   ],
   "source": [
    "# import dataset\n",
    "df = pd.read_csv(\"6before-network.csv\", index_col=0)\n",
    "df.head()"
   ]
  },
  {
   "cell_type": "code",
   "execution_count": 9,
   "metadata": {},
   "outputs": [],
   "source": [
    "log_n_killed = []\n",
    "log_n_injured = []\n",
    "for i in range(len(df)):\n",
    "    killed = df['n_killed'][i]\n",
    "    injured = df['n_injured'][i]\n",
    "    log_killed = math.log(1 + killed)\n",
    "    log_n_killed.append(log_killed)\n",
    "    log_injured = math.log(1 + injured)\n",
    "    log_n_injured.append(log_injured)\n",
    "\n",
    "df['log_n_killed'] = log_n_killed\n",
    "df['log_n_injured'] = log_n_injured"
   ]
  },
  {
   "cell_type": "code",
   "execution_count": 10,
   "metadata": {},
   "outputs": [],
   "source": [
    "df['p'] = 0.7*df['log_n_killed'] + 0.3*df['log_n_injured']"
   ]
  },
  {
   "cell_type": "code",
   "execution_count": 13,
   "metadata": {},
   "outputs": [],
   "source": [
    "## delete useless rows\n",
    "df = df.drop(df.columns[[11,12,13,14,15,16,17,18,19,20,21,22,23,24]], axis='columns')"
   ]
  },
  {
   "cell_type": "code",
   "execution_count": 14,
   "metadata": {},
   "outputs": [],
   "source": [
    "df.to_csv(\"7logarithm_transformation.csv\", index = False)"
   ]
  },
  {
   "cell_type": "markdown",
   "metadata": {},
   "source": [
    "### if only relatively powerful events affect all future events within 7 days"
   ]
  },
  {
   "cell_type": "code",
   "execution_count": 20,
   "metadata": {
    "colab": {},
    "colab_type": "code",
    "id": "oNF2svYaNh82"
   },
   "outputs": [],
   "source": [
    "G1 = nx.DiGraph()"
   ]
  },
  {
   "cell_type": "code",
   "execution_count": 21,
   "metadata": {
    "colab": {},
    "colab_type": "code",
    "id": "k3j9R8PqNjMM"
   },
   "outputs": [],
   "source": [
    "for n in range(0, len(df), 1):\n",
    "  G1.add_node(n,\n",
    "             ind = df['ind'][n],\n",
    "             ind_t = df['ind_t'][n],\n",
    "             p = df['p'][n],\n",
    "             n_killed = df['log_n_killed'][n],\n",
    "             n_injured = df['log_n_injured'][n],\n",
    "             LON = df['LON'][n],\n",
    "             LAT = df['LAT'][n])"
   ]
  },
  {
   "cell_type": "code",
   "execution_count": 22,
   "metadata": {
    "colab": {},
    "colab_type": "code",
    "id": "eQdx_r8Ia82K"
   },
   "outputs": [],
   "source": [
    "for i in G1.nodes():\n",
    "  for j in G1.nodes():\n",
    "    if 0 < G1.nodes[j]['ind_t']-G1.nodes[i]['ind_t'] < 7 and G1.nodes[i]['p'] > G1.nodes[j]['p']:\n",
    "      G1.add_edge(i,j)\n",
    "    else:\n",
    "      pass"
   ]
  },
  {
   "cell_type": "code",
   "execution_count": 23,
   "metadata": {},
   "outputs": [
    {
     "data": {
      "text/plain": [
       "'Name: \\nType: DiGraph\\nNumber of nodes: 2087\\nNumber of edges: 9453\\nAverage in degree:   4.5295\\nAverage out degree:   4.5295'"
      ]
     },
     "execution_count": 23,
     "metadata": {},
     "output_type": "execute_result"
    }
   ],
   "source": [
    "nx.info(G1)"
   ]
  },
  {
   "cell_type": "markdown",
   "metadata": {},
   "source": [
    "### Degree distribution"
   ]
  },
  {
   "cell_type": "code",
   "execution_count": 24,
   "metadata": {},
   "outputs": [],
   "source": [
    "G1_degree = []\n",
    "for i in range(len(G1.nodes())):\n",
    "    G1_dgr = G1.degree(i)\n",
    "    G1_degree.append(G1_dgr)"
   ]
  },
  {
   "cell_type": "code",
   "execution_count": 25,
   "metadata": {},
   "outputs": [
    {
     "data": {
      "image/png": "[encoded data removed]",
      "text/plain": [
       "<Figure size 432x288 with 1 Axes>"
      ]
     },
     "metadata": {
      "needs_background": "light"
     },
     "output_type": "display_data"
    }
   ],
   "source": [
    "G1_dgr_dist = plt.hist(G1_degree)"
   ]
  },
  {
   "cell_type": "code",
   "execution_count": 26,
   "metadata": {},
   "outputs": [],
   "source": [
    "nx.write_gexf(G1, \"graph/G1.gexf\")"
   ]
  }
 ],
 "metadata": {
  "colab": {
   "authorship_tag": "ABX9TyMusoilq/4FWjxQDO6T3gTb",
   "collapsed_sections": [],
   "mount_file_id": "19KM7k0p3RIDndwegyrwoo_RwMYdbsqoZ",
   "name": "6.create_network(network).ipynb",
   "provenance": []
  },
  "kernelspec": {
   "display_name": "Python 3",
   "language": "python",
   "name": "python3"
  },
  "language_info": {
   "codemirror_mode": {
    "name": "ipython",
    "version": 3
   },
   "file_extension": ".py",
   "mimetype": "text/x-python",
   "name": "python",
   "nbconvert_exporter": "python",
   "pygments_lexer": "ipython3",
   "version": "3.7.7"
  }
 },
 "nbformat": 4,
 "nbformat_minor": 4
}
